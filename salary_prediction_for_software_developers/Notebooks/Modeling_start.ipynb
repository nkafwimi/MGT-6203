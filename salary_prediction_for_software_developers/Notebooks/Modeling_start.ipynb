{
 "cells": [
  {
   "cell_type": "code",
   "execution_count": 215,
   "metadata": {},
   "outputs": [],
   "source": [
    "import numpy as np\n",
    "import pandas as pd\n",
    "from sklearn.ensemble import RandomForestClassifier, RandomForestRegressor\n",
    "from sklearn.model_selection import train_test_split, RepeatedStratifiedKFold, cross_val_score\n",
    "from sklearn.model_selection import StratifiedKFold\n",
    "import lightgbm as lgb\n",
    "from functools import partial\n",
    "import scipy as sp\n",
    "from collections import Counter\n",
    "import matplotlib.pyplot as plt\n",
    "import seaborn as sns\n",
    "from sklearn.preprocessing import StandardScaler\n",
    "from sklearn.model_selection import RandomizedSearchCV\n",
    "from sklearn.metrics import roc_auc_score, classification_report"
   ]
  },
  {
   "cell_type": "code",
   "execution_count": 2,
   "metadata": {},
   "outputs": [],
   "source": [
    "# Verification: read the files into dataframes\n",
    "files = [\"../Data/model_data/model-encoded-data-0.csv\", \n",
    "         \"../Data/model_data/model-encoded-data-1.csv\", \n",
    "         \"../Data/model_data/model-encoded-data-2.csv\"]\n",
    "model_dfs = [pd.read_csv(f, sep=\",\", \n",
    "                          encoding='Latin-1', \n",
    "                          low_memory=False ) for f in files]\n",
    "\n",
    "# combine the list of dataframes\n",
    "df = pd.concat(model_dfs, ignore_index=True)"
   ]
  },
  {
   "cell_type": "code",
   "execution_count": 3,
   "metadata": {},
   "outputs": [
    {
     "data": {
      "text/html": [
       "<div>\n",
       "<style scoped>\n",
       "    .dataframe tbody tr th:only-of-type {\n",
       "        vertical-align: middle;\n",
       "    }\n",
       "\n",
       "    .dataframe tbody tr th {\n",
       "        vertical-align: top;\n",
       "    }\n",
       "\n",
       "    .dataframe thead th {\n",
       "        text-align: right;\n",
       "    }\n",
       "</style>\n",
       "<table border=\"1\" class=\"dataframe\">\n",
       "  <thead>\n",
       "    <tr style=\"text-align: right;\">\n",
       "      <th></th>\n",
       "      <th>is_female</th>\n",
       "      <th>is_male</th>\n",
       "      <th>is_gender_non_confirming</th>\n",
       "      <th>is_transgender</th>\n",
       "      <th>is_gender_unknown</th>\n",
       "      <th>is_age_18_to_24</th>\n",
       "      <th>is_age_25_to34</th>\n",
       "      <th>is_age_35_44</th>\n",
       "      <th>is_age_45_54</th>\n",
       "      <th>is_age_55_to_64</th>\n",
       "      <th>...</th>\n",
       "      <th>is_occupation_web_developer</th>\n",
       "      <th>is_IT_expr_2_to_5</th>\n",
       "      <th>is_IT_expr_6_to_10</th>\n",
       "      <th>is_IT_expr_above_11</th>\n",
       "      <th>is_IT_expr_below_2</th>\n",
       "      <th>compensation</th>\n",
       "      <th>year</th>\n",
       "      <th>country</th>\n",
       "      <th>job_satisfaction</th>\n",
       "      <th>GDP</th>\n",
       "    </tr>\n",
       "  </thead>\n",
       "  <tbody>\n",
       "    <tr>\n",
       "      <th>0</th>\n",
       "      <td>0.0</td>\n",
       "      <td>1.0</td>\n",
       "      <td>0.0</td>\n",
       "      <td>0.0</td>\n",
       "      <td>0.0</td>\n",
       "      <td>0.0</td>\n",
       "      <td>1.0</td>\n",
       "      <td>0.0</td>\n",
       "      <td>0.0</td>\n",
       "      <td>0.0</td>\n",
       "      <td>...</td>\n",
       "      <td>0.0</td>\n",
       "      <td>0.0</td>\n",
       "      <td>1.0</td>\n",
       "      <td>0.0</td>\n",
       "      <td>0.0</td>\n",
       "      <td>above-160000</td>\n",
       "      <td>2019</td>\n",
       "      <td>United States</td>\n",
       "      <td>8</td>\n",
       "      <td>65094.79943</td>\n",
       "    </tr>\n",
       "    <tr>\n",
       "      <th>1</th>\n",
       "      <td>0.0</td>\n",
       "      <td>1.0</td>\n",
       "      <td>0.0</td>\n",
       "      <td>0.0</td>\n",
       "      <td>0.0</td>\n",
       "      <td>0.0</td>\n",
       "      <td>1.0</td>\n",
       "      <td>0.0</td>\n",
       "      <td>0.0</td>\n",
       "      <td>0.0</td>\n",
       "      <td>...</td>\n",
       "      <td>0.0</td>\n",
       "      <td>1.0</td>\n",
       "      <td>0.0</td>\n",
       "      <td>0.0</td>\n",
       "      <td>0.0</td>\n",
       "      <td>above-160000</td>\n",
       "      <td>2019</td>\n",
       "      <td>United States</td>\n",
       "      <td>8</td>\n",
       "      <td>65094.79943</td>\n",
       "    </tr>\n",
       "    <tr>\n",
       "      <th>2</th>\n",
       "      <td>0.0</td>\n",
       "      <td>1.0</td>\n",
       "      <td>0.0</td>\n",
       "      <td>0.0</td>\n",
       "      <td>0.0</td>\n",
       "      <td>0.0</td>\n",
       "      <td>1.0</td>\n",
       "      <td>0.0</td>\n",
       "      <td>0.0</td>\n",
       "      <td>0.0</td>\n",
       "      <td>...</td>\n",
       "      <td>0.0</td>\n",
       "      <td>0.0</td>\n",
       "      <td>1.0</td>\n",
       "      <td>0.0</td>\n",
       "      <td>0.0</td>\n",
       "      <td>above-160000</td>\n",
       "      <td>2019</td>\n",
       "      <td>United States</td>\n",
       "      <td>8</td>\n",
       "      <td>65094.79943</td>\n",
       "    </tr>\n",
       "    <tr>\n",
       "      <th>3</th>\n",
       "      <td>0.0</td>\n",
       "      <td>1.0</td>\n",
       "      <td>0.0</td>\n",
       "      <td>0.0</td>\n",
       "      <td>0.0</td>\n",
       "      <td>0.0</td>\n",
       "      <td>1.0</td>\n",
       "      <td>0.0</td>\n",
       "      <td>0.0</td>\n",
       "      <td>0.0</td>\n",
       "      <td>...</td>\n",
       "      <td>0.0</td>\n",
       "      <td>0.0</td>\n",
       "      <td>1.0</td>\n",
       "      <td>0.0</td>\n",
       "      <td>0.0</td>\n",
       "      <td>above-160000</td>\n",
       "      <td>2019</td>\n",
       "      <td>United States</td>\n",
       "      <td>8</td>\n",
       "      <td>65094.79943</td>\n",
       "    </tr>\n",
       "    <tr>\n",
       "      <th>4</th>\n",
       "      <td>0.0</td>\n",
       "      <td>1.0</td>\n",
       "      <td>0.0</td>\n",
       "      <td>0.0</td>\n",
       "      <td>0.0</td>\n",
       "      <td>0.0</td>\n",
       "      <td>1.0</td>\n",
       "      <td>0.0</td>\n",
       "      <td>0.0</td>\n",
       "      <td>0.0</td>\n",
       "      <td>...</td>\n",
       "      <td>0.0</td>\n",
       "      <td>1.0</td>\n",
       "      <td>0.0</td>\n",
       "      <td>0.0</td>\n",
       "      <td>0.0</td>\n",
       "      <td>above-160000</td>\n",
       "      <td>2019</td>\n",
       "      <td>United States</td>\n",
       "      <td>8</td>\n",
       "      <td>65094.79943</td>\n",
       "    </tr>\n",
       "  </tbody>\n",
       "</table>\n",
       "<p>5 rows × 63 columns</p>\n",
       "</div>"
      ],
      "text/plain": [
       "   is_female  is_male  is_gender_non_confirming  is_transgender  \\\n",
       "0        0.0      1.0                       0.0             0.0   \n",
       "1        0.0      1.0                       0.0             0.0   \n",
       "2        0.0      1.0                       0.0             0.0   \n",
       "3        0.0      1.0                       0.0             0.0   \n",
       "4        0.0      1.0                       0.0             0.0   \n",
       "\n",
       "   is_gender_unknown  is_age_18_to_24  is_age_25_to34  is_age_35_44  \\\n",
       "0                0.0              0.0             1.0           0.0   \n",
       "1                0.0              0.0             1.0           0.0   \n",
       "2                0.0              0.0             1.0           0.0   \n",
       "3                0.0              0.0             1.0           0.0   \n",
       "4                0.0              0.0             1.0           0.0   \n",
       "\n",
       "   is_age_45_54  is_age_55_to_64  ...  is_occupation_web_developer  \\\n",
       "0           0.0              0.0  ...                          0.0   \n",
       "1           0.0              0.0  ...                          0.0   \n",
       "2           0.0              0.0  ...                          0.0   \n",
       "3           0.0              0.0  ...                          0.0   \n",
       "4           0.0              0.0  ...                          0.0   \n",
       "\n",
       "   is_IT_expr_2_to_5  is_IT_expr_6_to_10  is_IT_expr_above_11  \\\n",
       "0                0.0                 1.0                  0.0   \n",
       "1                1.0                 0.0                  0.0   \n",
       "2                0.0                 1.0                  0.0   \n",
       "3                0.0                 1.0                  0.0   \n",
       "4                1.0                 0.0                  0.0   \n",
       "\n",
       "   is_IT_expr_below_2  compensation  year        country  job_satisfaction  \\\n",
       "0                 0.0  above-160000  2019  United States                 8   \n",
       "1                 0.0  above-160000  2019  United States                 8   \n",
       "2                 0.0  above-160000  2019  United States                 8   \n",
       "3                 0.0  above-160000  2019  United States                 8   \n",
       "4                 0.0  above-160000  2019  United States                 8   \n",
       "\n",
       "           GDP  \n",
       "0  65094.79943  \n",
       "1  65094.79943  \n",
       "2  65094.79943  \n",
       "3  65094.79943  \n",
       "4  65094.79943  \n",
       "\n",
       "[5 rows x 63 columns]"
      ]
     },
     "execution_count": 3,
     "metadata": {},
     "output_type": "execute_result"
    }
   ],
   "source": [
    "df.head()"
   ]
  },
  {
   "cell_type": "code",
   "execution_count": 4,
   "metadata": {},
   "outputs": [
    {
     "data": {
      "text/plain": [
       "Index(['is_female', 'is_male', 'is_gender_non_confirming', 'is_transgender',\n",
       "       'is_gender_unknown', 'is_age_18_to_24', 'is_age_25_to34',\n",
       "       'is_age_35_44', 'is_age_45_54', 'is_age_55_to_64', 'is_age_above_65',\n",
       "       'is_age_below_18', 'is_company_size_1000_to_4999',\n",
       "       'is_company_size_100_to_499', 'is_company_size_5000_to_9999',\n",
       "       'is_company_size_500_to_999', 'is_company_size_unknown',\n",
       "       'is_company_size_above_10000', 'is_company_size_below_100',\n",
       "       'is_desktop_os_linux', 'is_desktop_os_mac', 'is_desktop_os_unix',\n",
       "       'is_desktop_os_windows', 'is_lang_c#', 'is_lang_c_c++',\n",
       "       'is_lang_hadoop', 'is_lang_html_css', 'is_lang_java',\n",
       "       'is_lang_javascript_nodejs', 'is_lang_lua', 'is_lang_objective_C',\n",
       "       'is_lang_other', 'is_lang_perl', 'is_lang_php', 'is_lang_powershell',\n",
       "       'is_lang_python', 'is_lang_r', 'is_lang_ruby', 'is_lang_scala',\n",
       "       'is_lang_sql', 'is_lang_swift', 'is_lang_visual_basic',\n",
       "       'is_occupation_c_suite', 'is_occupation_data_analyst',\n",
       "       'is_occupation_data_scientist', 'is_occupation_desktop_developer',\n",
       "       'is_occupation_developer', 'is_occupation_engineer',\n",
       "       'is_occupation_manager', 'is_occupation_mobile_developer',\n",
       "       'is_occupation_not_in_tech', 'is_occupation_other',\n",
       "       'is_occupation_system_admin', 'is_occupation_web_developer',\n",
       "       'is_IT_expr_2_to_5', 'is_IT_expr_6_to_10', 'is_IT_expr_above_11',\n",
       "       'is_IT_expr_below_2', 'compensation', 'year', 'country',\n",
       "       'job_satisfaction', 'GDP'],\n",
       "      dtype='object')"
      ]
     },
     "execution_count": 4,
     "metadata": {},
     "output_type": "execute_result"
    }
   ],
   "source": [
    "df.columns"
   ]
  },
  {
   "cell_type": "code",
   "execution_count": 5,
   "metadata": {},
   "outputs": [],
   "source": [
    "#Don't use these columns\n",
    "cols_excl = ['country', 'year']\n",
    "df = df.drop(cols_excl, axis=1)"
   ]
  },
  {
   "cell_type": "code",
   "execution_count": 6,
   "metadata": {},
   "outputs": [
    {
     "name": "stdout",
     "output_type": "stream",
     "text": [
      "Dataframe without NaN and 0 in compensation is 100.0% of the original dataframe.\n",
      "There are 252740 data points in it compared to 252740 entries in the original dataframe.\n",
      "\n",
      "Information on missing values in the dataframe df_salary:\n"
     ]
    },
    {
     "data": {
      "text/plain": [
       "is_female                   0.0\n",
       "is_male                     0.0\n",
       "is_gender_non_confirming    0.0\n",
       "is_transgender              0.0\n",
       "is_gender_unknown           0.0\n",
       "                           ... \n",
       "is_IT_expr_above_11         0.0\n",
       "is_IT_expr_below_2          0.0\n",
       "compensation                0.0\n",
       "job_satisfaction            0.0\n",
       "GDP                         0.0\n",
       "Length: 61, dtype: float64"
      ]
     },
     "execution_count": 6,
     "metadata": {},
     "output_type": "execute_result"
    }
   ],
   "source": [
    "#df_salary is a dataframe after dropping data points with NaN in 'compensation'\n",
    "df_salary = df.dropna(subset=['compensation'])[df.dropna(subset=['compensation'])['compensation']!=0]\n",
    "print('Dataframe without NaN and 0 in compensation is {}%'.format(round(len(df_salary)/len(df)*100, 2)), 'of the original dataframe.')\n",
    "print('There are {}'.format(len(df_salary)), 'data points in it compared to {}'.format(len(df)), 'entries in the original dataframe.\\n')\n",
    "print('Information on missing values in the dataframe df_salary:')\n",
    "df_salary.isna().sum()/len(df_salary)*100"
   ]
  },
  {
   "cell_type": "code",
   "execution_count": 7,
   "metadata": {},
   "outputs": [
    {
     "data": {
      "text/plain": [
       "array(['above-160000', '80000-100000', '100000-120000', '60000-to-80000',\n",
       "       '120000-140000', '140000-160000', '40000-60000', '20000-40000',\n",
       "       'below-20000', '60000-80000'], dtype=object)"
      ]
     },
     "execution_count": 7,
     "metadata": {},
     "output_type": "execute_result"
    }
   ],
   "source": [
    "df_salary['compensation'].unique()"
   ]
  },
  {
   "cell_type": "code",
   "execution_count": 8,
   "metadata": {},
   "outputs": [],
   "source": [
    "comp_int_dict = {'below-20000': 1, '20000-40000': 2, '40000-60000': 3, '60000-to-80000': 4, \"60000-80000\": 4, \n",
    "                 '80000-100000': 5,'100000-120000': 6, '12000-140000': 7, '120000-140000':7,\n",
    "                 '140000-160000': 8, 'above-160000': 9}"
   ]
  },
  {
   "cell_type": "code",
   "execution_count": 9,
   "metadata": {},
   "outputs": [],
   "source": [
    "df_salary.replace({'compensation':comp_int_dict}, inplace=True)"
   ]
  },
  {
   "cell_type": "code",
   "execution_count": 10,
   "metadata": {},
   "outputs": [
    {
     "data": {
      "text/plain": [
       "array([9, 5, 6, 4, 7, 8, 3, 2, 1], dtype=int64)"
      ]
     },
     "execution_count": 10,
     "metadata": {},
     "output_type": "execute_result"
    }
   ],
   "source": [
    "df_salary['compensation'].unique()"
   ]
  },
  {
   "cell_type": "code",
   "execution_count": 11,
   "metadata": {},
   "outputs": [
    {
     "data": {
      "text/html": [
       "<div>\n",
       "<style scoped>\n",
       "    .dataframe tbody tr th:only-of-type {\n",
       "        vertical-align: middle;\n",
       "    }\n",
       "\n",
       "    .dataframe tbody tr th {\n",
       "        vertical-align: top;\n",
       "    }\n",
       "\n",
       "    .dataframe thead th {\n",
       "        text-align: right;\n",
       "    }\n",
       "</style>\n",
       "<table border=\"1\" class=\"dataframe\">\n",
       "  <thead>\n",
       "    <tr style=\"text-align: right;\">\n",
       "      <th></th>\n",
       "      <th>is_female</th>\n",
       "      <th>is_male</th>\n",
       "      <th>is_gender_non_confirming</th>\n",
       "      <th>is_transgender</th>\n",
       "      <th>is_gender_unknown</th>\n",
       "      <th>is_age_18_to_24</th>\n",
       "      <th>is_age_25_to34</th>\n",
       "      <th>is_age_35_44</th>\n",
       "      <th>is_age_45_54</th>\n",
       "      <th>is_age_55_to_64</th>\n",
       "      <th>...</th>\n",
       "      <th>is_occupation_other</th>\n",
       "      <th>is_occupation_system_admin</th>\n",
       "      <th>is_occupation_web_developer</th>\n",
       "      <th>is_IT_expr_2_to_5</th>\n",
       "      <th>is_IT_expr_6_to_10</th>\n",
       "      <th>is_IT_expr_above_11</th>\n",
       "      <th>is_IT_expr_below_2</th>\n",
       "      <th>compensation</th>\n",
       "      <th>job_satisfaction</th>\n",
       "      <th>GDP</th>\n",
       "    </tr>\n",
       "  </thead>\n",
       "  <tbody>\n",
       "    <tr>\n",
       "      <th>0</th>\n",
       "      <td>0.0</td>\n",
       "      <td>1.0</td>\n",
       "      <td>0.0</td>\n",
       "      <td>0.0</td>\n",
       "      <td>0.0</td>\n",
       "      <td>0.0</td>\n",
       "      <td>1.0</td>\n",
       "      <td>0.0</td>\n",
       "      <td>0.0</td>\n",
       "      <td>0.0</td>\n",
       "      <td>...</td>\n",
       "      <td>0.0</td>\n",
       "      <td>0.0</td>\n",
       "      <td>0.0</td>\n",
       "      <td>0.0</td>\n",
       "      <td>1.0</td>\n",
       "      <td>0.0</td>\n",
       "      <td>0.0</td>\n",
       "      <td>9</td>\n",
       "      <td>8</td>\n",
       "      <td>65094.79943</td>\n",
       "    </tr>\n",
       "    <tr>\n",
       "      <th>1</th>\n",
       "      <td>0.0</td>\n",
       "      <td>1.0</td>\n",
       "      <td>0.0</td>\n",
       "      <td>0.0</td>\n",
       "      <td>0.0</td>\n",
       "      <td>0.0</td>\n",
       "      <td>1.0</td>\n",
       "      <td>0.0</td>\n",
       "      <td>0.0</td>\n",
       "      <td>0.0</td>\n",
       "      <td>...</td>\n",
       "      <td>0.0</td>\n",
       "      <td>0.0</td>\n",
       "      <td>0.0</td>\n",
       "      <td>1.0</td>\n",
       "      <td>0.0</td>\n",
       "      <td>0.0</td>\n",
       "      <td>0.0</td>\n",
       "      <td>9</td>\n",
       "      <td>8</td>\n",
       "      <td>65094.79943</td>\n",
       "    </tr>\n",
       "    <tr>\n",
       "      <th>2</th>\n",
       "      <td>0.0</td>\n",
       "      <td>1.0</td>\n",
       "      <td>0.0</td>\n",
       "      <td>0.0</td>\n",
       "      <td>0.0</td>\n",
       "      <td>0.0</td>\n",
       "      <td>1.0</td>\n",
       "      <td>0.0</td>\n",
       "      <td>0.0</td>\n",
       "      <td>0.0</td>\n",
       "      <td>...</td>\n",
       "      <td>0.0</td>\n",
       "      <td>0.0</td>\n",
       "      <td>0.0</td>\n",
       "      <td>0.0</td>\n",
       "      <td>1.0</td>\n",
       "      <td>0.0</td>\n",
       "      <td>0.0</td>\n",
       "      <td>9</td>\n",
       "      <td>8</td>\n",
       "      <td>65094.79943</td>\n",
       "    </tr>\n",
       "    <tr>\n",
       "      <th>3</th>\n",
       "      <td>0.0</td>\n",
       "      <td>1.0</td>\n",
       "      <td>0.0</td>\n",
       "      <td>0.0</td>\n",
       "      <td>0.0</td>\n",
       "      <td>0.0</td>\n",
       "      <td>1.0</td>\n",
       "      <td>0.0</td>\n",
       "      <td>0.0</td>\n",
       "      <td>0.0</td>\n",
       "      <td>...</td>\n",
       "      <td>0.0</td>\n",
       "      <td>0.0</td>\n",
       "      <td>0.0</td>\n",
       "      <td>0.0</td>\n",
       "      <td>1.0</td>\n",
       "      <td>0.0</td>\n",
       "      <td>0.0</td>\n",
       "      <td>9</td>\n",
       "      <td>8</td>\n",
       "      <td>65094.79943</td>\n",
       "    </tr>\n",
       "    <tr>\n",
       "      <th>4</th>\n",
       "      <td>0.0</td>\n",
       "      <td>1.0</td>\n",
       "      <td>0.0</td>\n",
       "      <td>0.0</td>\n",
       "      <td>0.0</td>\n",
       "      <td>0.0</td>\n",
       "      <td>1.0</td>\n",
       "      <td>0.0</td>\n",
       "      <td>0.0</td>\n",
       "      <td>0.0</td>\n",
       "      <td>...</td>\n",
       "      <td>0.0</td>\n",
       "      <td>0.0</td>\n",
       "      <td>0.0</td>\n",
       "      <td>1.0</td>\n",
       "      <td>0.0</td>\n",
       "      <td>0.0</td>\n",
       "      <td>0.0</td>\n",
       "      <td>9</td>\n",
       "      <td>8</td>\n",
       "      <td>65094.79943</td>\n",
       "    </tr>\n",
       "  </tbody>\n",
       "</table>\n",
       "<p>5 rows × 61 columns</p>\n",
       "</div>"
      ],
      "text/plain": [
       "   is_female  is_male  is_gender_non_confirming  is_transgender  \\\n",
       "0        0.0      1.0                       0.0             0.0   \n",
       "1        0.0      1.0                       0.0             0.0   \n",
       "2        0.0      1.0                       0.0             0.0   \n",
       "3        0.0      1.0                       0.0             0.0   \n",
       "4        0.0      1.0                       0.0             0.0   \n",
       "\n",
       "   is_gender_unknown  is_age_18_to_24  is_age_25_to34  is_age_35_44  \\\n",
       "0                0.0              0.0             1.0           0.0   \n",
       "1                0.0              0.0             1.0           0.0   \n",
       "2                0.0              0.0             1.0           0.0   \n",
       "3                0.0              0.0             1.0           0.0   \n",
       "4                0.0              0.0             1.0           0.0   \n",
       "\n",
       "   is_age_45_54  is_age_55_to_64  ...  is_occupation_other  \\\n",
       "0           0.0              0.0  ...                  0.0   \n",
       "1           0.0              0.0  ...                  0.0   \n",
       "2           0.0              0.0  ...                  0.0   \n",
       "3           0.0              0.0  ...                  0.0   \n",
       "4           0.0              0.0  ...                  0.0   \n",
       "\n",
       "   is_occupation_system_admin  is_occupation_web_developer  is_IT_expr_2_to_5  \\\n",
       "0                         0.0                          0.0                0.0   \n",
       "1                         0.0                          0.0                1.0   \n",
       "2                         0.0                          0.0                0.0   \n",
       "3                         0.0                          0.0                0.0   \n",
       "4                         0.0                          0.0                1.0   \n",
       "\n",
       "   is_IT_expr_6_to_10  is_IT_expr_above_11  is_IT_expr_below_2  compensation  \\\n",
       "0                 1.0                  0.0                 0.0             9   \n",
       "1                 0.0                  0.0                 0.0             9   \n",
       "2                 1.0                  0.0                 0.0             9   \n",
       "3                 1.0                  0.0                 0.0             9   \n",
       "4                 0.0                  0.0                 0.0             9   \n",
       "\n",
       "   job_satisfaction          GDP  \n",
       "0                 8  65094.79943  \n",
       "1                 8  65094.79943  \n",
       "2                 8  65094.79943  \n",
       "3                 8  65094.79943  \n",
       "4                 8  65094.79943  \n",
       "\n",
       "[5 rows x 61 columns]"
      ]
     },
     "execution_count": 11,
     "metadata": {},
     "output_type": "execute_result"
    }
   ],
   "source": [
    "df_salary.head()"
   ]
  },
  {
   "cell_type": "code",
   "execution_count": 12,
   "metadata": {},
   "outputs": [
    {
     "data": {
      "text/html": [
       "<div>\n",
       "<style scoped>\n",
       "    .dataframe tbody tr th:only-of-type {\n",
       "        vertical-align: middle;\n",
       "    }\n",
       "\n",
       "    .dataframe tbody tr th {\n",
       "        vertical-align: top;\n",
       "    }\n",
       "\n",
       "    .dataframe thead th {\n",
       "        text-align: right;\n",
       "    }\n",
       "</style>\n",
       "<table border=\"1\" class=\"dataframe\">\n",
       "  <thead>\n",
       "    <tr style=\"text-align: right;\">\n",
       "      <th></th>\n",
       "      <th>is_female</th>\n",
       "      <th>is_male</th>\n",
       "      <th>is_gender_non_confirming</th>\n",
       "      <th>is_transgender</th>\n",
       "      <th>is_gender_unknown</th>\n",
       "      <th>is_age_18_to_24</th>\n",
       "      <th>is_age_25_to34</th>\n",
       "      <th>is_age_35_44</th>\n",
       "      <th>is_age_45_54</th>\n",
       "      <th>is_age_55_to_64</th>\n",
       "      <th>...</th>\n",
       "      <th>is_occupation_not_in_tech</th>\n",
       "      <th>is_occupation_other</th>\n",
       "      <th>is_occupation_system_admin</th>\n",
       "      <th>is_occupation_web_developer</th>\n",
       "      <th>is_IT_expr_2_to_5</th>\n",
       "      <th>is_IT_expr_6_to_10</th>\n",
       "      <th>is_IT_expr_above_11</th>\n",
       "      <th>is_IT_expr_below_2</th>\n",
       "      <th>job_satisfaction</th>\n",
       "      <th>GDP</th>\n",
       "    </tr>\n",
       "  </thead>\n",
       "  <tbody>\n",
       "    <tr>\n",
       "      <th>0</th>\n",
       "      <td>0.0</td>\n",
       "      <td>1.0</td>\n",
       "      <td>0.0</td>\n",
       "      <td>0.0</td>\n",
       "      <td>0.0</td>\n",
       "      <td>0.0</td>\n",
       "      <td>1.0</td>\n",
       "      <td>0.0</td>\n",
       "      <td>0.0</td>\n",
       "      <td>0.0</td>\n",
       "      <td>...</td>\n",
       "      <td>0.0</td>\n",
       "      <td>0.0</td>\n",
       "      <td>0.0</td>\n",
       "      <td>0.0</td>\n",
       "      <td>0.0</td>\n",
       "      <td>1.0</td>\n",
       "      <td>0.0</td>\n",
       "      <td>0.0</td>\n",
       "      <td>1.33255</td>\n",
       "      <td>1.119652</td>\n",
       "    </tr>\n",
       "    <tr>\n",
       "      <th>1</th>\n",
       "      <td>0.0</td>\n",
       "      <td>1.0</td>\n",
       "      <td>0.0</td>\n",
       "      <td>0.0</td>\n",
       "      <td>0.0</td>\n",
       "      <td>0.0</td>\n",
       "      <td>1.0</td>\n",
       "      <td>0.0</td>\n",
       "      <td>0.0</td>\n",
       "      <td>0.0</td>\n",
       "      <td>...</td>\n",
       "      <td>0.0</td>\n",
       "      <td>0.0</td>\n",
       "      <td>0.0</td>\n",
       "      <td>0.0</td>\n",
       "      <td>1.0</td>\n",
       "      <td>0.0</td>\n",
       "      <td>0.0</td>\n",
       "      <td>0.0</td>\n",
       "      <td>1.33255</td>\n",
       "      <td>1.119652</td>\n",
       "    </tr>\n",
       "    <tr>\n",
       "      <th>2</th>\n",
       "      <td>0.0</td>\n",
       "      <td>1.0</td>\n",
       "      <td>0.0</td>\n",
       "      <td>0.0</td>\n",
       "      <td>0.0</td>\n",
       "      <td>0.0</td>\n",
       "      <td>1.0</td>\n",
       "      <td>0.0</td>\n",
       "      <td>0.0</td>\n",
       "      <td>0.0</td>\n",
       "      <td>...</td>\n",
       "      <td>0.0</td>\n",
       "      <td>0.0</td>\n",
       "      <td>0.0</td>\n",
       "      <td>0.0</td>\n",
       "      <td>0.0</td>\n",
       "      <td>1.0</td>\n",
       "      <td>0.0</td>\n",
       "      <td>0.0</td>\n",
       "      <td>1.33255</td>\n",
       "      <td>1.119652</td>\n",
       "    </tr>\n",
       "    <tr>\n",
       "      <th>3</th>\n",
       "      <td>0.0</td>\n",
       "      <td>1.0</td>\n",
       "      <td>0.0</td>\n",
       "      <td>0.0</td>\n",
       "      <td>0.0</td>\n",
       "      <td>0.0</td>\n",
       "      <td>1.0</td>\n",
       "      <td>0.0</td>\n",
       "      <td>0.0</td>\n",
       "      <td>0.0</td>\n",
       "      <td>...</td>\n",
       "      <td>0.0</td>\n",
       "      <td>0.0</td>\n",
       "      <td>0.0</td>\n",
       "      <td>0.0</td>\n",
       "      <td>0.0</td>\n",
       "      <td>1.0</td>\n",
       "      <td>0.0</td>\n",
       "      <td>0.0</td>\n",
       "      <td>1.33255</td>\n",
       "      <td>1.119652</td>\n",
       "    </tr>\n",
       "    <tr>\n",
       "      <th>4</th>\n",
       "      <td>0.0</td>\n",
       "      <td>1.0</td>\n",
       "      <td>0.0</td>\n",
       "      <td>0.0</td>\n",
       "      <td>0.0</td>\n",
       "      <td>0.0</td>\n",
       "      <td>1.0</td>\n",
       "      <td>0.0</td>\n",
       "      <td>0.0</td>\n",
       "      <td>0.0</td>\n",
       "      <td>...</td>\n",
       "      <td>0.0</td>\n",
       "      <td>0.0</td>\n",
       "      <td>0.0</td>\n",
       "      <td>0.0</td>\n",
       "      <td>1.0</td>\n",
       "      <td>0.0</td>\n",
       "      <td>0.0</td>\n",
       "      <td>0.0</td>\n",
       "      <td>1.33255</td>\n",
       "      <td>1.119652</td>\n",
       "    </tr>\n",
       "  </tbody>\n",
       "</table>\n",
       "<p>5 rows × 60 columns</p>\n",
       "</div>"
      ],
      "text/plain": [
       "   is_female  is_male  is_gender_non_confirming  is_transgender  \\\n",
       "0        0.0      1.0                       0.0             0.0   \n",
       "1        0.0      1.0                       0.0             0.0   \n",
       "2        0.0      1.0                       0.0             0.0   \n",
       "3        0.0      1.0                       0.0             0.0   \n",
       "4        0.0      1.0                       0.0             0.0   \n",
       "\n",
       "   is_gender_unknown  is_age_18_to_24  is_age_25_to34  is_age_35_44  \\\n",
       "0                0.0              0.0             1.0           0.0   \n",
       "1                0.0              0.0             1.0           0.0   \n",
       "2                0.0              0.0             1.0           0.0   \n",
       "3                0.0              0.0             1.0           0.0   \n",
       "4                0.0              0.0             1.0           0.0   \n",
       "\n",
       "   is_age_45_54  is_age_55_to_64  ...  is_occupation_not_in_tech  \\\n",
       "0           0.0              0.0  ...                        0.0   \n",
       "1           0.0              0.0  ...                        0.0   \n",
       "2           0.0              0.0  ...                        0.0   \n",
       "3           0.0              0.0  ...                        0.0   \n",
       "4           0.0              0.0  ...                        0.0   \n",
       "\n",
       "   is_occupation_other  is_occupation_system_admin  \\\n",
       "0                  0.0                         0.0   \n",
       "1                  0.0                         0.0   \n",
       "2                  0.0                         0.0   \n",
       "3                  0.0                         0.0   \n",
       "4                  0.0                         0.0   \n",
       "\n",
       "   is_occupation_web_developer  is_IT_expr_2_to_5  is_IT_expr_6_to_10  \\\n",
       "0                          0.0                0.0                 1.0   \n",
       "1                          0.0                1.0                 0.0   \n",
       "2                          0.0                0.0                 1.0   \n",
       "3                          0.0                0.0                 1.0   \n",
       "4                          0.0                1.0                 0.0   \n",
       "\n",
       "   is_IT_expr_above_11  is_IT_expr_below_2  job_satisfaction       GDP  \n",
       "0                  0.0                 0.0           1.33255  1.119652  \n",
       "1                  0.0                 0.0           1.33255  1.119652  \n",
       "2                  0.0                 0.0           1.33255  1.119652  \n",
       "3                  0.0                 0.0           1.33255  1.119652  \n",
       "4                  0.0                 0.0           1.33255  1.119652  \n",
       "\n",
       "[5 rows x 60 columns]"
      ]
     },
     "metadata": {},
     "output_type": "display_data"
    },
    {
     "name": "stdout",
     "output_type": "stream",
     "text": [
      "Index(['is_female', 'is_male', 'is_gender_non_confirming', 'is_transgender',\n",
      "       'is_gender_unknown', 'is_age_18_to_24', 'is_age_25_to34',\n",
      "       'is_age_35_44', 'is_age_45_54', 'is_age_55_to_64', 'is_age_above_65',\n",
      "       'is_age_below_18', 'is_company_size_1000_to_4999',\n",
      "       'is_company_size_100_to_499', 'is_company_size_5000_to_9999',\n",
      "       'is_company_size_500_to_999', 'is_company_size_unknown',\n",
      "       'is_company_size_above_10000', 'is_company_size_below_100',\n",
      "       'is_desktop_os_linux', 'is_desktop_os_mac', 'is_desktop_os_unix',\n",
      "       'is_desktop_os_windows', 'is_lang_c#', 'is_lang_c_c++',\n",
      "       'is_lang_hadoop', 'is_lang_html_css', 'is_lang_java',\n",
      "       'is_lang_javascript_nodejs', 'is_lang_lua', 'is_lang_objective_C',\n",
      "       'is_lang_other', 'is_lang_perl', 'is_lang_php', 'is_lang_powershell',\n",
      "       'is_lang_python', 'is_lang_r', 'is_lang_ruby', 'is_lang_scala',\n",
      "       'is_lang_sql', 'is_lang_swift', 'is_lang_visual_basic',\n",
      "       'is_occupation_c_suite', 'is_occupation_data_analyst',\n",
      "       'is_occupation_data_scientist', 'is_occupation_desktop_developer',\n",
      "       'is_occupation_developer', 'is_occupation_engineer',\n",
      "       'is_occupation_manager', 'is_occupation_mobile_developer',\n",
      "       'is_occupation_not_in_tech', 'is_occupation_other',\n",
      "       'is_occupation_system_admin', 'is_occupation_web_developer',\n",
      "       'is_IT_expr_2_to_5', 'is_IT_expr_6_to_10', 'is_IT_expr_above_11',\n",
      "       'is_IT_expr_below_2', 'job_satisfaction', 'GDP'],\n",
      "      dtype='object')\n"
     ]
    }
   ],
   "source": [
    "#Define data (predictors) and response\n",
    "data_df = df_salary.drop('compensation', axis=1)\n",
    "\n",
    "# Some code to scale numerical data\n",
    "cols_to_scale = ['job_satisfaction', 'GDP']\n",
    "train_numerical = data_df[cols_to_scale].copy()\n",
    "sc = StandardScaler()\n",
    "sc.fit(train_numerical)\n",
    "train_scaled = sc.transform(train_numerical)\n",
    "train_scaled = pd.DataFrame(train_scaled, columns = train_numerical.columns)\n",
    "data_df_scaled = pd.concat([data_df.drop(cols_to_scale, axis=1), train_scaled], axis=1)\n",
    "display(data_df_scaled.head()) #scaled job satisfaction and GDP data\n",
    " \n",
    "print(data_df_scaled.columns) #checking that 'compensation' is not there\n",
    "data = data_df_scaled.to_numpy()\n",
    "#Temporarily drop GDP\n",
    "# data = data_df_scaled.drop('GDP', axis=1).to_numpy()\n",
    "salary = df_salary['compensation'].to_numpy()"
   ]
  },
  {
   "cell_type": "code",
   "execution_count": 13,
   "metadata": {},
   "outputs": [
    {
     "data": {
      "text/plain": [
       "array([1, 2, 3, 4, 5, 6, 7, 8, 9], dtype=int64)"
      ]
     },
     "execution_count": 13,
     "metadata": {},
     "output_type": "execute_result"
    }
   ],
   "source": [
    "np.unique(salary)"
   ]
  },
  {
   "cell_type": "code",
   "execution_count": 14,
   "metadata": {},
   "outputs": [
    {
     "data": {
      "text/plain": [
       "(252740, 60)"
      ]
     },
     "execution_count": 14,
     "metadata": {},
     "output_type": "execute_result"
    }
   ],
   "source": [
    "data.shape"
   ]
  },
  {
   "cell_type": "code",
   "execution_count": 15,
   "metadata": {},
   "outputs": [
    {
     "data": {
      "text/plain": [
       "(252740,)"
      ]
     },
     "execution_count": 15,
     "metadata": {},
     "output_type": "execute_result"
    }
   ],
   "source": [
    "salary.shape"
   ]
  },
  {
   "cell_type": "code",
   "execution_count": 16,
   "metadata": {},
   "outputs": [],
   "source": [
    "#Could be nice for visualization for model report, compare with real values\n",
    "def confusion_matrix(rater_a, rater_b, min_rating=None, max_rating=None):\n",
    "    \"\"\"\n",
    "    Returns the confusion matrix between rater's ratings\n",
    "    \"\"\"\n",
    "    assert (len(rater_a) == len(rater_b))\n",
    "    if min_rating is None:\n",
    "        min_rating = min(rater_a + rater_b)\n",
    "    if max_rating is None:\n",
    "        max_rating = max(rater_a + rater_b)\n",
    "    num_ratings = int(max_rating - min_rating + 1)\n",
    "    conf_mat = [[0 for i in range(num_ratings)]\n",
    "                for j in range(num_ratings)]\n",
    "    for a, b in zip(rater_a, rater_b):\n",
    "        conf_mat[a - min_rating][b - min_rating] += 1\n",
    "    return conf_mat\n",
    "\n",
    "\n",
    "#Could be used to include in a model report, compare with real values\n",
    "def histogram(ratings, min_rating=None, max_rating=None):\n",
    "    \"\"\"\n",
    "    Returns the counts of each type of rating that a rater made\n",
    "    \"\"\"\n",
    "    if min_rating is None:\n",
    "        min_rating = min(ratings)\n",
    "    if max_rating is None:\n",
    "        max_rating = max(ratings)\n",
    "    num_ratings = int(max_rating - min_rating + 1)\n",
    "    hist_ratings = [0 for x in range(num_ratings)]\n",
    "    for r in ratings:\n",
    "        hist_ratings[r - min_rating] += 1\n",
    "    return hist_ratings\n",
    "\n",
    "#Define evaluation metric\n",
    "def quadratic_weighted_kappa(y, y_pred):\n",
    "    rater_a = y\n",
    "    rater_b = y_pred\n",
    "    min_rating = None\n",
    "    max_rating = None\n",
    "    rater_a = np.array(rater_a, dtype=int)\n",
    "    rater_b = np.array(rater_b, dtype=int)\n",
    "    assert (len(rater_a) == len(rater_b))\n",
    "    if min_rating is None:\n",
    "        min_rating = min(min(rater_a), min(rater_b))\n",
    "    if max_rating is None:\n",
    "        max_rating = max(max(rater_a), max(rater_b))\n",
    "    conf_mat = confusion_matrix(rater_a, rater_b,\n",
    "                                min_rating, max_rating)\n",
    "    num_ratings = len(conf_mat)\n",
    "    num_scored_items = float(len(rater_a))\n",
    "\n",
    "    hist_rater_a = histogram(rater_a, min_rating, max_rating)\n",
    "    hist_rater_b = histogram(rater_b, min_rating, max_rating)\n",
    "\n",
    "    numerator = 0.0\n",
    "    denominator = 0.0\n",
    "\n",
    "    for i in range(num_ratings):\n",
    "        for j in range(num_ratings):\n",
    "            expected_count = (hist_rater_a[i] * hist_rater_b[j]\n",
    "                              / num_scored_items)\n",
    "            d = pow(i - j, 2.0) / pow(num_ratings - 1, 2.0)\n",
    "            numerator += d * conf_mat[i][j] / num_scored_items\n",
    "            denominator += d * expected_count / num_scored_items\n",
    "\n",
    "    return (1.0 - numerator / denominator)"
   ]
  },
  {
   "cell_type": "markdown",
   "metadata": {},
   "source": [
    "## Light Gradient Boosting Machine regressor ##"
   ]
  },
  {
   "cell_type": "markdown",
   "metadata": {},
   "source": [
    "**Rounding to nearest integer**"
   ]
  },
  {
   "cell_type": "markdown",
   "metadata": {},
   "source": [
    "5-fold CV"
   ]
  },
  {
   "cell_type": "code",
   "execution_count": 29,
   "metadata": {},
   "outputs": [],
   "source": [
    "#Split data into train and test datasets - do again to ensure variables are correctly assigned\n",
    "data_train, data_test, labels_train, labels_test = train_test_split(data, salary, test_size = 0.2, random_state = 0)\n",
    "\n",
    "cv_scores = np.empty(5)\n",
    "cv = StratifiedKFold(n_splits=5, shuffle=True, random_state=1)\n",
    "\n",
    "for idx, (train_idx, test_idx) in enumerate(cv.split(data_train, labels_train)):\n",
    "    X_train, X_test = data_train[train_idx], data_train[test_idx]\n",
    "    y_train, y_test = labels_train[train_idx], labels_train[test_idx]    \n",
    "    model = lgb.LGBMRegressor()\n",
    "    pred = model.fit(X_train, y_train).predict(X_test).astype(np.int32) #rounding to nearest integer\n",
    "    qwk = quadratic_weighted_kappa(pred,y_test)\n",
    "    cv_scores[idx] = qwk"
   ]
  },
  {
   "cell_type": "code",
   "execution_count": 25,
   "metadata": {},
   "outputs": [
    {
     "name": "stdout",
     "output_type": "stream",
     "text": [
      "For LGBM rounding to the nearest integer the mean quadratic weighted kappa score in stratified 5-fold CV is 0.6225676657816221.\n"
     ]
    }
   ],
   "source": [
    "print('For LGBM rounding to the nearest integer the mean quadratic weighted kappa score in stratified 5-fold CV is {}.'.format(np.mean(cv_scores)))"
   ]
  },
  {
   "cell_type": "markdown",
   "metadata": {},
   "source": [
    "Score for test set"
   ]
  },
  {
   "cell_type": "code",
   "execution_count": 30,
   "metadata": {},
   "outputs": [
    {
     "name": "stdout",
     "output_type": "stream",
     "text": [
      "Test set QWK for LGBM regressor with rounding of salary categories to nearest integer is 0.6216168228947487\n"
     ]
    }
   ],
   "source": [
    "#Split data into train and test datasets\n",
    "x_train, x_test, y_train, y_test = train_test_split(data, salary, test_size = 0.2, random_state = 0)\n",
    "\n",
    "test_y = y_test\n",
    "gbm_reg = lgb.LGBMRegressor()\n",
    "gbm_reg.fit(X=x_train, y=y_train)\n",
    "pred_test_y_k = gbm_reg.predict(x_test).astype(np.int32) #rounding to nearest integer\n",
    "qwk = quadratic_weighted_kappa(test_y, pred_test_y_k)\n",
    "print(\"Test set QWK for LGBM regressor with rounding of salary categories to nearest integer is\", qwk)"
   ]
  },
  {
   "cell_type": "markdown",
   "metadata": {},
   "source": [
    "**Optimized rounding**"
   ]
  },
  {
   "cell_type": "code",
   "execution_count": 162,
   "metadata": {},
   "outputs": [
    {
     "name": "stdout",
     "output_type": "stream",
     "text": [
      "[LightGBM] [Warning] lambda_l1 is set=15, reg_alpha=0.0 will be ignored. Current value: lambda_l1=15\n",
      "[LightGBM] [Warning] lambda_l2 is set=100, reg_lambda=0.0 will be ignored. Current value: lambda_l2=100\n",
      "[LightGBM] [Warning] lambda_l1 is set=15, reg_alpha=0.0 will be ignored. Current value: lambda_l1=15\n",
      "[LightGBM] [Warning] lambda_l2 is set=100, reg_lambda=0.0 will be ignored. Current value: lambda_l2=100\n",
      "[LightGBM] [Warning] lambda_l1 is set=15, reg_alpha=0.0 will be ignored. Current value: lambda_l1=15\n",
      "[LightGBM] [Warning] lambda_l2 is set=100, reg_lambda=0.0 will be ignored. Current value: lambda_l2=100\n",
      "[LightGBM] [Warning] lambda_l1 is set=15, reg_alpha=0.0 will be ignored. Current value: lambda_l1=15\n",
      "[LightGBM] [Warning] lambda_l2 is set=100, reg_lambda=0.0 will be ignored. Current value: lambda_l2=100\n",
      "[LightGBM] [Warning] lambda_l1 is set=15, reg_alpha=0.0 will be ignored. Current value: lambda_l1=15\n",
      "[LightGBM] [Warning] lambda_l2 is set=100, reg_lambda=0.0 will be ignored. Current value: lambda_l2=100\n"
     ]
    }
   ],
   "source": [
    "class OptimizedRounder(object):\n",
    "    def __init__(self):\n",
    "        self.coef_ = 0\n",
    "\n",
    "    def _kappa_loss(self, coef, X, y):\n",
    "        X_p = np.copy(X)\n",
    "        for i, pred in enumerate(X_p):\n",
    "            if pred < coef[0]:\n",
    "                X_p[i] = 0\n",
    "            elif pred >= coef[0] and pred < coef[1]:\n",
    "                X_p[i] = 1\n",
    "            elif pred >= coef[1] and pred < coef[2]:\n",
    "                X_p[i] = 2\n",
    "            elif pred >= coef[2] and pred < coef[3]:\n",
    "                X_p[i] = 3\n",
    "            elif pred >= coef[3] and pred < coef[4]:\n",
    "                X_p[i] = 4\n",
    "            elif pred >= coef[4] and pred < coef[5]:\n",
    "                X_p[i] = 5\n",
    "            elif pred >= coef[5] and pred < coef[6]:\n",
    "                X_p[i] = 6\n",
    "            elif pred >= coef[6] and pred < coef[7]:\n",
    "                X_p[i] = 7\n",
    "            elif pred >= coef[7] and pred < coef[8]:\n",
    "                X_p[i] = 8\n",
    "            else:\n",
    "                X_p[i] = 9\n",
    "\n",
    "        ll = quadratic_weighted_kappa(y, X_p)\n",
    "        return -ll\n",
    "\n",
    "    def fit(self, X, y):\n",
    "        loss_partial = partial(self._kappa_loss, X=X, y=y)\n",
    "        initial_coef = [0.5, 1.5, 2.5, 3.5, 4.5, 5.5, 6.5, 7.5, 8.5]\n",
    "        self.coef_ = sp.optimize.minimize(loss_partial, initial_coef, method='nelder-mead')\n",
    "\n",
    "    def predict(self, X, coef):\n",
    "        X_p = np.copy(X)\n",
    "        for i, pred in enumerate(X_p):\n",
    "            if pred < coef[0]:\n",
    "                X_p[i] = 0\n",
    "            elif pred >= coef[0] and pred < coef[1]:\n",
    "                X_p[i] = 1\n",
    "            elif pred >= coef[1] and pred < coef[2]:\n",
    "                X_p[i] = 2\n",
    "            elif pred >= coef[2] and pred < coef[3]:\n",
    "                X_p[i] = 3\n",
    "            elif pred >= coef[3] and pred < coef[4]:\n",
    "                X_p[i] = 4\n",
    "            elif pred >= coef[4] and pred < coef[5]:\n",
    "                X_p[i] = 5\n",
    "            elif pred >= coef[5] and pred < coef[6]:\n",
    "                X_p[i] = 6\n",
    "            elif pred >= coef[6] and pred < coef[7]:\n",
    "                X_p[i] = 7\n",
    "            elif pred >= coef[7] and pred < coef[8]:\n",
    "                X_p[i] = 8\n",
    "            else:\n",
    "                X_p[i] = 9\n",
    "        return X_p\n",
    "\n",
    "    def coefficients(self):\n",
    "        return self.coef_['x']\n",
    "\n",
    "#Split data into train and test datasets - do again to ensure variables are correctly assigned\n",
    "data_train, data_test, labels_train, labels_test = train_test_split(data, salary, test_size = 0.2, random_state = 0)\n",
    "\n",
    "cv_scores_opt = np.empty(5)\n",
    "cv = StratifiedKFold(n_splits=5, shuffle=True, random_state=1)\n",
    "\n",
    "#Optimal parameters from optuna study - see below for code\n",
    "opt_params = {'learning_rate': 0.12752857768803944, 'max_depth': 9, 'lambda_l1': 15, 'lambda_l2': 100}\n",
    "\n",
    "\n",
    "##################################################################################################################\n",
    "#Code to run hyperparameter tuning - this was run on a server\n",
    "\n",
    "# def objective(trial):\n",
    "#     param_grid = {\n",
    "# #                 \"device_type\": trial.suggest_categorical(\"device_type\", ['gpu']),\n",
    "# #         \"n_estimators\": trial.suggest_categorical(\"n_estimators\", [10000]),\n",
    "#         \"learning_rate\": trial.suggest_float(\"learning_rate\", 0.01, 0.3),\n",
    "# #         \"num_leaves\": trial.suggest_int(\"num_leaves\", 10, 200, step=5),\n",
    "#         \"max_depth\": trial.suggest_int(\"max_depth\", 3, 20),\n",
    "# #         \"min_data_in_leaf\": trial.suggest_int(\"min_data_in_leaf\", 200, 10000, step=100),\n",
    "# #         \"max_bin\": trial.suggest_int(\"max_bin\", 200, 300),\n",
    "#         \"lambda_l1\": trial.suggest_int(\"lambda_l1\", 0, 100, step=5),\n",
    "#         \"lambda_l2\": trial.suggest_int(\"lambda_l2\", 0, 100, step=5),\n",
    "#     }\n",
    "#     cv_scores_opt = np.empty(5)\n",
    "#     cv = StratifiedKFold(n_splits=5, shuffle=True, random_state=1121218)\n",
    "\n",
    "#     #For train set, make further splits for CV\n",
    "#     for idx, (train_idx, test_idx) in enumerate(cv.split(data_train, labels_train)):\n",
    "#         X_train, X_test = data_train[train_idx], data_train[test_idx]\n",
    "#         y_train, y_test = labels_train[train_idx], labels_train[test_idx]    \n",
    "#         model = lgb.LGBMRegressor(**param_grid)\n",
    "#         pred = model.fit(X_train, y_train).predict(X_test)\n",
    "#         optR = OptimizedRounder()\n",
    "#         optR.fit(pred, y_test)\n",
    "#         coefficients = optR.coefficients()\n",
    "#         pred_test_y_k = optR.predict(pred, coefficients)\n",
    "#         qwk = quadratic_weighted_kappa(pred_test_y_k,y_test)\n",
    "#         cv_scores_opt[idx] = qwk\n",
    "#         return np.mean(cv_scores_opt)\n",
    "\n",
    "# study = optuna.create_study(direction='maximize', study_name='LGBM regressor')\n",
    "# func = lambda trial: objective(trial)\n",
    "# study.optimize(func, n_trials=2000)\n",
    "\n",
    "##################################################################################################################\n",
    "\n",
    "coefficients_arr = 0\n",
    "#For train set, make further splits for CV\n",
    "for idx, (train_idx, test_idx) in enumerate(cv.split(data_train, labels_train)):\n",
    "    X_train, X_test = data_train[train_idx], data_train[test_idx]\n",
    "    y_train, y_test = labels_train[train_idx], labels_train[test_idx]    \n",
    "    model = lgb.LGBMRegressor(**opt_params)\n",
    "    pred = model.fit(X_train, y_train).predict(X_test)\n",
    "    optR = OptimizedRounder()\n",
    "    optR.fit(pred, y_test)\n",
    "    coefficients = optR.coefficients()\n",
    "    coefficients_arr+=coefficients\n",
    "    pred_test_y_k = optR.predict(pred, coefficients)\n",
    "    qwk = quadratic_weighted_kappa(pred_test_y_k,y_test)\n",
    "    cv_scores_opt[idx] = qwk"
   ]
  },
  {
   "cell_type": "code",
   "execution_count": 163,
   "metadata": {},
   "outputs": [
    {
     "name": "stdout",
     "output_type": "stream",
     "text": [
      "Mean quadratic weighted kappa score for stratified 5-fold CV for LGBM regressor is 0.6898117560977386\n"
     ]
    }
   ],
   "source": [
    "print('Mean quadratic weighted kappa score for stratified 5-fold CV for LGBM regressor is', np.mean(cv_scores_opt))"
   ]
  },
  {
   "cell_type": "markdown",
   "metadata": {},
   "source": [
    "Default model CV score: 0.6878138056466964"
   ]
  },
  {
   "cell_type": "markdown",
   "metadata": {},
   "source": [
    "Fitting and evaluation of model for test set"
   ]
  },
  {
   "cell_type": "code",
   "execution_count": 164,
   "metadata": {},
   "outputs": [
    {
     "name": "stdout",
     "output_type": "stream",
     "text": [
      "[LightGBM] [Warning] lambda_l1 is set=15, reg_alpha=0.0 will be ignored. Current value: lambda_l1=15\n",
      "[LightGBM] [Warning] lambda_l2 is set=100, reg_lambda=0.0 will be ignored. Current value: lambda_l2=100\n",
      "Coefficients final are [0.4852367  2.17463985 3.06892879 3.62419226 4.18481718 4.89877681\n",
      " 5.53266606 6.24091708 7.59763487]\n",
      "gbm_reg_pred is [3.21947261 8.47100256 7.03548654 ... 1.83840353 1.55236391 3.48821841]\n",
      "Predicted Counts =  Counter({1.0: 9509, 2.0: 9354, 3.0: 6293, 5.0: 6256, 4.0: 5511, 8.0: 4484, 6.0: 4324, 7.0: 3946, 9.0: 871})\n",
      "Coefficients =  [0.4852367  2.17463985 3.06892879 3.62419226 4.18481718 4.89877681\n",
      " 5.53266606 6.24091708 7.59763487]\n",
      "Test set QWK for LGBM regressor with optimized rounding of salary categories is 0.6920378884892489\n"
     ]
    }
   ],
   "source": [
    "#Split data into train and test datasets\n",
    "x_train, x_test, y_train, y_test = train_test_split(data, salary, test_size = 0.2, random_state = 0)\n",
    "\n",
    "test_y = y_test\n",
    "gbm_reg = lgb.LGBMRegressor(**opt_params)\n",
    "gbm_reg.fit(X=x_train, y=y_train)\n",
    "pred_test_y = gbm_reg.predict(x_test)\n",
    "gbm_reg_pred = pred_test_y\n",
    "\n",
    "coefficients_final = coefficients_arr/5 #using means of optimized coefficients from CV\n",
    "print('Coefficients final are', coefficients_final)\n",
    "\n",
    "optR = OptimizedRounder()\n",
    "optR.coef_ = coefficients_final\n",
    "pred_test_y_k = optR.predict(gbm_reg_pred, coefficients_final)\n",
    "print('gbm_reg_pred is', gbm_reg_pred)\n",
    "print(\"Predicted Counts = \", Counter(pred_test_y_k))\n",
    "print(\"Coefficients = \", coefficients_final)\n",
    "qwk = quadratic_weighted_kappa(test_y, pred_test_y_k)\n",
    "print(\"Test set QWK for LGBM regressor with optimized rounding of salary categories is\", qwk)"
   ]
  },
  {
   "cell_type": "markdown",
   "metadata": {},
   "source": [
    "Default model test score: 0.6866261739407984"
   ]
  },
  {
   "cell_type": "code",
   "execution_count": 165,
   "metadata": {},
   "outputs": [
    {
     "data": {
      "image/png": "[encoded data removed]",
      "text/plain": [
       "<Figure size 432x288 with 1 Axes>"
      ]
     },
     "metadata": {
      "needs_background": "light"
     },
     "output_type": "display_data"
    }
   ],
   "source": [
    "feature_imp = pd.DataFrame(sorted(zip(gbm_reg.feature_importances_,data_df.columns)), columns=['Value','Feature'])\n",
    "feature_imp = pd.Series(gbm_reg.feature_importances_, index=data_df.columns)\n",
    "feature_imp.nlargest(10).plot(kind='barh')\n",
    "plt.xlabel('Feature importance')\n",
    "plt.title('Feature importance for LGBM regressor (optimized rounding)')\n",
    "plt.savefig('Feature importance for LGBM regressor.svg', bbox_inches='tight')\n",
    "\n",
    "#Alternative plot\n",
    "# plt.figure(figsize=(6, 10))\n",
    "# sns.barplot(x=\"Value\", y=\"Feature\", data=feature_imp.sort_values(by=\"Value\", ascending=False).iloc[:10, :])\n",
    "# plt.title('LGBM regressor (optimized rounding) \\n feature importance (average over folds)')\n",
    "# plt.tight_layout()\n",
    "# plt.savefig('LGBM regressor (optimized rounding) feature importance (average over folds).svg')\n",
    "# plt.show()\n"
   ]
  },
  {
   "cell_type": "markdown",
   "metadata": {},
   "source": [
    "## Light Gradient Boosting Machine classifier ##"
   ]
  },
  {
   "cell_type": "code",
   "execution_count": 97,
   "metadata": {},
   "outputs": [
    {
     "name": "stdout",
     "output_type": "stream",
     "text": [
      "[LightGBM] [Warning] lambda_l1 is set=65, reg_alpha=0.0 will be ignored. Current value: lambda_l1=65\n",
      "[LightGBM] [Warning] lambda_l2 is set=40, reg_lambda=0.0 will be ignored. Current value: lambda_l2=40\n",
      "[LightGBM] [Warning] lambda_l1 is set=65, reg_alpha=0.0 will be ignored. Current value: lambda_l1=65\n",
      "[LightGBM] [Warning] lambda_l2 is set=40, reg_lambda=0.0 will be ignored. Current value: lambda_l2=40\n",
      "[LightGBM] [Warning] lambda_l1 is set=65, reg_alpha=0.0 will be ignored. Current value: lambda_l1=65\n",
      "[LightGBM] [Warning] lambda_l2 is set=40, reg_lambda=0.0 will be ignored. Current value: lambda_l2=40\n",
      "[LightGBM] [Warning] lambda_l1 is set=65, reg_alpha=0.0 will be ignored. Current value: lambda_l1=65\n",
      "[LightGBM] [Warning] lambda_l2 is set=40, reg_lambda=0.0 will be ignored. Current value: lambda_l2=40\n",
      "[LightGBM] [Warning] lambda_l1 is set=65, reg_alpha=0.0 will be ignored. Current value: lambda_l1=65\n",
      "[LightGBM] [Warning] lambda_l2 is set=40, reg_lambda=0.0 will be ignored. Current value: lambda_l2=40\n",
      "Mean quadratic weighted kappa score for stratified 5-fold CV for optimal parameters         of Light GBM classifier is 0.610455817030833\n",
      "[LightGBM] [Warning] lambda_l1 is set=65, reg_alpha=0.0 will be ignored. Current value: lambda_l1=65\n",
      "[LightGBM] [Warning] lambda_l2 is set=40, reg_lambda=0.0 will be ignored. Current value: lambda_l2=40\n",
      "Mean quadratic weighted kappa score for the test split         of Light GBM classifier is 0.6184613480215494\n"
     ]
    }
   ],
   "source": [
    "labels = salary.astype(str)\n",
    "\n",
    "#Split data into train and test datasets - do again to ensure variables are correctly assigned\n",
    "data_train, data_test, labels_train, labels_test = train_test_split(data, labels, test_size = 0.2, random_state = 0)\n",
    "\n",
    "#Optimal parameters from optuna study - found that they do not improve performance over default model\n",
    "opt_params = {'learning_rate': 0.16726096140196198, 'max_depth': 12, 'lambda_l1': 65, 'lambda_l2': 40}\n",
    "\n",
    "cv_scores = np.empty(5)\n",
    "cv = StratifiedKFold(n_splits=5, shuffle=True, random_state=1121218)\n",
    "\n",
    "for idx, (train_idx, test_idx) in enumerate(cv.split(data_train, labels_train)):\n",
    "    X_train, X_test = data_train[train_idx], data_train[test_idx]\n",
    "    y_train, y_test = labels_train[train_idx], labels_train[test_idx]    \n",
    "    model = lgb.LGBMClassifier(**opt_params) #treating it as a classification problem \n",
    "    pred = model.fit(X_train, y_train).predict(X_test)\n",
    "    cv_scores[idx] = quadratic_weighted_kappa(pred, y_test) #but evaluation is based on integers - conversion done within function\n",
    "    \n",
    "print('Mean quadratic weighted kappa score for stratified 5-fold CV for optimal parameters \\\n",
    "        of Light GBM classifier is', np.mean(cv_scores))\n",
    "\n",
    "#Split data into train and test datasets - do again to ensure variables are correctly assigned\n",
    "x_train, x_test, y_train, y_test = train_test_split(data, labels, test_size = 0.2, random_state = 0)\n",
    "\n",
    "gbm_clf = lgb.LGBMClassifier(**opt_params)\n",
    "gbm_clf.fit(X=x_train, y=y_train)\n",
    "\n",
    "gbm_clf_pred = gbm_clf.predict(x_test)\n",
    "print('Mean quadratic weighted kappa score for the test split \\\n",
    "        of Light GBM classifier is', quadratic_weighted_kappa(gbm_clf_pred, y_test))"
   ]
  },
  {
   "cell_type": "code",
   "execution_count": 161,
   "metadata": {},
   "outputs": [
    {
     "data": {
      "image/png": "[encoded data removed]",
      "text/plain": [
       "<Figure size 432x288 with 1 Axes>"
      ]
     },
     "metadata": {
      "needs_background": "light"
     },
     "output_type": "display_data"
    }
   ],
   "source": [
    "# feature_imp = pd.DataFrame(sorted(zip(gbm_clf.feature_importances_,data_df.columns)), columns=['Value','Feature'])\n",
    "feature_imp = pd.Series(gbm_clf.feature_importances_/sum(gbm_clf.feature_importances_), index=data_df.columns)\n",
    "feature_imp.nlargest(10).plot(kind='barh')\n",
    "plt.xlabel('Feature importance')\n",
    "plt.title('Feature importance for LGBM classifier')\n",
    "plt.savefig('Feature importance for LGBM classifier.svg', bbox_inches='tight')"
   ]
  },
  {
   "cell_type": "markdown",
   "metadata": {},
   "source": [
    "For the default LGBM classifier model:\n",
    "\n",
    "Mean quadratic weighted kappa score for stratified 5-fold CV for optimal parameters         of Light GBM classifier is 0.6365364856256647\n",
    "Mean quadratic weighted kappa score for the test split         of Light GBM classifier is 0.6370432511938602"
   ]
  },
  {
   "cell_type": "code",
   "execution_count": null,
   "metadata": {},
   "outputs": [],
   "source": [
    "# feature_imp = pd.DataFrame(sorted(zip(gbm_reg.feature_importances_,data_df.columns)), columns=['Value','Feature'])\n",
    "# plt.figure(figsize=(6, 10))\n",
    "# sns.barplot(x=\"Value\", y=\"Feature\", data=feature_imp.sort_values(by=\"Value\", ascending=False))\n",
    "# plt.title('LGBM classifier feature importance')\n",
    "# plt.tight_layout()\n",
    "# plt.savefig('LGBM classifier feature importance.svg')\n",
    "# plt.show()"
   ]
  },
  {
   "cell_type": "markdown",
   "metadata": {},
   "source": [
    "## Random forest regression ##"
   ]
  },
  {
   "cell_type": "markdown",
   "metadata": {},
   "source": [
    "**Find optimal tree depth for sample of the data**\n",
    "\n",
    "This done to make the search quicker."
   ]
  },
  {
   "cell_type": "code",
   "execution_count": 60,
   "metadata": {},
   "outputs": [],
   "source": [
    "labels = df_salary['compensation'].to_numpy() #continuous for regression\n",
    "\n",
    "#Split data into train and test datasets\n",
    "x_train, x_test, y_train, y_test = train_test_split(data, labels, test_size = 0.2, random_state = 0)\n",
    "\n",
    "#Randomly sample 20000 data points to work up optimal depth search\n",
    "np.random.seed(0)\n",
    "sample = np.random.choice(len(x_train), 20000, replace = False)\n",
    "x_train = x_train[sample]\n",
    "y_train = y_train[sample]"
   ]
  },
  {
   "cell_type": "code",
   "execution_count": 85,
   "metadata": {},
   "outputs": [
    {
     "name": "stdout",
     "output_type": "stream",
     "text": [
      "Fitting 3 folds for each of 100 candidates, totalling 300 fits\n"
     ]
    }
   ],
   "source": [
    "maxdepth_grid = list(range(1, 31))\n",
    "bagging_range = np.linspace(0.001, 1, num = 25)\n",
    "random_grid = {'max_depth': maxdepth_grid, 'max_samples': bagging_range, 'max_features': ['auto', 'sqrt']}\n",
    "rf = RandomForestRegressor()\n",
    "\n",
    "rf_random = RandomizedSearchCV(estimator = rf, param_distributions = random_grid, n_iter = 100, cv = 3, verbose=2, random_state=42, n_jobs = -1)\n",
    "# Fit the random search model\n",
    "rf_random.fit(x_train, y_train)\n",
    "\n",
    "rf_opt_params = rf_random.best_params_"
   ]
  },
  {
   "cell_type": "code",
   "execution_count": 91,
   "metadata": {},
   "outputs": [
    {
     "name": "stdout",
     "output_type": "stream",
     "text": [
      "Optimal parameters for random forest regressor are {'max_samples': 0.45887500000000003, 'max_features': 'auto', 'max_depth': 18}\n"
     ]
    }
   ],
   "source": [
    "print('Optimal parameters for random forest regressor are', rf_opt_params)"
   ]
  },
  {
   "cell_type": "markdown",
   "metadata": {},
   "source": [
    "**Find CV and test set scores for rounding to nearest integer for full dataset**"
   ]
  },
  {
   "cell_type": "markdown",
   "metadata": {},
   "source": [
    "5-fold CV"
   ]
  },
  {
   "cell_type": "code",
   "execution_count": 109,
   "metadata": {},
   "outputs": [],
   "source": [
    "cv_scores = np.empty(5)\n",
    "cv = StratifiedKFold(n_splits=5, shuffle=True, random_state=1121218)\n",
    "\n",
    "#Split data into train and test datasets - do again to ensure variables are correctly assigned\n",
    "data_train, data_test, labels_train, labels_test = train_test_split(data, labels, test_size = 0.2, random_state = 0)\n",
    "\n",
    "for idx, (train_idx, test_idx) in enumerate(cv.split(data_train, labels_train)):\n",
    "    X_train, X_test = data_train[train_idx], data_train[test_idx]\n",
    "    y_train, y_test = labels_train[train_idx], labels_train[test_idx]\n",
    "#     model = RandomForestRegressor(**rf_opt_params)\n",
    "    model = RandomForestRegressor(**rf_opt_params)\n",
    "    pred = model.fit(X_train, y_train).predict(X_test)\n",
    "    qwk = quadratic_weighted_kappa(np.rint(pred), y_test)\n",
    "#         print('QWK is', qwk)\n",
    "    cv_scores[idx] = qwk"
   ]
  },
  {
   "cell_type": "code",
   "execution_count": 110,
   "metadata": {},
   "outputs": [
    {
     "name": "stdout",
     "output_type": "stream",
     "text": [
      "Quadratic weighted Kappa for 5-fold CV for random forest regressor is 0.6792051566803284\n"
     ]
    }
   ],
   "source": [
    "print('Quadratic weighted Kappa for 5-fold CV for random forest regressor is', np.mean(cv_scores))"
   ]
  },
  {
   "cell_type": "markdown",
   "metadata": {},
   "source": [
    "CV for default RF model = 0.6766893603703659"
   ]
  },
  {
   "cell_type": "markdown",
   "metadata": {},
   "source": [
    "Evaluate fit to test set"
   ]
  },
  {
   "cell_type": "code",
   "execution_count": 111,
   "metadata": {},
   "outputs": [],
   "source": [
    "#Split data into train and test datasets\n",
    "x_train, x_test, y_train, y_test = train_test_split(data, labels, test_size = 0.2, random_state = 0)\n",
    "#On test set\n",
    "# model = RandomForestRegressor(max_depth = opt_depth_RFreg+1, random_state=0)\n",
    "model = RandomForestRegressor(**rf_opt_params)\n",
    "pred = model.fit(x_train, y_train).predict(x_test)"
   ]
  },
  {
   "cell_type": "code",
   "execution_count": 112,
   "metadata": {},
   "outputs": [
    {
     "name": "stdout",
     "output_type": "stream",
     "text": [
      "Quadratic weighted Kappa for the test set for random forest regressor is 0.6851327088599324\n"
     ]
    }
   ],
   "source": [
    "print('Quadratic weighted Kappa for the test set for random forest regressor is', quadratic_weighted_kappa(np.rint(pred), y_test))"
   ]
  },
  {
   "cell_type": "markdown",
   "metadata": {},
   "source": [
    "Test fit for default RF = 0.6803753916858659"
   ]
  },
  {
   "cell_type": "markdown",
   "metadata": {},
   "source": [
    "**Find CV and test set scores for optimized rounding**"
   ]
  },
  {
   "cell_type": "code",
   "execution_count": 166,
   "metadata": {},
   "outputs": [
    {
     "name": "stdout",
     "output_type": "stream",
     "text": [
      "Quadratic weighted Kappa for 5-fold CV for random forest regressor with optimized rounding and optimal parameters is 0.7132940533374058\n"
     ]
    }
   ],
   "source": [
    "cv_scores = np.empty(5)\n",
    "cv = StratifiedKFold(n_splits=5, shuffle=True, random_state=1121218)\n",
    "\n",
    "coefficients_arr = 0\n",
    "for idx, (train_idx, test_idx) in enumerate(cv.split(data_train, labels_train)):\n",
    "    X_train, X_test = data_train[train_idx], data_train[test_idx]\n",
    "    y_train, y_test = labels_train[train_idx], labels_train[test_idx]\n",
    "  \n",
    "    model = RandomForestRegressor(**rf_opt_params, random_state=1)\n",
    "#     model = RandomForestRegressor(opt_depth_RFreg+1, random_state=0)\n",
    "\n",
    "    pred = model.fit(X_train, y_train).predict(X_test)\n",
    "    optR = OptimizedRounder()\n",
    "    optR.fit(pred, y_test)\n",
    "    coefficients = optR.coefficients()\n",
    "    coefficients_arr+=coefficients\n",
    "    pred_test_y_k = optR.predict(pred, coefficients)\n",
    "    qwk = quadratic_weighted_kappa(pred_test_y_k,y_test)\n",
    "    cv_scores[idx] = qwk\n",
    "    \n",
    "print('Quadratic weighted Kappa for 5-fold CV for random forest regressor with optimized rounding and optimal parameters is', np.mean(cv_scores))"
   ]
  },
  {
   "cell_type": "markdown",
   "metadata": {},
   "source": [
    "Default random forest regressor (optimized rounding) CV score = 0.6761731656750796"
   ]
  },
  {
   "cell_type": "code",
   "execution_count": 170,
   "metadata": {},
   "outputs": [
    {
     "name": "stdout",
     "output_type": "stream",
     "text": [
      "Coefficients final are [0.525116   2.08460628 2.96706866 3.6477693  4.2100522  4.97003773\n",
      " 5.64391857 6.47375473 7.3975181 ]\n",
      "gbm_reg_pred is [3.12452335 8.15996244 7.33682493 ... 2.05208657 2.16972447 3.27523295]\n",
      "Predicted Counts =  Counter({1.0: 10313, 2.0: 8901, 3.0: 6593, 5.0: 5995, 4.0: 4757, 7.0: 4422, 6.0: 4202, 8.0: 3384, 9.0: 1981})\n",
      "Coefficients =  [0.525116   2.08460628 2.96706866 3.6477693  4.2100522  4.97003773\n",
      " 5.64391857 6.47375473 7.3975181 ]\n",
      "Test set QWK for random forest regressor with optimized rounding of salary categories and optimal parameters is 0.7169548034474826\n"
     ]
    }
   ],
   "source": [
    "coefficients_final = coefficients_arr/5\n",
    "print('Coefficients final are', coefficients_final)\n",
    "\n",
    "\n",
    "#Split data into train and test datasets\n",
    "x_train, x_test, y_train, y_test = train_test_split(data, labels, test_size = 0.2, random_state = 0)\n",
    "\n",
    "test_y = y_test\n",
    "# gbm_reg = RandomForestRegressor(opt_depth_RFreg+1, random_state=0)\n",
    "gbm_reg = RandomForestRegressor(**rf_opt_params, random_state=1)\n",
    "gbm_reg.fit(X=x_train, y=y_train)\n",
    "\n",
    "pred_test_y = gbm_reg.predict(x_test)\n",
    "gbm_reg_pred = pred_test_y\n",
    "\n",
    "optR = OptimizedRounder()\n",
    "optR.coef_ = coefficients_final\n",
    "# pred_test_y_k = optR.predict(gbm_reg_pred.flatten()).astype(np.int32)\n",
    "pred_test_y_k = optR.predict(gbm_reg_pred, coefficients_final)\n",
    "print('gbm_reg_pred is', gbm_reg_pred)\n",
    "print(\"Predicted Counts = \", Counter(pred_test_y_k))\n",
    "print(\"Coefficients = \", coefficients_final)\n",
    "qwk = quadratic_weighted_kappa(test_y, pred_test_y_k)\n",
    "print(\"Test set QWK for random forest regressor with optimized rounding of salary categories and optimal parameters is\", qwk)"
   ]
  },
  {
   "cell_type": "markdown",
   "metadata": {},
   "source": [
    "Test set score for optimized rounding for default random forest model: 0.6863787133056631"
   ]
  },
  {
   "cell_type": "markdown",
   "metadata": {},
   "source": [
    "**As LGBM regressor with optimized rounding is the best model, find accuracy, confusion matrix and ROC for it**"
   ]
  },
  {
   "cell_type": "code",
   "execution_count": 205,
   "metadata": {},
   "outputs": [],
   "source": [
    "pred_test_y_k = np.array([int(x) for x in pred_test_y_k])\n",
    "test_y = np.array([int(x) for x in test_y])"
   ]
  },
  {
   "cell_type": "code",
   "execution_count": 221,
   "metadata": {},
   "outputs": [
    {
     "data": {
      "text/plain": [
       "0.3491137136978713"
      ]
     },
     "execution_count": 221,
     "metadata": {},
     "output_type": "execute_result"
    }
   ],
   "source": [
    "from sklearn import metrics\n",
    "#Accuracy (model fit on train set, prediction for test set)\n",
    "metrics.accuracy_score(test_y, pred_test_y_k)"
   ]
  },
  {
   "cell_type": "code",
   "execution_count": 223,
   "metadata": {},
   "outputs": [
    {
     "name": "stdout",
     "output_type": "stream",
     "text": [
      "              precision    recall  f1-score   support\n",
      "\n",
      "           1       0.69      0.62      0.65     11596\n",
      "           2       0.34      0.39      0.36      7719\n",
      "           3       0.32      0.27      0.29      7709\n",
      "           4       0.27      0.19      0.22      6580\n",
      "           5       0.19      0.24      0.21      4675\n",
      "           6       0.17      0.21      0.19      3402\n",
      "           7       0.14      0.28      0.19      2183\n",
      "           8       0.13      0.27      0.18      1637\n",
      "           9       0.63      0.25      0.35      5047\n",
      "\n",
      "    accuracy                           0.35     50548\n",
      "   macro avg       0.32      0.30      0.29     50548\n",
      "weighted avg       0.40      0.35      0.36     50548\n",
      "\n"
     ]
    }
   ],
   "source": [
    "#Further metrics\n",
    "print(classification_report(test_y,pred_test_y_k))"
   ]
  },
  {
   "cell_type": "code",
   "execution_count": 219,
   "metadata": {},
   "outputs": [
    {
     "data": {
      "text/html": [
       "<div>\n",
       "<style scoped>\n",
       "    .dataframe tbody tr th:only-of-type {\n",
       "        vertical-align: middle;\n",
       "    }\n",
       "\n",
       "    .dataframe tbody tr th {\n",
       "        vertical-align: top;\n",
       "    }\n",
       "\n",
       "    .dataframe thead th {\n",
       "        text-align: right;\n",
       "    }\n",
       "</style>\n",
       "<table border=\"1\" class=\"dataframe\">\n",
       "  <thead>\n",
       "    <tr style=\"text-align: right;\">\n",
       "      <th>col_0</th>\n",
       "      <th>1</th>\n",
       "      <th>2</th>\n",
       "      <th>3</th>\n",
       "      <th>4</th>\n",
       "      <th>5</th>\n",
       "      <th>6</th>\n",
       "      <th>7</th>\n",
       "      <th>8</th>\n",
       "      <th>9</th>\n",
       "    </tr>\n",
       "    <tr>\n",
       "      <th>row_0</th>\n",
       "      <th></th>\n",
       "      <th></th>\n",
       "      <th></th>\n",
       "      <th></th>\n",
       "      <th></th>\n",
       "      <th></th>\n",
       "      <th></th>\n",
       "      <th></th>\n",
       "      <th></th>\n",
       "    </tr>\n",
       "  </thead>\n",
       "  <tbody>\n",
       "    <tr>\n",
       "      <th>1</th>\n",
       "      <td>7157</td>\n",
       "      <td>2548</td>\n",
       "      <td>820</td>\n",
       "      <td>375</td>\n",
       "      <td>257</td>\n",
       "      <td>161</td>\n",
       "      <td>132</td>\n",
       "      <td>90</td>\n",
       "      <td>56</td>\n",
       "    </tr>\n",
       "    <tr>\n",
       "      <th>2</th>\n",
       "      <td>2188</td>\n",
       "      <td>2989</td>\n",
       "      <td>1388</td>\n",
       "      <td>503</td>\n",
       "      <td>373</td>\n",
       "      <td>143</td>\n",
       "      <td>80</td>\n",
       "      <td>36</td>\n",
       "      <td>19</td>\n",
       "    </tr>\n",
       "    <tr>\n",
       "      <th>3</th>\n",
       "      <td>513</td>\n",
       "      <td>2044</td>\n",
       "      <td>2108</td>\n",
       "      <td>1281</td>\n",
       "      <td>1050</td>\n",
       "      <td>413</td>\n",
       "      <td>196</td>\n",
       "      <td>71</td>\n",
       "      <td>33</td>\n",
       "    </tr>\n",
       "    <tr>\n",
       "      <th>4</th>\n",
       "      <td>149</td>\n",
       "      <td>704</td>\n",
       "      <td>1234</td>\n",
       "      <td>1273</td>\n",
       "      <td>1659</td>\n",
       "      <td>789</td>\n",
       "      <td>528</td>\n",
       "      <td>201</td>\n",
       "      <td>43</td>\n",
       "    </tr>\n",
       "    <tr>\n",
       "      <th>5</th>\n",
       "      <td>76</td>\n",
       "      <td>216</td>\n",
       "      <td>407</td>\n",
       "      <td>610</td>\n",
       "      <td>1113</td>\n",
       "      <td>895</td>\n",
       "      <td>828</td>\n",
       "      <td>439</td>\n",
       "      <td>91</td>\n",
       "    </tr>\n",
       "    <tr>\n",
       "      <th>6</th>\n",
       "      <td>56</td>\n",
       "      <td>113</td>\n",
       "      <td>171</td>\n",
       "      <td>215</td>\n",
       "      <td>604</td>\n",
       "      <td>707</td>\n",
       "      <td>853</td>\n",
       "      <td>532</td>\n",
       "      <td>151</td>\n",
       "    </tr>\n",
       "    <tr>\n",
       "      <th>7</th>\n",
       "      <td>26</td>\n",
       "      <td>39</td>\n",
       "      <td>81</td>\n",
       "      <td>104</td>\n",
       "      <td>275</td>\n",
       "      <td>362</td>\n",
       "      <td>612</td>\n",
       "      <td>525</td>\n",
       "      <td>159</td>\n",
       "    </tr>\n",
       "    <tr>\n",
       "      <th>8</th>\n",
       "      <td>32</td>\n",
       "      <td>32</td>\n",
       "      <td>70</td>\n",
       "      <td>70</td>\n",
       "      <td>172</td>\n",
       "      <td>228</td>\n",
       "      <td>408</td>\n",
       "      <td>442</td>\n",
       "      <td>183</td>\n",
       "    </tr>\n",
       "    <tr>\n",
       "      <th>9</th>\n",
       "      <td>116</td>\n",
       "      <td>216</td>\n",
       "      <td>314</td>\n",
       "      <td>326</td>\n",
       "      <td>492</td>\n",
       "      <td>504</td>\n",
       "      <td>785</td>\n",
       "      <td>1048</td>\n",
       "      <td>1246</td>\n",
       "    </tr>\n",
       "  </tbody>\n",
       "</table>\n",
       "</div>"
      ],
      "text/plain": [
       "col_0     1     2     3     4     5    6    7     8     9\n",
       "row_0                                                    \n",
       "1      7157  2548   820   375   257  161  132    90    56\n",
       "2      2188  2989  1388   503   373  143   80    36    19\n",
       "3       513  2044  2108  1281  1050  413  196    71    33\n",
       "4       149   704  1234  1273  1659  789  528   201    43\n",
       "5        76   216   407   610  1113  895  828   439    91\n",
       "6        56   113   171   215   604  707  853   532   151\n",
       "7        26    39    81   104   275  362  612   525   159\n",
       "8        32    32    70    70   172  228  408   442   183\n",
       "9       116   216   314   326   492  504  785  1048  1246"
      ]
     },
     "execution_count": 219,
     "metadata": {},
     "output_type": "execute_result"
    }
   ],
   "source": [
    "#Confusion matrix\n",
    "# metrics.confusion_matrix(test_y, pred_test_y_k)\n",
    "pd.crosstab(test_y, pred_test_y_k)"
   ]
  },
  {
   "cell_type": "code",
   "execution_count": 217,
   "metadata": {},
   "outputs": [
    {
     "data": {
      "image/png": "[encoded data removed]",
      "text/plain": [
       "<Figure size 792x576 with 2 Axes>"
      ]
     },
     "metadata": {
      "needs_background": "light"
     },
     "output_type": "display_data"
    },
    {
     "data": {
      "text/plain": [
       "<Figure size 432x288 with 0 Axes>"
      ]
     },
     "metadata": {},
     "output_type": "display_data"
    }
   ],
   "source": [
    "fig, ax = plt.subplots(figsize=(11,8))\n",
    "cf_matrix = pd.crosstab(test_y, pred_test_y_k)\n",
    "sns.heatmap(cf_matrix, linewidths=1, annot=True, ax=ax, fmt='g')\n",
    "plt.xlabel('Predicted Labels')\n",
    "plt.ylabel('True Labels')\n",
    "plt.show()\n",
    "plt.savefig('Confusion matrix for best model (RF regressor with optimized rounding).svg')"
   ]
  },
  {
   "cell_type": "code",
   "execution_count": 224,
   "metadata": {},
   "outputs": [
    {
     "data": {
      "text/plain": [
       "{1: 0.7680863936977015,\n",
       " 2: 0.624594506742893,\n",
       " 3: 0.584376150118537,\n",
       " 4: 0.5571127993611269,\n",
       " 5: 0.5658253040159351,\n",
       " 6: 0.566843754249779,\n",
       " 7: 0.6007860851966497,\n",
       " 8: 0.6049280201218706,\n",
       " 9: 0.6153629215629559}"
      ]
     },
     "execution_count": 224,
     "metadata": {},
     "output_type": "execute_result"
    }
   ],
   "source": [
    "# Copied from Kaggle competition\n",
    "def roc_auc_score_multiclass(actual_class, pred_class, average = \"macro\"):\n",
    "    \n",
    "    #creating a set of all the unique classes using the actual class list\n",
    "    unique_class = set(actual_class)\n",
    "    roc_auc_dict = {}\n",
    "    for per_class in unique_class:\n",
    "        \n",
    "        #creating a list of all the classes except the current class \n",
    "        other_class = [x for x in unique_class if x != per_class]\n",
    "\n",
    "        #marking the current class as 1 and all other classes as 0\n",
    "        new_actual_class = [0 if x in other_class else 1 for x in actual_class]\n",
    "        new_pred_class = [0 if x in other_class else 1 for x in pred_class]\n",
    "\n",
    "        #using the sklearn metrics method to calculate the roc_auc_score\n",
    "        roc_auc = roc_auc_score(new_actual_class, new_pred_class, average = average)\n",
    "        roc_auc_dict[per_class] = roc_auc\n",
    "\n",
    "    return roc_auc_dict\n",
    "\n",
    "roc_auc_dict = roc_auc_score_multiclass(test_y, pred_test_y_k)\n",
    "roc_auc_dict"
   ]
  },
  {
   "cell_type": "markdown",
   "metadata": {},
   "source": [
    "**Find feature importance for best random forest regressor**"
   ]
  },
  {
   "cell_type": "code",
   "execution_count": 149,
   "metadata": {},
   "outputs": [
    {
     "data": {
      "image/png": "[encoded data removed]",
      "text/plain": [
       "<Figure size 432x288 with 1 Axes>"
      ]
     },
     "metadata": {
      "needs_background": "light"
     },
     "output_type": "display_data"
    }
   ],
   "source": [
    "feat_importances = pd.Series(gbm_reg.feature_importances_, index=data_df.columns) #For RF with optimized rounding and optimal paramaters\n",
    "# feat_importances.nlargest(4).plot(kind='barh')\n",
    "feat_importances.nlargest(10).plot(kind='barh')\n",
    "plt.xlabel('Feature importance')\n",
    "plt.title('Feature importance for random forest regressor')\n",
    "plt.savefig('Feature importance for random forest regressor.svg', bbox_inches='tight')"
   ]
  },
  {
   "cell_type": "markdown",
   "metadata": {},
   "source": [
    "## Random forest classifier ##"
   ]
  },
  {
   "cell_type": "code",
   "execution_count": 115,
   "metadata": {},
   "outputs": [],
   "source": [
    "labels = salary.astype(str) #For classification\n",
    "\n",
    "#Split data into train and test datasets\n",
    "x_train, x_test, y_train, y_test = train_test_split(data, labels, test_size = 0.2, random_state = 0)\n",
    "\n",
    "#Randomly sample 20000 data points to work up optimal depth search\n",
    "np.random.seed(0)\n",
    "sample = np.random.choice(len(x_train), 20000, replace = False)\n",
    "x_train = x_train[sample]\n",
    "y_train = y_train[sample]"
   ]
  },
  {
   "cell_type": "code",
   "execution_count": null,
   "metadata": {},
   "outputs": [],
   "source": [
    "# depth_iter = 25\n",
    "# RF_cl_test_error = []\n",
    "# for depth in range(1, depth_iter):\n",
    "#     randomForest_cl = RandomForestClassifier(max_depth = depth, random_state=0).fit(x_train, y_train)\n",
    "#     randomForest_cl_pred = randomForest_cl.predict(x_test)\n",
    "#     RF_cl_test_error.append(quadratic_weighted_kappa(randomForest_cl_pred, y_test))\n",
    "#     print('Iteration {} done'.format(depth))"
   ]
  },
  {
   "cell_type": "code",
   "execution_count": null,
   "metadata": {},
   "outputs": [],
   "source": [
    "# plt.plot(range(1, depth_iter), RF_cl_test_error)"
   ]
  },
  {
   "cell_type": "code",
   "execution_count": null,
   "metadata": {},
   "outputs": [],
   "source": [
    "# opt_depth_RFcl = np.argmax(RF_cl_test_error)\n",
    "# RF_cl_test_error[opt_depth_RFcl]"
   ]
  },
  {
   "cell_type": "code",
   "execution_count": null,
   "metadata": {},
   "outputs": [],
   "source": [
    "# print('Optimal tree depth for RF classifier is {}'.format(opt_depth_RFcl+1))"
   ]
  },
  {
   "cell_type": "code",
   "execution_count": 120,
   "metadata": {},
   "outputs": [
    {
     "name": "stdout",
     "output_type": "stream",
     "text": [
      "Fitting 3 folds for each of 100 candidates, totalling 300 fits\n"
     ]
    }
   ],
   "source": [
    "maxdepth_grid = list(range(1, 31))\n",
    "bagging_range = np.linspace(0.001, 1, num = 25)\n",
    "random_grid = {'max_depth': maxdepth_grid, 'max_samples': bagging_range, 'max_features': ['auto', 'sqrt']}\n",
    "rf = RandomForestClassifier()\n",
    "\n",
    "rf_random = RandomizedSearchCV(estimator = rf, param_distributions = random_grid, n_iter = 100, cv = 3, verbose=2, random_state=42, n_jobs = -1)\n",
    "# Fit the random search model\n",
    "rf_random.fit(x_train, y_train)\n",
    "\n",
    "rf_cl_opt_params = rf_random.best_params_"
   ]
  },
  {
   "cell_type": "code",
   "execution_count": 133,
   "metadata": {},
   "outputs": [
    {
     "name": "stdout",
     "output_type": "stream",
     "text": [
      "{'max_samples': 0.7086250000000001, 'max_features': 'auto', 'max_depth': 17}\n"
     ]
    }
   ],
   "source": [
    "print(rf_cl_opt_params)"
   ]
  },
  {
   "cell_type": "markdown",
   "metadata": {},
   "source": [
    "**Find CV and test set scores for random forest classifier**"
   ]
  },
  {
   "cell_type": "code",
   "execution_count": 138,
   "metadata": {},
   "outputs": [
    {
     "name": "stdout",
     "output_type": "stream",
     "text": [
      "Quadratic weighted Kappa for 5-fold CV for forest classifer is 0.5641682981879085\n"
     ]
    }
   ],
   "source": [
    "#Split data into train and test datasets - do again to ensure variables are correctly assigned\n",
    "data_train, data_test, labels_train, labels_test = train_test_split(data, labels, test_size = 0.2, random_state = 0)\n",
    "\n",
    "cv_scores = np.empty(5)\n",
    "cv = StratifiedKFold(n_splits=5, shuffle=True, random_state=1121218)\n",
    "\n",
    "for idx, (train_idx, test_idx) in enumerate(cv.split(data_train, labels_train)):\n",
    "    X_train, X_test = data_train[train_idx], data_train[test_idx]\n",
    "    y_train, y_test = labels_train[train_idx], labels_train[test_idx]\n",
    "    model = RandomForestClassifier(**rf_cl_opt_params, random_state=1)\n",
    "    pred = model.fit(X_train, y_train).predict(X_test)\n",
    "    qwk = quadratic_weighted_kappa(pred, y_test)\n",
    "#         print('QWK is', qwk)\n",
    "    cv_scores[idx] = qwk\n",
    "\n",
    "print('Quadratic weighted Kappa for 5-fold CV for forest classifer is', np.mean(cv_scores))"
   ]
  },
  {
   "cell_type": "markdown",
   "metadata": {},
   "source": [
    "For default RF classifier, the quadratic weighted Kappa for 5-fold CV is 0.5239662276074672 "
   ]
  },
  {
   "cell_type": "code",
   "execution_count": 139,
   "metadata": {},
   "outputs": [
    {
     "name": "stdout",
     "output_type": "stream",
     "text": [
      "Quadratic weighted Kappa for random forest classifer for test dataset is 0.5633360735599633\n"
     ]
    }
   ],
   "source": [
    "#Split data into train and test datasets - do again to ensure variables are correctly assigned\n",
    "x_train, x_test, y_train, y_test = train_test_split(data, labels, test_size = 0.2, random_state = 0)\n",
    "\n",
    "# randomForest_cl = RandomForestClassifier(max_depth = opt_depth_RFcl+1, random_state=0).fit(x_train, y_train)\n",
    "randomForest_cl = RandomForestClassifier(**rf_cl_opt_params, random_state=1).fit(x_train, y_train)\n",
    "randomForest_cl_pred = randomForest_cl.predict(x_test)\n",
    "print('Quadratic weighted Kappa for random forest classifer for test dataset is', quadratic_weighted_kappa(randomForest_cl_pred, y_test))"
   ]
  },
  {
   "cell_type": "markdown",
   "metadata": {},
   "source": [
    "For default RF classifier, the quadratic weighted Kappa for test set is 0.5298166068007469"
   ]
  },
  {
   "cell_type": "markdown",
   "metadata": {},
   "source": [
    "**Find feature importance for random forest classifier**"
   ]
  },
  {
   "cell_type": "code",
   "execution_count": 148,
   "metadata": {},
   "outputs": [
    {
     "data": {
      "image/png": "[encoded data removed]",
      "text/plain": [
       "<Figure size 432x288 with 1 Axes>"
      ]
     },
     "metadata": {
      "needs_background": "light"
     },
     "output_type": "display_data"
    }
   ],
   "source": [
    "feat_importances = pd.Series(randomForest_cl.feature_importances_, index=data_df.columns)\n",
    "# feat_importances.nlargest(4).plot(kind='barh')\n",
    "feat_importances.nlargest(10).plot(kind='barh')\n",
    "plt.xlabel('Feature importance')\n",
    "plt.savefig('Feature importance for random forest regressor.svg', bbox_inches='tight')"
   ]
  }
 ],
 "metadata": {
  "kernelspec": {
   "display_name": "Python 3",
   "language": "python",
   "name": "python3"
  },
  "language_info": {
   "codemirror_mode": {
    "name": "ipython",
    "version": 3
   },
   "file_extension": ".py",
   "mimetype": "text/x-python",
   "name": "python",
   "nbconvert_exporter": "python",
   "pygments_lexer": "ipython3",
   "version": "3.7.4"
  }
 },
 "nbformat": 4,
 "nbformat_minor": 2
}
