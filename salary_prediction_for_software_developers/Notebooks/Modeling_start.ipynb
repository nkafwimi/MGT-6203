{
 "cells": [
  {
   "cell_type": "code",
   "execution_count": 1,
   "metadata": {},
   "outputs": [
    {
     "name": "stderr",
     "output_type": "stream",
     "text": [
      "C:\\Users\\Kamil\\Anaconda3\\lib\\site-packages\\dask\\dataframe\\utils.py:14: FutureWarning: pandas.util.testing is deprecated. Use the functions in the public API at pandas.testing instead.\n",
      "  import pandas.util.testing as tm\n"
     ]
    }
   ],
   "source": [
    "import numpy as np\n",
    "import pandas as pd\n",
    "from sklearn.ensemble import RandomForestClassifier, RandomForestRegressor\n",
    "from sklearn.model_selection import train_test_split, RepeatedStratifiedKFold, cross_val_score\n",
    "from sklearn.model_selection import StratifiedKFold\n",
    "import lightgbm as lgb\n",
    "from functools import partial\n",
    "import scipy as sp\n",
    "from collections import Counter\n",
    "import matplotlib.pyplot as plt\n",
    "import seaborn as sns\n",
    "from sklearn.preprocessing import StandardScaler"
   ]
  },
  {
   "cell_type": "code",
   "execution_count": 2,
   "metadata": {},
   "outputs": [],
   "source": [
    "# Verification: read the files into dataframes\n",
    "files = [\"../Data/model_data/model-encoded-data-0.csv\", \n",
    "         \"../Data/model_data/model-encoded-data-1.csv\", \n",
    "         \"../Data/model_data/model-encoded-data-2.csv\"]\n",
    "model_dfs = [pd.read_csv(f, sep=\",\", \n",
    "                          encoding='Latin-1', \n",
    "                          low_memory=False ) for f in files]\n",
    "\n",
    "# combine the list of dataframes\n",
    "df = pd.concat(model_dfs, ignore_index=True)"
   ]
  },
  {
   "cell_type": "code",
   "execution_count": 3,
   "metadata": {},
   "outputs": [
    {
     "data": {
      "text/html": [
       "<div>\n",
       "<style scoped>\n",
       "    .dataframe tbody tr th:only-of-type {\n",
       "        vertical-align: middle;\n",
       "    }\n",
       "\n",
       "    .dataframe tbody tr th {\n",
       "        vertical-align: top;\n",
       "    }\n",
       "\n",
       "    .dataframe thead th {\n",
       "        text-align: right;\n",
       "    }\n",
       "</style>\n",
       "<table border=\"1\" class=\"dataframe\">\n",
       "  <thead>\n",
       "    <tr style=\"text-align: right;\">\n",
       "      <th></th>\n",
       "      <th>is_female</th>\n",
       "      <th>is_male</th>\n",
       "      <th>is_gender_non_confirming</th>\n",
       "      <th>is_transgender</th>\n",
       "      <th>is_gender_unknown</th>\n",
       "      <th>is_age_18_to_24</th>\n",
       "      <th>is_age_25_to34</th>\n",
       "      <th>is_age_35_44</th>\n",
       "      <th>is_age_45_54</th>\n",
       "      <th>is_age_55_to_64</th>\n",
       "      <th>...</th>\n",
       "      <th>is_occupation_web_developer</th>\n",
       "      <th>is_IT_expr_2_to_5</th>\n",
       "      <th>is_IT_expr_6_to_10</th>\n",
       "      <th>is_IT_expr_above_11</th>\n",
       "      <th>is_IT_expr_below_2</th>\n",
       "      <th>compensation</th>\n",
       "      <th>year</th>\n",
       "      <th>country</th>\n",
       "      <th>job_satisfaction</th>\n",
       "      <th>GDP</th>\n",
       "    </tr>\n",
       "  </thead>\n",
       "  <tbody>\n",
       "    <tr>\n",
       "      <th>0</th>\n",
       "      <td>0.0</td>\n",
       "      <td>1.0</td>\n",
       "      <td>0.0</td>\n",
       "      <td>0.0</td>\n",
       "      <td>0.0</td>\n",
       "      <td>0.0</td>\n",
       "      <td>1.0</td>\n",
       "      <td>0.0</td>\n",
       "      <td>0.0</td>\n",
       "      <td>0.0</td>\n",
       "      <td>...</td>\n",
       "      <td>0.0</td>\n",
       "      <td>0.0</td>\n",
       "      <td>1.0</td>\n",
       "      <td>0.0</td>\n",
       "      <td>0.0</td>\n",
       "      <td>above-160000</td>\n",
       "      <td>2019</td>\n",
       "      <td>United States</td>\n",
       "      <td>8</td>\n",
       "      <td>65094.79943</td>\n",
       "    </tr>\n",
       "    <tr>\n",
       "      <th>1</th>\n",
       "      <td>0.0</td>\n",
       "      <td>1.0</td>\n",
       "      <td>0.0</td>\n",
       "      <td>0.0</td>\n",
       "      <td>0.0</td>\n",
       "      <td>0.0</td>\n",
       "      <td>1.0</td>\n",
       "      <td>0.0</td>\n",
       "      <td>0.0</td>\n",
       "      <td>0.0</td>\n",
       "      <td>...</td>\n",
       "      <td>0.0</td>\n",
       "      <td>1.0</td>\n",
       "      <td>0.0</td>\n",
       "      <td>0.0</td>\n",
       "      <td>0.0</td>\n",
       "      <td>above-160000</td>\n",
       "      <td>2019</td>\n",
       "      <td>United States</td>\n",
       "      <td>8</td>\n",
       "      <td>65094.79943</td>\n",
       "    </tr>\n",
       "    <tr>\n",
       "      <th>2</th>\n",
       "      <td>0.0</td>\n",
       "      <td>1.0</td>\n",
       "      <td>0.0</td>\n",
       "      <td>0.0</td>\n",
       "      <td>0.0</td>\n",
       "      <td>0.0</td>\n",
       "      <td>1.0</td>\n",
       "      <td>0.0</td>\n",
       "      <td>0.0</td>\n",
       "      <td>0.0</td>\n",
       "      <td>...</td>\n",
       "      <td>0.0</td>\n",
       "      <td>0.0</td>\n",
       "      <td>1.0</td>\n",
       "      <td>0.0</td>\n",
       "      <td>0.0</td>\n",
       "      <td>above-160000</td>\n",
       "      <td>2019</td>\n",
       "      <td>United States</td>\n",
       "      <td>8</td>\n",
       "      <td>65094.79943</td>\n",
       "    </tr>\n",
       "    <tr>\n",
       "      <th>3</th>\n",
       "      <td>0.0</td>\n",
       "      <td>1.0</td>\n",
       "      <td>0.0</td>\n",
       "      <td>0.0</td>\n",
       "      <td>0.0</td>\n",
       "      <td>0.0</td>\n",
       "      <td>1.0</td>\n",
       "      <td>0.0</td>\n",
       "      <td>0.0</td>\n",
       "      <td>0.0</td>\n",
       "      <td>...</td>\n",
       "      <td>0.0</td>\n",
       "      <td>0.0</td>\n",
       "      <td>1.0</td>\n",
       "      <td>0.0</td>\n",
       "      <td>0.0</td>\n",
       "      <td>above-160000</td>\n",
       "      <td>2019</td>\n",
       "      <td>United States</td>\n",
       "      <td>8</td>\n",
       "      <td>65094.79943</td>\n",
       "    </tr>\n",
       "    <tr>\n",
       "      <th>4</th>\n",
       "      <td>0.0</td>\n",
       "      <td>1.0</td>\n",
       "      <td>0.0</td>\n",
       "      <td>0.0</td>\n",
       "      <td>0.0</td>\n",
       "      <td>0.0</td>\n",
       "      <td>1.0</td>\n",
       "      <td>0.0</td>\n",
       "      <td>0.0</td>\n",
       "      <td>0.0</td>\n",
       "      <td>...</td>\n",
       "      <td>0.0</td>\n",
       "      <td>1.0</td>\n",
       "      <td>0.0</td>\n",
       "      <td>0.0</td>\n",
       "      <td>0.0</td>\n",
       "      <td>above-160000</td>\n",
       "      <td>2019</td>\n",
       "      <td>United States</td>\n",
       "      <td>8</td>\n",
       "      <td>65094.79943</td>\n",
       "    </tr>\n",
       "  </tbody>\n",
       "</table>\n",
       "<p>5 rows × 63 columns</p>\n",
       "</div>"
      ],
      "text/plain": [
       "   is_female  is_male  is_gender_non_confirming  is_transgender  \\\n",
       "0        0.0      1.0                       0.0             0.0   \n",
       "1        0.0      1.0                       0.0             0.0   \n",
       "2        0.0      1.0                       0.0             0.0   \n",
       "3        0.0      1.0                       0.0             0.0   \n",
       "4        0.0      1.0                       0.0             0.0   \n",
       "\n",
       "   is_gender_unknown  is_age_18_to_24  is_age_25_to34  is_age_35_44  \\\n",
       "0                0.0              0.0             1.0           0.0   \n",
       "1                0.0              0.0             1.0           0.0   \n",
       "2                0.0              0.0             1.0           0.0   \n",
       "3                0.0              0.0             1.0           0.0   \n",
       "4                0.0              0.0             1.0           0.0   \n",
       "\n",
       "   is_age_45_54  is_age_55_to_64  ...  is_occupation_web_developer  \\\n",
       "0           0.0              0.0  ...                          0.0   \n",
       "1           0.0              0.0  ...                          0.0   \n",
       "2           0.0              0.0  ...                          0.0   \n",
       "3           0.0              0.0  ...                          0.0   \n",
       "4           0.0              0.0  ...                          0.0   \n",
       "\n",
       "   is_IT_expr_2_to_5  is_IT_expr_6_to_10  is_IT_expr_above_11  \\\n",
       "0                0.0                 1.0                  0.0   \n",
       "1                1.0                 0.0                  0.0   \n",
       "2                0.0                 1.0                  0.0   \n",
       "3                0.0                 1.0                  0.0   \n",
       "4                1.0                 0.0                  0.0   \n",
       "\n",
       "   is_IT_expr_below_2  compensation  year        country  job_satisfaction  \\\n",
       "0                 0.0  above-160000  2019  United States                 8   \n",
       "1                 0.0  above-160000  2019  United States                 8   \n",
       "2                 0.0  above-160000  2019  United States                 8   \n",
       "3                 0.0  above-160000  2019  United States                 8   \n",
       "4                 0.0  above-160000  2019  United States                 8   \n",
       "\n",
       "           GDP  \n",
       "0  65094.79943  \n",
       "1  65094.79943  \n",
       "2  65094.79943  \n",
       "3  65094.79943  \n",
       "4  65094.79943  \n",
       "\n",
       "[5 rows x 63 columns]"
      ]
     },
     "execution_count": 3,
     "metadata": {},
     "output_type": "execute_result"
    }
   ],
   "source": [
    "df.head()"
   ]
  },
  {
   "cell_type": "code",
   "execution_count": 4,
   "metadata": {},
   "outputs": [
    {
     "data": {
      "text/plain": [
       "Index(['is_female', 'is_male', 'is_gender_non_confirming', 'is_transgender',\n",
       "       'is_gender_unknown', 'is_age_18_to_24', 'is_age_25_to34',\n",
       "       'is_age_35_44', 'is_age_45_54', 'is_age_55_to_64', 'is_age_above_65',\n",
       "       'is_age_below_18', 'is_company_size_1000_to_4999',\n",
       "       'is_company_size_100_to_499', 'is_company_size_5000_to_9999',\n",
       "       'is_company_size_500_to_999', 'is_company_size_unknown',\n",
       "       'is_company_size_above_10000', 'is_company_size_below_100',\n",
       "       'is_desktop_os_linux', 'is_desktop_os_mac', 'is_desktop_os_unix',\n",
       "       'is_desktop_os_windows', 'is_lang_c#', 'is_lang_c_c++',\n",
       "       'is_lang_hadoop', 'is_lang_html_css', 'is_lang_java',\n",
       "       'is_lang_javascript_nodejs', 'is_lang_lua', 'is_lang_objective_C',\n",
       "       'is_lang_other', 'is_lang_perl', 'is_lang_php', 'is_lang_powershell',\n",
       "       'is_lang_python', 'is_lang_r', 'is_lang_ruby', 'is_lang_scala',\n",
       "       'is_lang_sql', 'is_lang_swift', 'is_lang_visual_basic',\n",
       "       'is_occupation_c_suite', 'is_occupation_data_analyst',\n",
       "       'is_occupation_data_scientist', 'is_occupation_desktop_developer',\n",
       "       'is_occupation_developer', 'is_occupation_engineer',\n",
       "       'is_occupation_manager', 'is_occupation_mobile_developer',\n",
       "       'is_occupation_not_in_tech', 'is_occupation_other',\n",
       "       'is_occupation_system_admin', 'is_occupation_web_developer',\n",
       "       'is_IT_expr_2_to_5', 'is_IT_expr_6_to_10', 'is_IT_expr_above_11',\n",
       "       'is_IT_expr_below_2', 'compensation', 'year', 'country',\n",
       "       'job_satisfaction', 'GDP'],\n",
       "      dtype='object')"
      ]
     },
     "execution_count": 4,
     "metadata": {},
     "output_type": "execute_result"
    }
   ],
   "source": [
    "df.columns"
   ]
  },
  {
   "cell_type": "code",
   "execution_count": 5,
   "metadata": {},
   "outputs": [],
   "source": [
    "#Don't use these columns\n",
    "cols_excl = ['country', 'year']\n",
    "df = df.drop(cols_excl, axis=1)"
   ]
  },
  {
   "cell_type": "code",
   "execution_count": 6,
   "metadata": {},
   "outputs": [
    {
     "name": "stdout",
     "output_type": "stream",
     "text": [
      "Dataframe without NaN and 0 in compensation is 100.0% of the original dataframe.\n",
      "There are 252740 data points in it compared to 252740 entries in the original dataframe.\n",
      "\n",
      "Information on missing values in the dataframe df_salary:\n"
     ]
    },
    {
     "data": {
      "text/plain": [
       "is_female                   0.0\n",
       "is_male                     0.0\n",
       "is_gender_non_confirming    0.0\n",
       "is_transgender              0.0\n",
       "is_gender_unknown           0.0\n",
       "                           ... \n",
       "is_IT_expr_above_11         0.0\n",
       "is_IT_expr_below_2          0.0\n",
       "compensation                0.0\n",
       "job_satisfaction            0.0\n",
       "GDP                         0.0\n",
       "Length: 61, dtype: float64"
      ]
     },
     "execution_count": 6,
     "metadata": {},
     "output_type": "execute_result"
    }
   ],
   "source": [
    "#df_salary is a dataframe after dropping data points with NaN in 'compensation'\n",
    "df_salary = df.dropna(subset=['compensation'])[df.dropna(subset=['compensation'])['compensation']!=0]\n",
    "print('Dataframe without NaN and 0 in compensation is {}%'.format(round(len(df_salary)/len(df)*100, 2)), 'of the original dataframe.')\n",
    "print('There are {}'.format(len(df_salary)), 'data points in it compared to {}'.format(len(df)), 'entries in the original dataframe.\\n')\n",
    "print('Information on missing values in the dataframe df_salary:')\n",
    "df_salary.isna().sum()/len(df_salary)*100"
   ]
  },
  {
   "cell_type": "code",
   "execution_count": 7,
   "metadata": {},
   "outputs": [
    {
     "data": {
      "text/plain": [
       "array(['above-160000', '80000-100000', '100000-120000', '60000-to-80000',\n",
       "       '120000-140000', '140000-160000', '40000-60000', '20000-40000',\n",
       "       'below-20000', '60000-80000'], dtype=object)"
      ]
     },
     "execution_count": 7,
     "metadata": {},
     "output_type": "execute_result"
    }
   ],
   "source": [
    "df_salary['compensation'].unique()"
   ]
  },
  {
   "cell_type": "code",
   "execution_count": 8,
   "metadata": {},
   "outputs": [],
   "source": [
    "comp_int_dict = {'below-20000': 1, '20000-40000': 2, '40000-60000': 3, '60000-to-80000': 4, \"60000-80000\": 4, \n",
    "                 '80000-100000': 5,'100000-120000': 6, '12000-140000': 7, '120000-140000':7,\n",
    "                 '140000-160000': 8, 'above-160000': 9}"
   ]
  },
  {
   "cell_type": "code",
   "execution_count": 9,
   "metadata": {},
   "outputs": [],
   "source": [
    "df_salary.replace({'compensation':comp_int_dict}, inplace=True)"
   ]
  },
  {
   "cell_type": "code",
   "execution_count": 10,
   "metadata": {},
   "outputs": [
    {
     "data": {
      "text/plain": [
       "array([9, 5, 6, 4, 7, 8, 3, 2, 1], dtype=int64)"
      ]
     },
     "execution_count": 10,
     "metadata": {},
     "output_type": "execute_result"
    }
   ],
   "source": [
    "df_salary['compensation'].unique()"
   ]
  },
  {
   "cell_type": "code",
   "execution_count": 11,
   "metadata": {},
   "outputs": [
    {
     "data": {
      "text/html": [
       "<div>\n",
       "<style scoped>\n",
       "    .dataframe tbody tr th:only-of-type {\n",
       "        vertical-align: middle;\n",
       "    }\n",
       "\n",
       "    .dataframe tbody tr th {\n",
       "        vertical-align: top;\n",
       "    }\n",
       "\n",
       "    .dataframe thead th {\n",
       "        text-align: right;\n",
       "    }\n",
       "</style>\n",
       "<table border=\"1\" class=\"dataframe\">\n",
       "  <thead>\n",
       "    <tr style=\"text-align: right;\">\n",
       "      <th></th>\n",
       "      <th>is_female</th>\n",
       "      <th>is_male</th>\n",
       "      <th>is_gender_non_confirming</th>\n",
       "      <th>is_transgender</th>\n",
       "      <th>is_gender_unknown</th>\n",
       "      <th>is_age_18_to_24</th>\n",
       "      <th>is_age_25_to34</th>\n",
       "      <th>is_age_35_44</th>\n",
       "      <th>is_age_45_54</th>\n",
       "      <th>is_age_55_to_64</th>\n",
       "      <th>...</th>\n",
       "      <th>is_occupation_other</th>\n",
       "      <th>is_occupation_system_admin</th>\n",
       "      <th>is_occupation_web_developer</th>\n",
       "      <th>is_IT_expr_2_to_5</th>\n",
       "      <th>is_IT_expr_6_to_10</th>\n",
       "      <th>is_IT_expr_above_11</th>\n",
       "      <th>is_IT_expr_below_2</th>\n",
       "      <th>compensation</th>\n",
       "      <th>job_satisfaction</th>\n",
       "      <th>GDP</th>\n",
       "    </tr>\n",
       "  </thead>\n",
       "  <tbody>\n",
       "    <tr>\n",
       "      <th>0</th>\n",
       "      <td>0.0</td>\n",
       "      <td>1.0</td>\n",
       "      <td>0.0</td>\n",
       "      <td>0.0</td>\n",
       "      <td>0.0</td>\n",
       "      <td>0.0</td>\n",
       "      <td>1.0</td>\n",
       "      <td>0.0</td>\n",
       "      <td>0.0</td>\n",
       "      <td>0.0</td>\n",
       "      <td>...</td>\n",
       "      <td>0.0</td>\n",
       "      <td>0.0</td>\n",
       "      <td>0.0</td>\n",
       "      <td>0.0</td>\n",
       "      <td>1.0</td>\n",
       "      <td>0.0</td>\n",
       "      <td>0.0</td>\n",
       "      <td>9</td>\n",
       "      <td>8</td>\n",
       "      <td>65094.79943</td>\n",
       "    </tr>\n",
       "    <tr>\n",
       "      <th>1</th>\n",
       "      <td>0.0</td>\n",
       "      <td>1.0</td>\n",
       "      <td>0.0</td>\n",
       "      <td>0.0</td>\n",
       "      <td>0.0</td>\n",
       "      <td>0.0</td>\n",
       "      <td>1.0</td>\n",
       "      <td>0.0</td>\n",
       "      <td>0.0</td>\n",
       "      <td>0.0</td>\n",
       "      <td>...</td>\n",
       "      <td>0.0</td>\n",
       "      <td>0.0</td>\n",
       "      <td>0.0</td>\n",
       "      <td>1.0</td>\n",
       "      <td>0.0</td>\n",
       "      <td>0.0</td>\n",
       "      <td>0.0</td>\n",
       "      <td>9</td>\n",
       "      <td>8</td>\n",
       "      <td>65094.79943</td>\n",
       "    </tr>\n",
       "    <tr>\n",
       "      <th>2</th>\n",
       "      <td>0.0</td>\n",
       "      <td>1.0</td>\n",
       "      <td>0.0</td>\n",
       "      <td>0.0</td>\n",
       "      <td>0.0</td>\n",
       "      <td>0.0</td>\n",
       "      <td>1.0</td>\n",
       "      <td>0.0</td>\n",
       "      <td>0.0</td>\n",
       "      <td>0.0</td>\n",
       "      <td>...</td>\n",
       "      <td>0.0</td>\n",
       "      <td>0.0</td>\n",
       "      <td>0.0</td>\n",
       "      <td>0.0</td>\n",
       "      <td>1.0</td>\n",
       "      <td>0.0</td>\n",
       "      <td>0.0</td>\n",
       "      <td>9</td>\n",
       "      <td>8</td>\n",
       "      <td>65094.79943</td>\n",
       "    </tr>\n",
       "    <tr>\n",
       "      <th>3</th>\n",
       "      <td>0.0</td>\n",
       "      <td>1.0</td>\n",
       "      <td>0.0</td>\n",
       "      <td>0.0</td>\n",
       "      <td>0.0</td>\n",
       "      <td>0.0</td>\n",
       "      <td>1.0</td>\n",
       "      <td>0.0</td>\n",
       "      <td>0.0</td>\n",
       "      <td>0.0</td>\n",
       "      <td>...</td>\n",
       "      <td>0.0</td>\n",
       "      <td>0.0</td>\n",
       "      <td>0.0</td>\n",
       "      <td>0.0</td>\n",
       "      <td>1.0</td>\n",
       "      <td>0.0</td>\n",
       "      <td>0.0</td>\n",
       "      <td>9</td>\n",
       "      <td>8</td>\n",
       "      <td>65094.79943</td>\n",
       "    </tr>\n",
       "    <tr>\n",
       "      <th>4</th>\n",
       "      <td>0.0</td>\n",
       "      <td>1.0</td>\n",
       "      <td>0.0</td>\n",
       "      <td>0.0</td>\n",
       "      <td>0.0</td>\n",
       "      <td>0.0</td>\n",
       "      <td>1.0</td>\n",
       "      <td>0.0</td>\n",
       "      <td>0.0</td>\n",
       "      <td>0.0</td>\n",
       "      <td>...</td>\n",
       "      <td>0.0</td>\n",
       "      <td>0.0</td>\n",
       "      <td>0.0</td>\n",
       "      <td>1.0</td>\n",
       "      <td>0.0</td>\n",
       "      <td>0.0</td>\n",
       "      <td>0.0</td>\n",
       "      <td>9</td>\n",
       "      <td>8</td>\n",
       "      <td>65094.79943</td>\n",
       "    </tr>\n",
       "  </tbody>\n",
       "</table>\n",
       "<p>5 rows × 61 columns</p>\n",
       "</div>"
      ],
      "text/plain": [
       "   is_female  is_male  is_gender_non_confirming  is_transgender  \\\n",
       "0        0.0      1.0                       0.0             0.0   \n",
       "1        0.0      1.0                       0.0             0.0   \n",
       "2        0.0      1.0                       0.0             0.0   \n",
       "3        0.0      1.0                       0.0             0.0   \n",
       "4        0.0      1.0                       0.0             0.0   \n",
       "\n",
       "   is_gender_unknown  is_age_18_to_24  is_age_25_to34  is_age_35_44  \\\n",
       "0                0.0              0.0             1.0           0.0   \n",
       "1                0.0              0.0             1.0           0.0   \n",
       "2                0.0              0.0             1.0           0.0   \n",
       "3                0.0              0.0             1.0           0.0   \n",
       "4                0.0              0.0             1.0           0.0   \n",
       "\n",
       "   is_age_45_54  is_age_55_to_64  ...  is_occupation_other  \\\n",
       "0           0.0              0.0  ...                  0.0   \n",
       "1           0.0              0.0  ...                  0.0   \n",
       "2           0.0              0.0  ...                  0.0   \n",
       "3           0.0              0.0  ...                  0.0   \n",
       "4           0.0              0.0  ...                  0.0   \n",
       "\n",
       "   is_occupation_system_admin  is_occupation_web_developer  is_IT_expr_2_to_5  \\\n",
       "0                         0.0                          0.0                0.0   \n",
       "1                         0.0                          0.0                1.0   \n",
       "2                         0.0                          0.0                0.0   \n",
       "3                         0.0                          0.0                0.0   \n",
       "4                         0.0                          0.0                1.0   \n",
       "\n",
       "   is_IT_expr_6_to_10  is_IT_expr_above_11  is_IT_expr_below_2  compensation  \\\n",
       "0                 1.0                  0.0                 0.0             9   \n",
       "1                 0.0                  0.0                 0.0             9   \n",
       "2                 1.0                  0.0                 0.0             9   \n",
       "3                 1.0                  0.0                 0.0             9   \n",
       "4                 0.0                  0.0                 0.0             9   \n",
       "\n",
       "   job_satisfaction          GDP  \n",
       "0                 8  65094.79943  \n",
       "1                 8  65094.79943  \n",
       "2                 8  65094.79943  \n",
       "3                 8  65094.79943  \n",
       "4                 8  65094.79943  \n",
       "\n",
       "[5 rows x 61 columns]"
      ]
     },
     "execution_count": 11,
     "metadata": {},
     "output_type": "execute_result"
    }
   ],
   "source": [
    "df_salary.head()"
   ]
  },
  {
   "cell_type": "code",
   "execution_count": 12,
   "metadata": {},
   "outputs": [
    {
     "data": {
      "text/html": [
       "<div>\n",
       "<style scoped>\n",
       "    .dataframe tbody tr th:only-of-type {\n",
       "        vertical-align: middle;\n",
       "    }\n",
       "\n",
       "    .dataframe tbody tr th {\n",
       "        vertical-align: top;\n",
       "    }\n",
       "\n",
       "    .dataframe thead th {\n",
       "        text-align: right;\n",
       "    }\n",
       "</style>\n",
       "<table border=\"1\" class=\"dataframe\">\n",
       "  <thead>\n",
       "    <tr style=\"text-align: right;\">\n",
       "      <th></th>\n",
       "      <th>is_female</th>\n",
       "      <th>is_male</th>\n",
       "      <th>is_gender_non_confirming</th>\n",
       "      <th>is_transgender</th>\n",
       "      <th>is_gender_unknown</th>\n",
       "      <th>is_age_18_to_24</th>\n",
       "      <th>is_age_25_to34</th>\n",
       "      <th>is_age_35_44</th>\n",
       "      <th>is_age_45_54</th>\n",
       "      <th>is_age_55_to_64</th>\n",
       "      <th>...</th>\n",
       "      <th>is_occupation_not_in_tech</th>\n",
       "      <th>is_occupation_other</th>\n",
       "      <th>is_occupation_system_admin</th>\n",
       "      <th>is_occupation_web_developer</th>\n",
       "      <th>is_IT_expr_2_to_5</th>\n",
       "      <th>is_IT_expr_6_to_10</th>\n",
       "      <th>is_IT_expr_above_11</th>\n",
       "      <th>is_IT_expr_below_2</th>\n",
       "      <th>job_satisfaction</th>\n",
       "      <th>GDP</th>\n",
       "    </tr>\n",
       "  </thead>\n",
       "  <tbody>\n",
       "    <tr>\n",
       "      <th>0</th>\n",
       "      <td>0.0</td>\n",
       "      <td>1.0</td>\n",
       "      <td>0.0</td>\n",
       "      <td>0.0</td>\n",
       "      <td>0.0</td>\n",
       "      <td>0.0</td>\n",
       "      <td>1.0</td>\n",
       "      <td>0.0</td>\n",
       "      <td>0.0</td>\n",
       "      <td>0.0</td>\n",
       "      <td>...</td>\n",
       "      <td>0.0</td>\n",
       "      <td>0.0</td>\n",
       "      <td>0.0</td>\n",
       "      <td>0.0</td>\n",
       "      <td>0.0</td>\n",
       "      <td>1.0</td>\n",
       "      <td>0.0</td>\n",
       "      <td>0.0</td>\n",
       "      <td>1.33255</td>\n",
       "      <td>1.119652</td>\n",
       "    </tr>\n",
       "    <tr>\n",
       "      <th>1</th>\n",
       "      <td>0.0</td>\n",
       "      <td>1.0</td>\n",
       "      <td>0.0</td>\n",
       "      <td>0.0</td>\n",
       "      <td>0.0</td>\n",
       "      <td>0.0</td>\n",
       "      <td>1.0</td>\n",
       "      <td>0.0</td>\n",
       "      <td>0.0</td>\n",
       "      <td>0.0</td>\n",
       "      <td>...</td>\n",
       "      <td>0.0</td>\n",
       "      <td>0.0</td>\n",
       "      <td>0.0</td>\n",
       "      <td>0.0</td>\n",
       "      <td>1.0</td>\n",
       "      <td>0.0</td>\n",
       "      <td>0.0</td>\n",
       "      <td>0.0</td>\n",
       "      <td>1.33255</td>\n",
       "      <td>1.119652</td>\n",
       "    </tr>\n",
       "    <tr>\n",
       "      <th>2</th>\n",
       "      <td>0.0</td>\n",
       "      <td>1.0</td>\n",
       "      <td>0.0</td>\n",
       "      <td>0.0</td>\n",
       "      <td>0.0</td>\n",
       "      <td>0.0</td>\n",
       "      <td>1.0</td>\n",
       "      <td>0.0</td>\n",
       "      <td>0.0</td>\n",
       "      <td>0.0</td>\n",
       "      <td>...</td>\n",
       "      <td>0.0</td>\n",
       "      <td>0.0</td>\n",
       "      <td>0.0</td>\n",
       "      <td>0.0</td>\n",
       "      <td>0.0</td>\n",
       "      <td>1.0</td>\n",
       "      <td>0.0</td>\n",
       "      <td>0.0</td>\n",
       "      <td>1.33255</td>\n",
       "      <td>1.119652</td>\n",
       "    </tr>\n",
       "    <tr>\n",
       "      <th>3</th>\n",
       "      <td>0.0</td>\n",
       "      <td>1.0</td>\n",
       "      <td>0.0</td>\n",
       "      <td>0.0</td>\n",
       "      <td>0.0</td>\n",
       "      <td>0.0</td>\n",
       "      <td>1.0</td>\n",
       "      <td>0.0</td>\n",
       "      <td>0.0</td>\n",
       "      <td>0.0</td>\n",
       "      <td>...</td>\n",
       "      <td>0.0</td>\n",
       "      <td>0.0</td>\n",
       "      <td>0.0</td>\n",
       "      <td>0.0</td>\n",
       "      <td>0.0</td>\n",
       "      <td>1.0</td>\n",
       "      <td>0.0</td>\n",
       "      <td>0.0</td>\n",
       "      <td>1.33255</td>\n",
       "      <td>1.119652</td>\n",
       "    </tr>\n",
       "    <tr>\n",
       "      <th>4</th>\n",
       "      <td>0.0</td>\n",
       "      <td>1.0</td>\n",
       "      <td>0.0</td>\n",
       "      <td>0.0</td>\n",
       "      <td>0.0</td>\n",
       "      <td>0.0</td>\n",
       "      <td>1.0</td>\n",
       "      <td>0.0</td>\n",
       "      <td>0.0</td>\n",
       "      <td>0.0</td>\n",
       "      <td>...</td>\n",
       "      <td>0.0</td>\n",
       "      <td>0.0</td>\n",
       "      <td>0.0</td>\n",
       "      <td>0.0</td>\n",
       "      <td>1.0</td>\n",
       "      <td>0.0</td>\n",
       "      <td>0.0</td>\n",
       "      <td>0.0</td>\n",
       "      <td>1.33255</td>\n",
       "      <td>1.119652</td>\n",
       "    </tr>\n",
       "  </tbody>\n",
       "</table>\n",
       "<p>5 rows × 60 columns</p>\n",
       "</div>"
      ],
      "text/plain": [
       "   is_female  is_male  is_gender_non_confirming  is_transgender  \\\n",
       "0        0.0      1.0                       0.0             0.0   \n",
       "1        0.0      1.0                       0.0             0.0   \n",
       "2        0.0      1.0                       0.0             0.0   \n",
       "3        0.0      1.0                       0.0             0.0   \n",
       "4        0.0      1.0                       0.0             0.0   \n",
       "\n",
       "   is_gender_unknown  is_age_18_to_24  is_age_25_to34  is_age_35_44  \\\n",
       "0                0.0              0.0             1.0           0.0   \n",
       "1                0.0              0.0             1.0           0.0   \n",
       "2                0.0              0.0             1.0           0.0   \n",
       "3                0.0              0.0             1.0           0.0   \n",
       "4                0.0              0.0             1.0           0.0   \n",
       "\n",
       "   is_age_45_54  is_age_55_to_64  ...  is_occupation_not_in_tech  \\\n",
       "0           0.0              0.0  ...                        0.0   \n",
       "1           0.0              0.0  ...                        0.0   \n",
       "2           0.0              0.0  ...                        0.0   \n",
       "3           0.0              0.0  ...                        0.0   \n",
       "4           0.0              0.0  ...                        0.0   \n",
       "\n",
       "   is_occupation_other  is_occupation_system_admin  \\\n",
       "0                  0.0                         0.0   \n",
       "1                  0.0                         0.0   \n",
       "2                  0.0                         0.0   \n",
       "3                  0.0                         0.0   \n",
       "4                  0.0                         0.0   \n",
       "\n",
       "   is_occupation_web_developer  is_IT_expr_2_to_5  is_IT_expr_6_to_10  \\\n",
       "0                          0.0                0.0                 1.0   \n",
       "1                          0.0                1.0                 0.0   \n",
       "2                          0.0                0.0                 1.0   \n",
       "3                          0.0                0.0                 1.0   \n",
       "4                          0.0                1.0                 0.0   \n",
       "\n",
       "   is_IT_expr_above_11  is_IT_expr_below_2  job_satisfaction       GDP  \n",
       "0                  0.0                 0.0           1.33255  1.119652  \n",
       "1                  0.0                 0.0           1.33255  1.119652  \n",
       "2                  0.0                 0.0           1.33255  1.119652  \n",
       "3                  0.0                 0.0           1.33255  1.119652  \n",
       "4                  0.0                 0.0           1.33255  1.119652  \n",
       "\n",
       "[5 rows x 60 columns]"
      ]
     },
     "metadata": {},
     "output_type": "display_data"
    },
    {
     "name": "stdout",
     "output_type": "stream",
     "text": [
      "Index(['is_female', 'is_male', 'is_gender_non_confirming', 'is_transgender',\n",
      "       'is_gender_unknown', 'is_age_18_to_24', 'is_age_25_to34',\n",
      "       'is_age_35_44', 'is_age_45_54', 'is_age_55_to_64', 'is_age_above_65',\n",
      "       'is_age_below_18', 'is_company_size_1000_to_4999',\n",
      "       'is_company_size_100_to_499', 'is_company_size_5000_to_9999',\n",
      "       'is_company_size_500_to_999', 'is_company_size_unknown',\n",
      "       'is_company_size_above_10000', 'is_company_size_below_100',\n",
      "       'is_desktop_os_linux', 'is_desktop_os_mac', 'is_desktop_os_unix',\n",
      "       'is_desktop_os_windows', 'is_lang_c#', 'is_lang_c_c++',\n",
      "       'is_lang_hadoop', 'is_lang_html_css', 'is_lang_java',\n",
      "       'is_lang_javascript_nodejs', 'is_lang_lua', 'is_lang_objective_C',\n",
      "       'is_lang_other', 'is_lang_perl', 'is_lang_php', 'is_lang_powershell',\n",
      "       'is_lang_python', 'is_lang_r', 'is_lang_ruby', 'is_lang_scala',\n",
      "       'is_lang_sql', 'is_lang_swift', 'is_lang_visual_basic',\n",
      "       'is_occupation_c_suite', 'is_occupation_data_analyst',\n",
      "       'is_occupation_data_scientist', 'is_occupation_desktop_developer',\n",
      "       'is_occupation_developer', 'is_occupation_engineer',\n",
      "       'is_occupation_manager', 'is_occupation_mobile_developer',\n",
      "       'is_occupation_not_in_tech', 'is_occupation_other',\n",
      "       'is_occupation_system_admin', 'is_occupation_web_developer',\n",
      "       'is_IT_expr_2_to_5', 'is_IT_expr_6_to_10', 'is_IT_expr_above_11',\n",
      "       'is_IT_expr_below_2', 'job_satisfaction', 'GDP'],\n",
      "      dtype='object')\n"
     ]
    }
   ],
   "source": [
    "#Define data (predictors) and response\n",
    "data_df = df_salary.drop('compensation', axis=1)\n",
    "\n",
    "# Some code to scale numerical data\n",
    "cols_to_scale = ['job_satisfaction', 'GDP']\n",
    "train_numerical = data_df[cols_to_scale].copy()\n",
    "sc = StandardScaler()\n",
    "sc.fit(train_numerical)\n",
    "train_scaled = sc.transform(train_numerical)\n",
    "train_scaled = pd.DataFrame(train_scaled, columns = train_numerical.columns)\n",
    "data_df_scaled = pd.concat([data_df.drop(cols_to_scale, axis=1), train_scaled], axis=1)\n",
    "display(data_df_scaled.head()) #scaled job satisfaction and GDP data\n",
    " \n",
    "print(data_df_scaled.columns) #checking that 'compensation' is not there\n",
    "data = data_df_scaled.to_numpy()\n",
    "#Temporarily drop GDP\n",
    "# data = data_df_scaled.drop('GDP', axis=1).to_numpy()\n",
    "salary = df_salary['compensation'].to_numpy()"
   ]
  },
  {
   "cell_type": "code",
   "execution_count": 13,
   "metadata": {},
   "outputs": [
    {
     "data": {
      "text/plain": [
       "array([1, 2, 3, 4, 5, 6, 7, 8, 9], dtype=int64)"
      ]
     },
     "execution_count": 13,
     "metadata": {},
     "output_type": "execute_result"
    }
   ],
   "source": [
    "np.unique(salary)"
   ]
  },
  {
   "cell_type": "code",
   "execution_count": 14,
   "metadata": {},
   "outputs": [
    {
     "data": {
      "text/plain": [
       "(252740, 60)"
      ]
     },
     "execution_count": 14,
     "metadata": {},
     "output_type": "execute_result"
    }
   ],
   "source": [
    "data.shape"
   ]
  },
  {
   "cell_type": "code",
   "execution_count": 15,
   "metadata": {},
   "outputs": [
    {
     "data": {
      "text/plain": [
       "(252740,)"
      ]
     },
     "execution_count": 15,
     "metadata": {},
     "output_type": "execute_result"
    }
   ],
   "source": [
    "salary.shape"
   ]
  },
  {
   "cell_type": "code",
   "execution_count": 16,
   "metadata": {},
   "outputs": [],
   "source": [
    "#Could be nice for visualization for model report, compare with real values\n",
    "def confusion_matrix(rater_a, rater_b, min_rating=None, max_rating=None):\n",
    "    \"\"\"\n",
    "    Returns the confusion matrix between rater's ratings\n",
    "    \"\"\"\n",
    "    assert (len(rater_a) == len(rater_b))\n",
    "    if min_rating is None:\n",
    "        min_rating = min(rater_a + rater_b)\n",
    "    if max_rating is None:\n",
    "        max_rating = max(rater_a + rater_b)\n",
    "    num_ratings = int(max_rating - min_rating + 1)\n",
    "    conf_mat = [[0 for i in range(num_ratings)]\n",
    "                for j in range(num_ratings)]\n",
    "    for a, b in zip(rater_a, rater_b):\n",
    "        conf_mat[a - min_rating][b - min_rating] += 1\n",
    "    return conf_mat\n",
    "\n",
    "\n",
    "#Could be used to include in a model report, compare with real values\n",
    "def histogram(ratings, min_rating=None, max_rating=None):\n",
    "    \"\"\"\n",
    "    Returns the counts of each type of rating that a rater made\n",
    "    \"\"\"\n",
    "    if min_rating is None:\n",
    "        min_rating = min(ratings)\n",
    "    if max_rating is None:\n",
    "        max_rating = max(ratings)\n",
    "    num_ratings = int(max_rating - min_rating + 1)\n",
    "    hist_ratings = [0 for x in range(num_ratings)]\n",
    "    for r in ratings:\n",
    "        hist_ratings[r - min_rating] += 1\n",
    "    return hist_ratings\n",
    "\n",
    "#Define evaluation metric\n",
    "def quadratic_weighted_kappa(y, y_pred):\n",
    "    rater_a = y\n",
    "    rater_b = y_pred\n",
    "    min_rating = None\n",
    "    max_rating = None\n",
    "    rater_a = np.array(rater_a, dtype=int)\n",
    "    rater_b = np.array(rater_b, dtype=int)\n",
    "    assert (len(rater_a) == len(rater_b))\n",
    "    if min_rating is None:\n",
    "        min_rating = min(min(rater_a), min(rater_b))\n",
    "    if max_rating is None:\n",
    "        max_rating = max(max(rater_a), max(rater_b))\n",
    "    conf_mat = confusion_matrix(rater_a, rater_b,\n",
    "                                min_rating, max_rating)\n",
    "    num_ratings = len(conf_mat)\n",
    "    num_scored_items = float(len(rater_a))\n",
    "\n",
    "    hist_rater_a = histogram(rater_a, min_rating, max_rating)\n",
    "    hist_rater_b = histogram(rater_b, min_rating, max_rating)\n",
    "\n",
    "    numerator = 0.0\n",
    "    denominator = 0.0\n",
    "\n",
    "    for i in range(num_ratings):\n",
    "        for j in range(num_ratings):\n",
    "            expected_count = (hist_rater_a[i] * hist_rater_b[j]\n",
    "                              / num_scored_items)\n",
    "            d = pow(i - j, 2.0) / pow(num_ratings - 1, 2.0)\n",
    "            numerator += d * conf_mat[i][j] / num_scored_items\n",
    "            denominator += d * expected_count / num_scored_items\n",
    "\n",
    "    return (1.0 - numerator / denominator)"
   ]
  },
  {
   "cell_type": "markdown",
   "metadata": {},
   "source": [
    "## Light Gradient Boosting Machine regressor ##"
   ]
  },
  {
   "cell_type": "markdown",
   "metadata": {},
   "source": [
    "**Rounding to nearest integer**"
   ]
  },
  {
   "cell_type": "markdown",
   "metadata": {},
   "source": [
    "5-fold CV"
   ]
  },
  {
   "cell_type": "code",
   "execution_count": 17,
   "metadata": {},
   "outputs": [],
   "source": [
    "#Split data into train and test datasets - do again to ensure variables are correctly assigned\n",
    "data_train, data_test, labels_train, labels_test = train_test_split(data, salary, test_size = 0.2, random_state = 0)\n",
    "\n",
    "cv_scores = np.empty(5)\n",
    "cv = StratifiedKFold(n_splits=5, shuffle=True, random_state=1)\n",
    "\n",
    "for idx, (train_idx, test_idx) in enumerate(cv.split(data_train, labels_train)):\n",
    "    X_train, X_test = data_train[train_idx], data_train[test_idx]\n",
    "    y_train, y_test = labels_train[train_idx], labels_train[test_idx]    \n",
    "    model = lgb.LGBMRegressor()\n",
    "    pred = model.fit(X_train, y_train).predict(X_test).astype(np.int32) #rounding to nearest integer\n",
    "    qwk = quadratic_weighted_kappa(pred,y_test)\n",
    "    cv_scores[idx] = qwk"
   ]
  },
  {
   "cell_type": "code",
   "execution_count": 18,
   "metadata": {},
   "outputs": [
    {
     "name": "stdout",
     "output_type": "stream",
     "text": [
      "For LGBM rounding to the nearest integer the mean quadratic weighted kappa score in stratified 5-fold CV is 0.6225676657816221.\n"
     ]
    }
   ],
   "source": [
    "print('For LGBM rounding to the nearest integer the mean quadratic weighted kappa score in stratified 5-fold CV is {}.'.format(np.mean(cv_scores)))"
   ]
  },
  {
   "cell_type": "markdown",
   "metadata": {},
   "source": [
    "Score for test set"
   ]
  },
  {
   "cell_type": "code",
   "execution_count": 19,
   "metadata": {},
   "outputs": [
    {
     "name": "stdout",
     "output_type": "stream",
     "text": [
      "Test set QWK for LGBM regressor with rounding of salary categories to nearest integer is 0.6216168228947487\n"
     ]
    }
   ],
   "source": [
    "#Split data into train and test datasets\n",
    "x_train, x_test, y_train, y_test = train_test_split(data, salary, test_size = 0.2, random_state = 0)\n",
    "\n",
    "test_y = y_test\n",
    "gbm_reg = lgb.LGBMRegressor()\n",
    "gbm_reg.fit(X=x_train, y=y_train)\n",
    "pred_test_y_k = gbm_reg.predict(x_test).astype(np.int32) #rounding to nearest integer\n",
    "qwk = quadratic_weighted_kappa(test_y, pred_test_y_k)\n",
    "print(\"Test set QWK for LGBM regressor with rounding of salary categories to nearest integer is\", qwk)"
   ]
  },
  {
   "cell_type": "markdown",
   "metadata": {},
   "source": [
    "**Optimized rounding**"
   ]
  },
  {
   "cell_type": "code",
   "execution_count": 20,
   "metadata": {},
   "outputs": [],
   "source": [
    "class OptimizedRounder(object):\n",
    "    def __init__(self):\n",
    "        self.coef_ = 0\n",
    "\n",
    "    def _kappa_loss(self, coef, X, y):\n",
    "        X_p = np.copy(X)\n",
    "        for i, pred in enumerate(X_p):\n",
    "            if pred < coef[0]:\n",
    "                X_p[i] = 0\n",
    "            elif pred >= coef[0] and pred < coef[1]:\n",
    "                X_p[i] = 1\n",
    "            elif pred >= coef[1] and pred < coef[2]:\n",
    "                X_p[i] = 2\n",
    "            elif pred >= coef[2] and pred < coef[3]:\n",
    "                X_p[i] = 3\n",
    "            else:\n",
    "                X_p[i] = 4\n",
    "\n",
    "        ll = quadratic_weighted_kappa(y, X_p)\n",
    "        return -ll\n",
    "\n",
    "    def fit(self, X, y):\n",
    "        loss_partial = partial(self._kappa_loss, X=X, y=y)\n",
    "        initial_coef = [0.5, 1.5, 2.5, 3.5, 4.5, 5.5, 6.5, 7.5, 8.5]\n",
    "        self.coef_ = sp.optimize.minimize(loss_partial, initial_coef, method='nelder-mead')\n",
    "\n",
    "    def predict(self, X, coef):\n",
    "        X_p = np.copy(X)\n",
    "        for i, pred in enumerate(X_p):\n",
    "            if pred < coef[0]:\n",
    "                X_p[i] = 0\n",
    "            elif pred >= coef[0] and pred < coef[1]:\n",
    "                X_p[i] = 1\n",
    "            elif pred >= coef[1] and pred < coef[2]:\n",
    "                X_p[i] = 2\n",
    "            elif pred >= coef[2] and pred < coef[3]:\n",
    "                X_p[i] = 3\n",
    "            elif pred >= coef[3] and pred < coef[4]:\n",
    "                X_p[i] = 4\n",
    "            elif pred >= coef[4] and pred < coef[5]:\n",
    "                X_p[i] = 5\n",
    "            elif pred >= coef[5] and pred < coef[6]:\n",
    "                X_p[i] = 6\n",
    "            elif pred >= coef[6] and pred < coef[7]:\n",
    "                X_p[i] = 7\n",
    "            elif pred >= coef[7] and pred < coef[8]:\n",
    "                X_p[i] = 8\n",
    "            else:\n",
    "                X_p[i] = 9\n",
    "        return X_p\n",
    "\n",
    "    def coefficients(self):\n",
    "        return self.coef_['x']\n",
    "\n",
    "#Split data into train and test datasets - do again to ensure variables are correctly assigned\n",
    "data_train, data_test, labels_train, labels_test = train_test_split(data, salary, test_size = 0.2, random_state = 0)\n",
    "\n",
    "cv_scores_opt = np.empty(5)\n",
    "cv = StratifiedKFold(n_splits=5, shuffle=True, random_state=1)\n",
    "\n",
    "coefficients_arr = 0\n",
    "#For train set, make further splits for CV\n",
    "for idx, (train_idx, test_idx) in enumerate(cv.split(data_train, labels_train)):\n",
    "    X_train, X_test = data_train[train_idx], data_train[test_idx]\n",
    "    y_train, y_test = labels_train[train_idx], labels_train[test_idx]    \n",
    "    model = lgb.LGBMRegressor()\n",
    "    pred = model.fit(X_train, y_train).predict(X_test)\n",
    "    optR = OptimizedRounder()\n",
    "    optR.fit(pred, y_test)\n",
    "    coefficients = optR.coefficients()\n",
    "    coefficients_arr+=coefficients\n",
    "    pred_test_y_k = optR.predict(pred, coefficients)\n",
    "    qwk = quadratic_weighted_kappa(pred_test_y_k,y_test)\n",
    "    cv_scores_opt[idx] = qwk"
   ]
  },
  {
   "cell_type": "code",
   "execution_count": 21,
   "metadata": {},
   "outputs": [
    {
     "name": "stdout",
     "output_type": "stream",
     "text": [
      "Mean quadratic weighted kappa score for stratified 5-fold CV for LGBM regressor is 0.636467626478961\n"
     ]
    }
   ],
   "source": [
    "print('Mean quadratic weighted kappa score for stratified 5-fold CV for LGBM regressor is', np.mean(cv_scores_opt))"
   ]
  },
  {
   "cell_type": "markdown",
   "metadata": {},
   "source": [
    "Fitting and evaluation of model for test set"
   ]
  },
  {
   "cell_type": "code",
   "execution_count": 22,
   "metadata": {},
   "outputs": [
    {
     "name": "stdout",
     "output_type": "stream",
     "text": [
      "Coefficients final are [0.51249491 2.97944879 3.40540071 3.61208736 2.78463404 4.41053301\n",
      " 6.20135024 6.70855985 5.66111023]\n",
      "gbm_reg_pred is [3.07437038 8.33843241 6.95288679 ... 1.80553806 1.51630029 3.4899383 ]\n",
      "Predicted Counts =  Counter({1.0: 17865, 6.0: 12233, 5.0: 7799, 2.0: 4825, 9.0: 3120, 7.0: 2400, 3.0: 2301, 0.0: 5})\n",
      "Coefficients =  [0.51249491 2.97944879 3.40540071 3.61208736 2.78463404 4.41053301\n",
      " 6.20135024 6.70855985 5.66111023]\n",
      "Test set QWK for LGBM regressor with optimized rounding of salary categories is 0.6708274732563879\n"
     ]
    }
   ],
   "source": [
    "#Split data into train and test datasets\n",
    "x_train, x_test, y_train, y_test = train_test_split(data, salary, test_size = 0.2, random_state = 0)\n",
    "\n",
    "test_y = y_test\n",
    "gbm_reg = lgb.LGBMRegressor()\n",
    "gbm_reg.fit(X=x_train, y=y_train)\n",
    "pred_test_y = gbm_reg.predict(x_test)\n",
    "gbm_reg_pred = pred_test_y\n",
    "\n",
    "coefficients_final = coefficients_arr/5 #using means of optimized coefficients from CV\n",
    "print('Coefficients final are', coefficients_final)\n",
    "\n",
    "optR = OptimizedRounder()\n",
    "optR.coef_ = coefficients_final\n",
    "pred_test_y_k = optR.predict(gbm_reg_pred, coefficients_final)\n",
    "print('gbm_reg_pred is', gbm_reg_pred)\n",
    "print(\"Predicted Counts = \", Counter(pred_test_y_k))\n",
    "print(\"Coefficients = \", coefficients_final)\n",
    "qwk = quadratic_weighted_kappa(test_y, pred_test_y_k)\n",
    "print(\"Test set QWK for LGBM regressor with optimized rounding of salary categories is\", qwk)"
   ]
  },
  {
   "cell_type": "code",
   "execution_count": 23,
   "metadata": {},
   "outputs": [
    {
     "data": {
      "image/png": "[encoded data removed]",
      "text/plain": [
       "<Figure size 432x720 with 1 Axes>"
      ]
     },
     "metadata": {
      "needs_background": "light"
     },
     "output_type": "display_data"
    }
   ],
   "source": [
    "feature_imp = pd.DataFrame(sorted(zip(gbm_reg.feature_importances_,data_df.columns)), columns=['Value','Feature'])\n",
    "\n",
    "plt.figure(figsize=(6, 10))\n",
    "sns.barplot(x=\"Value\", y=\"Feature\", data=feature_imp.sort_values(by=\"Value\", ascending=False))\n",
    "plt.title('LGBM regressor (optimized rounding) \\n feature importance (average over folds)')\n",
    "plt.tight_layout()\n",
    "plt.savefig('LGBM regressor (optimized rounding) feature importance (average over folds).svg')\n",
    "plt.show()"
   ]
  },
  {
   "cell_type": "markdown",
   "metadata": {},
   "source": [
    "## Light Gradient Boosting Machine classifier ##"
   ]
  },
  {
   "cell_type": "code",
   "execution_count": 24,
   "metadata": {},
   "outputs": [
    {
     "name": "stdout",
     "output_type": "stream",
     "text": [
      "Mean quadratic weighted kappa score for stratified 5-fold CV for optimal parameters         of Light GBM classifier is 0.6365364856256647\n",
      "Mean quadratic weighted kappa score for the test split         of Light GBM classifier is 0.6370432511938602\n"
     ]
    }
   ],
   "source": [
    "labels = salary.astype(str)\n",
    "\n",
    "#Split data into train and test datasets - do again to ensure variables are correctly assigned\n",
    "data_train, data_test, labels_train, labels_test = train_test_split(data, labels, test_size = 0.2, random_state = 0)\n",
    "\n",
    "cv_scores = np.empty(5)\n",
    "cv = StratifiedKFold(n_splits=5, shuffle=True, random_state=1121218)\n",
    "\n",
    "for idx, (train_idx, test_idx) in enumerate(cv.split(data_train, labels_train)):\n",
    "    X_train, X_test = data_train[train_idx], data_train[test_idx]\n",
    "    y_train, y_test = labels_train[train_idx], labels_train[test_idx]    \n",
    "    model = lgb.LGBMClassifier() #treating it as a classification problem \n",
    "    pred = model.fit(X_train, y_train).predict(X_test)\n",
    "    cv_scores[idx] = quadratic_weighted_kappa(pred, y_test) #but evaluation is based on integers - conversion done within function\n",
    "    \n",
    "print('Mean quadratic weighted kappa score for stratified 5-fold CV for optimal parameters \\\n",
    "        of Light GBM classifier is', np.mean(cv_scores))\n",
    "\n",
    "#Split data into train and test datasets - do again to ensure variables are correctly assigned\n",
    "x_train, x_test, y_train, y_test = train_test_split(data, labels, test_size = 0.2, random_state = 0)\n",
    "\n",
    "gbm_clf = lgb.LGBMClassifier()\n",
    "gbm_clf.fit(X=x_train, y=y_train)\n",
    "\n",
    "gbm_clf_pred = gbm_clf.predict(x_test)\n",
    "print('Mean quadratic weighted kappa score for the test split \\\n",
    "        of Light GBM classifier is', quadratic_weighted_kappa(gbm_clf_pred, y_test))"
   ]
  },
  {
   "cell_type": "code",
   "execution_count": 25,
   "metadata": {},
   "outputs": [
    {
     "data": {
      "image/png": "[encoded data removed]",
      "text/plain": [
       "<Figure size 432x720 with 1 Axes>"
      ]
     },
     "metadata": {
      "needs_background": "light"
     },
     "output_type": "display_data"
    }
   ],
   "source": [
    "feature_imp = pd.DataFrame(sorted(zip(gbm_reg.feature_importances_,data_df.columns)), columns=['Value','Feature'])\n",
    "\n",
    "plt.figure(figsize=(6, 10))\n",
    "sns.barplot(x=\"Value\", y=\"Feature\", data=feature_imp.sort_values(by=\"Value\", ascending=False))\n",
    "plt.title('LGBM classifier feature importance')\n",
    "plt.tight_layout()\n",
    "plt.savefig('LGBM classifier feature importance.svg')\n",
    "plt.show()"
   ]
  },
  {
   "cell_type": "markdown",
   "metadata": {},
   "source": [
    "## Random forest regression ##"
   ]
  },
  {
   "cell_type": "markdown",
   "metadata": {},
   "source": [
    "**Find optimal tree depth for sample of the data**\n",
    "\n",
    "This done to make the search quicker."
   ]
  },
  {
   "cell_type": "code",
   "execution_count": 26,
   "metadata": {},
   "outputs": [],
   "source": [
    "labels = df_salary['compensation'].to_numpy() #continuous for regression\n",
    "\n",
    "#Split data into train and test datasets\n",
    "x_train, x_test, y_train, y_test = train_test_split(data, labels, test_size = 0.2, random_state = 0)\n",
    "\n",
    "#Randomly sample 20000 data points to work up optimal depth search\n",
    "np.random.seed(0)\n",
    "sample = np.random.choice(len(x_train), 20000, replace = False)\n",
    "x_train = x_train[sample]\n",
    "y_train = y_train[sample]"
   ]
  },
  {
   "cell_type": "code",
   "execution_count": 27,
   "metadata": {},
   "outputs": [
    {
     "name": "stdout",
     "output_type": "stream",
     "text": [
      "Iteration 1 done\n",
      "Iteration 2 done\n",
      "Iteration 3 done\n",
      "Iteration 4 done\n",
      "Iteration 5 done\n",
      "Iteration 6 done\n",
      "Iteration 7 done\n",
      "Iteration 8 done\n",
      "Iteration 9 done\n",
      "Iteration 10 done\n",
      "Iteration 11 done\n",
      "Iteration 12 done\n",
      "Iteration 13 done\n",
      "Iteration 14 done\n",
      "Iteration 15 done\n",
      "Iteration 16 done\n",
      "Iteration 17 done\n",
      "Iteration 18 done\n",
      "Iteration 19 done\n",
      "Iteration 20 done\n",
      "Iteration 21 done\n",
      "Iteration 22 done\n",
      "Iteration 23 done\n",
      "Iteration 24 done\n"
     ]
    }
   ],
   "source": [
    "depth_iter = 25\n",
    "RF_test_error = []\n",
    "for depth in range(1, depth_iter):\n",
    "    randomForest_reg = RandomForestRegressor(max_depth = depth, random_state=0).fit(x_train, y_train)\n",
    "    randomForest_reg_pred = np.rint(randomForest_reg.predict(x_test))\n",
    "    RF_test_error.append(quadratic_weighted_kappa(randomForest_reg_pred, y_test))\n",
    "    print('Iteration {} done'.format(depth))"
   ]
  },
  {
   "cell_type": "code",
   "execution_count": 28,
   "metadata": {},
   "outputs": [
    {
     "data": {
      "text/plain": [
       "[<matplotlib.lines.Line2D at 0x1278e408808>]"
      ]
     },
     "execution_count": 28,
     "metadata": {},
     "output_type": "execute_result"
    },
    {
     "data": {
      "image/png": "[encoded data removed]",
      "text/plain": [
       "<Figure size 432x288 with 1 Axes>"
      ]
     },
     "metadata": {
      "needs_background": "light"
     },
     "output_type": "display_data"
    }
   ],
   "source": [
    "plt.plot(range(1, depth_iter), RF_test_error)"
   ]
  },
  {
   "cell_type": "code",
   "execution_count": 29,
   "metadata": {},
   "outputs": [
    {
     "data": {
      "text/plain": [
       "0.6272356284765199"
      ]
     },
     "execution_count": 29,
     "metadata": {},
     "output_type": "execute_result"
    }
   ],
   "source": [
    "opt_depth_RFreg = np.argmax(RF_test_error)\n",
    "RF_test_error[opt_depth_RFreg]"
   ]
  },
  {
   "cell_type": "code",
   "execution_count": 30,
   "metadata": {},
   "outputs": [
    {
     "name": "stdout",
     "output_type": "stream",
     "text": [
      "Optimal tree depth for RF regressor is 16\n"
     ]
    }
   ],
   "source": [
    "print('Optimal tree depth for RF regressor is {}'.format(opt_depth_RFreg+1))"
   ]
  },
  {
   "cell_type": "markdown",
   "metadata": {},
   "source": [
    "**Find CV and test set scores for rounding to nearest integer for full dataset**"
   ]
  },
  {
   "cell_type": "markdown",
   "metadata": {},
   "source": [
    "5-fold CV"
   ]
  },
  {
   "cell_type": "code",
   "execution_count": 31,
   "metadata": {},
   "outputs": [],
   "source": [
    "cv_scores = np.empty(5)\n",
    "cv = StratifiedKFold(n_splits=5, shuffle=True, random_state=1121218)\n",
    "\n",
    "#Split data into train and test datasets - do again to ensure variables are correctly assigned\n",
    "data_train, data_test, labels_train, labels_test = train_test_split(data, labels, test_size = 0.2, random_state = 0)\n",
    "\n",
    "for idx, (train_idx, test_idx) in enumerate(cv.split(data_train, labels_train)):\n",
    "    X_train, X_test = data_train[train_idx], data_train[test_idx]\n",
    "    y_train, y_test = labels_train[train_idx], labels_train[test_idx]\n",
    "    model = RandomForestRegressor(max_depth = opt_depth_RFreg+1, random_state=0)\n",
    "    pred = model.fit(X_train, y_train).predict(X_test)\n",
    "    qwk = quadratic_weighted_kappa(np.rint(pred), y_test)\n",
    "#         print('QWK is', qwk)\n",
    "    cv_scores[idx] = qwk"
   ]
  },
  {
   "cell_type": "code",
   "execution_count": 32,
   "metadata": {},
   "outputs": [
    {
     "name": "stdout",
     "output_type": "stream",
     "text": [
      "Quadratic weighted Kappa for 5-fold CV for random forest regressor is 0.6766893603703659\n"
     ]
    }
   ],
   "source": [
    "print('Quadratic weighted Kappa for 5-fold CV for random forest regressor is', np.mean(cv_scores))"
   ]
  },
  {
   "cell_type": "markdown",
   "metadata": {},
   "source": [
    "Evaluate fit to test set"
   ]
  },
  {
   "cell_type": "code",
   "execution_count": 33,
   "metadata": {},
   "outputs": [],
   "source": [
    "#Split data into train and test datasets\n",
    "x_train, x_test, y_train, y_test = train_test_split(data, labels, test_size = 0.2, random_state = 0)\n",
    "#On test set\n",
    "model = RandomForestRegressor(max_depth = opt_depth_RFreg+1, random_state=0)\n",
    "pred = model.fit(x_train, y_train).predict(x_test)"
   ]
  },
  {
   "cell_type": "code",
   "execution_count": 34,
   "metadata": {},
   "outputs": [
    {
     "name": "stdout",
     "output_type": "stream",
     "text": [
      "Quadratic weighted Kappa for the test set for random forest regressor is 0.6803753916858659\n"
     ]
    }
   ],
   "source": [
    "print('Quadratic weighted Kappa for the test set for random forest regressor is', quadratic_weighted_kappa(np.rint(pred), y_test))"
   ]
  },
  {
   "cell_type": "markdown",
   "metadata": {},
   "source": [
    "**Find CV and test set scores for optimized rounding**"
   ]
  },
  {
   "cell_type": "code",
   "execution_count": 35,
   "metadata": {},
   "outputs": [
    {
     "name": "stdout",
     "output_type": "stream",
     "text": [
      "Quadratic weighted Kappa for 5-fold CV for random forest regressor with optimized rounding is 0.6491128950483921\n"
     ]
    }
   ],
   "source": [
    "cv_scores = np.empty(5)\n",
    "cv = StratifiedKFold(n_splits=5, shuffle=True, random_state=1121218)\n",
    "\n",
    "coefficients_arr = 0\n",
    "for idx, (train_idx, test_idx) in enumerate(cv.split(data_train, labels_train)):\n",
    "    X_train, X_test = data_train[train_idx], data_train[test_idx]\n",
    "    y_train, y_test = labels_train[train_idx], labels_train[test_idx]\n",
    "  \n",
    "    model = RandomForestRegressor(opt_depth_RFreg+1, random_state=0)\n",
    "    pred = model.fit(X_train, y_train).predict(X_test)\n",
    "    optR = OptimizedRounder()\n",
    "    optR.fit(pred, y_test)\n",
    "    coefficients = optR.coefficients()\n",
    "    coefficients_arr+=coefficients\n",
    "    pred_test_y_k = optR.predict(pred, coefficients)\n",
    "    qwk = quadratic_weighted_kappa(pred_test_y_k,y_test)\n",
    "    cv_scores[idx] = qwk\n",
    "    \n",
    "print('Quadratic weighted Kappa for 5-fold CV for random forest regressor with optimized rounding is', np.mean(cv_scores))"
   ]
  },
  {
   "cell_type": "code",
   "execution_count": 36,
   "metadata": {},
   "outputs": [
    {
     "name": "stdout",
     "output_type": "stream",
     "text": [
      "Coefficients final are [0.3325164  2.67592957 3.14168286 3.67637754 4.17060494 4.89433148\n",
      " 5.55763956 5.50749858 7.36473177]\n",
      "gbm_reg_pred is [2.94187462 8.30208333 6.1875     ... 2.5625     1.8125     3.90625   ]\n",
      "Predicted Counts =  Counter({1.0: 17393, 8.0: 8063, 5.0: 5283, 3.0: 4292, 2.0: 4241, 6.0: 4069, 4.0: 3899, 9.0: 3308})\n",
      "Coefficients =  [0.3325164  2.67592957 3.14168286 3.67637754 4.17060494 4.89433148\n",
      " 5.55763956 5.50749858 7.36473177]\n",
      "Test set QWK for random forest regressor with optimized rounding of salary categories is 0.6618758970331791\n"
     ]
    }
   ],
   "source": [
    "coefficients_final = coefficients_arr/5\n",
    "print('Coefficients final are', coefficients_final)\n",
    "\n",
    "\n",
    "#Split data into train and test datasets\n",
    "x_train, x_test, y_train, y_test = train_test_split(data, labels, test_size = 0.2, random_state = 0)\n",
    "\n",
    "test_y = y_test\n",
    "gbm_reg = RandomForestRegressor(opt_depth_RFreg+1, random_state=0)\n",
    "gbm_reg.fit(X=x_train, y=y_train)\n",
    "\n",
    "pred_test_y = gbm_reg.predict(x_test)\n",
    "gbm_reg_pred = pred_test_y\n",
    "\n",
    "optR = OptimizedRounder()\n",
    "optR.coef_ = coefficients_final\n",
    "# pred_test_y_k = optR.predict(gbm_reg_pred.flatten()).astype(np.int32)\n",
    "pred_test_y_k = optR.predict(gbm_reg_pred, coefficients_final)\n",
    "print('gbm_reg_pred is', gbm_reg_pred)\n",
    "print(\"Predicted Counts = \", Counter(pred_test_y_k))\n",
    "print(\"Coefficients = \", coefficients_final)\n",
    "qwk = quadratic_weighted_kappa(test_y, pred_test_y_k)\n",
    "print(\"Test set QWK for random forest regressor with optimized rounding of salary categories is\", qwk)"
   ]
  },
  {
   "cell_type": "markdown",
   "metadata": {},
   "source": [
    "**Find feature importance for best random forest regressor**"
   ]
  },
  {
   "cell_type": "code",
   "execution_count": 37,
   "metadata": {},
   "outputs": [
    {
     "data": {
      "image/png": "[encoded data removed]",
      "text/plain": [
       "<Figure size 432x288 with 1 Axes>"
      ]
     },
     "metadata": {
      "needs_background": "light"
     },
     "output_type": "display_data"
    }
   ],
   "source": [
    "feat_importances = pd.Series(model.feature_importances_, index=data_df.columns)\n",
    "# feat_importances.nlargest(4).plot(kind='barh')\n",
    "feat_importances.nlargest(10).plot(kind='barh')\n",
    "plt.xlabel('Feature importance')\n",
    "plt.savefig('Feature importance for random forest regressor.svg', bbox_inches='tight')"
   ]
  },
  {
   "cell_type": "markdown",
   "metadata": {},
   "source": [
    "## Random forest classifier ##"
   ]
  },
  {
   "cell_type": "code",
   "execution_count": 38,
   "metadata": {},
   "outputs": [],
   "source": [
    "labels = salary.astype(str) #For classification\n",
    "\n",
    "#Split data into train and test datasets\n",
    "x_train, x_test, y_train, y_test = train_test_split(data, labels, test_size = 0.2, random_state = 0)\n",
    "\n",
    "#Randomly sample 20000 data points to work up optimal depth search\n",
    "np.random.seed(0)\n",
    "sample = np.random.choice(len(x_train), 20000, replace = False)\n",
    "x_train = x_train[sample]\n",
    "y_train = y_train[sample]"
   ]
  },
  {
   "cell_type": "code",
   "execution_count": 39,
   "metadata": {},
   "outputs": [
    {
     "name": "stdout",
     "output_type": "stream",
     "text": [
      "Iteration 1 done\n",
      "Iteration 2 done\n",
      "Iteration 3 done\n",
      "Iteration 4 done\n",
      "Iteration 5 done\n",
      "Iteration 6 done\n",
      "Iteration 7 done\n",
      "Iteration 8 done\n",
      "Iteration 9 done\n",
      "Iteration 10 done\n",
      "Iteration 11 done\n",
      "Iteration 12 done\n",
      "Iteration 13 done\n",
      "Iteration 14 done\n",
      "Iteration 15 done\n",
      "Iteration 16 done\n",
      "Iteration 17 done\n",
      "Iteration 18 done\n",
      "Iteration 19 done\n",
      "Iteration 20 done\n",
      "Iteration 21 done\n",
      "Iteration 22 done\n",
      "Iteration 23 done\n",
      "Iteration 24 done\n"
     ]
    }
   ],
   "source": [
    "depth_iter = 25\n",
    "RF_cl_test_error = []\n",
    "for depth in range(1, depth_iter):\n",
    "    randomForest_cl = RandomForestClassifier(max_depth = depth, random_state=0).fit(x_train, y_train)\n",
    "    randomForest_cl_pred = randomForest_cl.predict(x_test)\n",
    "    RF_cl_test_error.append(quadratic_weighted_kappa(randomForest_cl_pred, y_test))\n",
    "    print('Iteration {} done'.format(depth))"
   ]
  },
  {
   "cell_type": "code",
   "execution_count": 40,
   "metadata": {},
   "outputs": [
    {
     "data": {
      "text/plain": [
       "[<matplotlib.lines.Line2D at 0x1278e73f988>]"
      ]
     },
     "execution_count": 40,
     "metadata": {},
     "output_type": "execute_result"
    },
    {
     "data": {
      "image/png": "[encoded data removed]",
      "text/plain": [
       "<Figure size 432x288 with 1 Axes>"
      ]
     },
     "metadata": {
      "needs_background": "light"
     },
     "output_type": "display_data"
    }
   ],
   "source": [
    "plt.plot(range(1, depth_iter), RF_cl_test_error)"
   ]
  },
  {
   "cell_type": "code",
   "execution_count": 41,
   "metadata": {},
   "outputs": [
    {
     "data": {
      "text/plain": [
       "0.5316524794930011"
      ]
     },
     "execution_count": 41,
     "metadata": {},
     "output_type": "execute_result"
    }
   ],
   "source": [
    "opt_depth_RFcl = np.argmax(RF_cl_test_error)\n",
    "RF_cl_test_error[opt_depth_RFcl]"
   ]
  },
  {
   "cell_type": "code",
   "execution_count": 42,
   "metadata": {},
   "outputs": [
    {
     "name": "stdout",
     "output_type": "stream",
     "text": [
      "Optimal tree depth for RF classifier is 13\n"
     ]
    }
   ],
   "source": [
    "print('Optimal tree depth for RF classifier is {}'.format(opt_depth_RFcl+1))"
   ]
  },
  {
   "cell_type": "markdown",
   "metadata": {},
   "source": [
    "**Find CV and test set scores for random forest classifier**"
   ]
  },
  {
   "cell_type": "code",
   "execution_count": 43,
   "metadata": {},
   "outputs": [
    {
     "name": "stdout",
     "output_type": "stream",
     "text": [
      "Quadratic weighted Kappa for 5-fold CV for forest classifer is 0.537730817802003\n"
     ]
    }
   ],
   "source": [
    "#Split data into train and test datasets - do again to ensure variables are correctly assigned\n",
    "data_train, data_test, labels_train, labels_test = train_test_split(data, labels, test_size = 0.2, random_state = 0)\n",
    "\n",
    "cv_scores = np.empty(5)\n",
    "cv = StratifiedKFold(n_splits=5, shuffle=True, random_state=1121218)\n",
    "\n",
    "for idx, (train_idx, test_idx) in enumerate(cv.split(data_train, labels_train)):\n",
    "    X_train, X_test = data_train[train_idx], data_train[test_idx]\n",
    "    y_train, y_test = labels_train[train_idx], labels_train[test_idx]\n",
    "    model = RandomForestClassifier(max_depth = opt_depth_RFcl+1, random_state=0)\n",
    "    pred = model.fit(X_train, y_train).predict(X_test)\n",
    "    qwk = quadratic_weighted_kappa(pred, y_test)\n",
    "#         print('QWK is', qwk)\n",
    "    cv_scores[idx] = qwk\n",
    "\n",
    "print('Quadratic weighted Kappa for 5-fold CV for forest classifer is', np.mean(cv_scores))"
   ]
  },
  {
   "cell_type": "code",
   "execution_count": 44,
   "metadata": {},
   "outputs": [
    {
     "name": "stdout",
     "output_type": "stream",
     "text": [
      "Quadratic weighted Kappa for random forest classifer for test dataset is 0.5384224003092094\n"
     ]
    }
   ],
   "source": [
    "#Split data into train and test datasets - do again to ensure variables are correctly assigned\n",
    "x_train, x_test, y_train, y_test = train_test_split(data, labels, test_size = 0.2, random_state = 0)\n",
    "\n",
    "randomForest_cl = RandomForestClassifier(max_depth = opt_depth_RFcl+1, random_state=0).fit(x_train, y_train)\n",
    "randomForest_cl_pred = randomForest_cl.predict(x_test)\n",
    "print('Quadratic weighted Kappa for random forest classifer for test dataset is', quadratic_weighted_kappa(randomForest_cl_pred, y_test))"
   ]
  },
  {
   "cell_type": "markdown",
   "metadata": {},
   "source": [
    "**Find feature importance for random forest classifier**"
   ]
  },
  {
   "cell_type": "code",
   "execution_count": 45,
   "metadata": {},
   "outputs": [
    {
     "data": {
      "image/png": "[encoded data removed]",
      "text/plain": [
       "<Figure size 432x288 with 1 Axes>"
      ]
     },
     "metadata": {
      "needs_background": "light"
     },
     "output_type": "display_data"
    }
   ],
   "source": [
    "feat_importances = pd.Series(randomForest_cl.feature_importances_, index=data_df.columns)\n",
    "# feat_importances.nlargest(4).plot(kind='barh')\n",
    "feat_importances.nlargest(10).plot(kind='barh')\n",
    "plt.xlabel('Feature importance')\n",
    "plt.savefig('Feature importance for random forest regressor.svg', bbox_inches='tight')"
   ]
  }
 ],
 "metadata": {
  "kernelspec": {
   "display_name": "Python 3",
   "language": "python",
   "name": "python3"
  },
  "language_info": {
   "codemirror_mode": {
    "name": "ipython",
    "version": 3
   },
   "file_extension": ".py",
   "mimetype": "text/x-python",
   "name": "python",
   "nbconvert_exporter": "python",
   "pygments_lexer": "ipython3",
   "version": "3.7.4"
  }
 },
 "nbformat": 4,
 "nbformat_minor": 2
}
