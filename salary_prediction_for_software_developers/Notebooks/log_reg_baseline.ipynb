{
 "cells": [
  {
   "cell_type": "code",
   "execution_count": 1,
   "id": "6ca65eef",
   "metadata": {},
   "outputs": [],
   "source": [
    "import numpy as np\n",
    "import pandas as pd\n",
    "from sklearn.model_selection import train_test_split, RepeatedStratifiedKFold, cross_val_score\n",
    "from sklearn.model_selection import StratifiedKFold\n",
    "from functools import partial\n",
    "import scipy as sp\n",
    "from collections import Counter\n",
    "import matplotlib.pyplot as plt\n",
    "import seaborn as sns\n",
    "from sklearn.preprocessing import StandardScaler\n",
    "from sklearn.linear_model import LogisticRegression\n",
    "from sklearn import metrics\n",
    "import statsmodels.api as sm\n"
   ]
  },
  {
   "cell_type": "markdown",
   "id": "bd93aea6",
   "metadata": {},
   "source": [
    "### Sources\n",
    "\n",
    "https://machinelearningmastery.com/multinomial-logistic-regression-with-python/\n",
    "\n",
    "https://www.kaggle.com/code/nkitgupta/evaluation-metrics-for-multi-class-classification/notebook\n",
    "\n",
    "https://michael-fuchs-python.netlify.app/2019/11/15/multinomial-logistic-regression/\n",
    "\n",
    "Other notebooks in project"
   ]
  },
  {
   "cell_type": "code",
   "execution_count": 2,
   "id": "37746355",
   "metadata": {},
   "outputs": [],
   "source": [
    "# Load Data\n",
    "files = [\"../Data/model_data/model-encoded-data-0.csv\", \n",
    "         \"../Data/model_data/model-encoded-data-1.csv\", \n",
    "         \"../Data/model_data/model-encoded-data-2.csv\"]\n",
    "model_dfs = [pd.read_csv(f, sep=\",\", \n",
    "                          encoding='Latin-1', \n",
    "                          low_memory=False ) for f in files]\n",
    "\n",
    "# combine the list of dataframes\n",
    "df = pd.concat(model_dfs, ignore_index=True)"
   ]
  },
  {
   "cell_type": "code",
   "execution_count": 3,
   "id": "e422c440",
   "metadata": {},
   "outputs": [],
   "source": [
    "# Exclude columns\n",
    "cols_excl =  ['country', 'year']\n",
    "df = df.drop(cols_excl, axis=1)"
   ]
  },
  {
   "cell_type": "code",
   "execution_count": 4,
   "id": "c19bc561",
   "metadata": {
    "scrolled": true
   },
   "outputs": [
    {
     "name": "stdout",
     "output_type": "stream",
     "text": [
      "Dataframe without NaN and 0 in compensation is 100.0% of the original dataframe.\n",
      "There are 252740 data points in it compared to 252740 entries in the original dataframe.\n",
      "\n",
      "Information on missing values in the dataframe df_salary:\n"
     ]
    },
    {
     "data": {
      "text/plain": [
       "is_female                   0.0\n",
       "is_male                     0.0\n",
       "is_gender_non_confirming    0.0\n",
       "is_transgender              0.0\n",
       "is_gender_unknown           0.0\n",
       "                           ... \n",
       "is_IT_expr_above_11         0.0\n",
       "is_IT_expr_below_2          0.0\n",
       "compensation                0.0\n",
       "job_satisfaction            0.0\n",
       "GDP                         0.0\n",
       "Length: 61, dtype: float64"
      ]
     },
     "execution_count": 4,
     "metadata": {},
     "output_type": "execute_result"
    }
   ],
   "source": [
    "#df_salary is a dataframe after dropping data points with NaN in 'compensation'\n",
    "df_salary = df.dropna(subset=['compensation'])[df.dropna(subset=['compensation'])['compensation']!=0]\n",
    "print('Dataframe without NaN and 0 in compensation is {}%'.format(round(len(df_salary)/len(df)*100, 2)), 'of the original dataframe.')\n",
    "print('There are {}'.format(len(df_salary)), 'data points in it compared to {}'.format(len(df)), 'entries in the original dataframe.\\n')\n",
    "print('Information on missing values in the dataframe df_salary:')\n",
    "df_salary.isna().sum()/len(df_salary)*100"
   ]
  },
  {
   "cell_type": "code",
   "execution_count": 5,
   "id": "f8edbc1e",
   "metadata": {},
   "outputs": [
    {
     "data": {
      "text/plain": [
       "below-20000      59338\n",
       "40000-60000      39073\n",
       "20000-40000      37019\n",
       "60000-80000      32845\n",
       "above-160000     25499\n",
       "80000-100000     23519\n",
       "100000-120000    16868\n",
       "120000-140000    10701\n",
       "140000-160000     7878\n",
       "Name: compensation, dtype: int64"
      ]
     },
     "execution_count": 5,
     "metadata": {},
     "output_type": "execute_result"
    }
   ],
   "source": [
    "# Replace 60000-to-80000 with 60000-80000\n",
    "comp_str_dict = {'60000-to-80000': '60000-80000'}\n",
    "df_salary.replace({'compensation':comp_str_dict}, inplace=True)\n",
    "df_salary['compensation'].value_counts()"
   ]
  },
  {
   "cell_type": "code",
   "execution_count": 6,
   "id": "5e0dd08b",
   "metadata": {},
   "outputs": [],
   "source": [
    "#Define data (predictors) and response\n",
    "data_df = df_salary.copy()\n",
    "\n",
    "# Some code to scale numerical data\n",
    "cols_to_scale = ['job_satisfaction', 'GDP']\n",
    "train_numerical = data_df[cols_to_scale].copy()\n",
    "sc = StandardScaler()\n",
    "sc.fit(train_numerical)\n",
    "train_scaled = sc.transform(train_numerical)\n",
    "train_scaled = pd.DataFrame(train_scaled, columns = train_numerical.columns)\n",
    "data_df_scaled = pd.concat([data_df.drop(cols_to_scale, axis=1), train_scaled], axis=1)\n",
    " \n",
    "\n",
    "# Keep salary as respons without changing it into numeric\n",
    "salary = df_salary['compensation'].to_numpy()\n",
    "\n",
    "\n",
    "data = data_df_scaled.drop('compensation', axis=1)\n",
    "data = data.to_numpy()\n",
    "#data = data.drop('GDP', axis=1).to_numpy()"
   ]
  },
  {
   "cell_type": "markdown",
   "id": "12ff53d5",
   "metadata": {},
   "source": [
    "# Define functions"
   ]
  },
  {
   "cell_type": "code",
   "execution_count": 7,
   "id": "22a2ca24",
   "metadata": {},
   "outputs": [],
   "source": [
    "#Define evaluation metric\n",
    "\n",
    "def confusion_matrix(rater_a, rater_b, min_rating=None, max_rating=None):\n",
    "    \"\"\"\n",
    "    Returns the confusion matrix between rater's ratings\n",
    "    \"\"\"\n",
    "    assert (len(rater_a) == len(rater_b))\n",
    "    if min_rating is None:\n",
    "        min_rating = min(rater_a + rater_b)\n",
    "    if max_rating is None:\n",
    "        max_rating = max(rater_a + rater_b)\n",
    "    num_ratings = int(max_rating - min_rating + 1)\n",
    "    conf_mat = [[0 for i in range(num_ratings)]\n",
    "                for j in range(num_ratings)]\n",
    "    for a, b in zip(rater_a, rater_b):\n",
    "        conf_mat[a - min_rating][b - min_rating] += 1\n",
    "    return conf_mat\n",
    "\n",
    "def histogram(ratings, min_rating=None, max_rating=None):\n",
    "    \"\"\"\n",
    "    Returns the counts of each type of rating that a rater made\n",
    "    \"\"\"\n",
    "    if min_rating is None:\n",
    "        min_rating = min(ratings)\n",
    "    if max_rating is None:\n",
    "        max_rating = max(ratings)\n",
    "    num_ratings = int(max_rating - min_rating + 1)\n",
    "    hist_ratings = [0 for x in range(num_ratings)]\n",
    "    for r in ratings:\n",
    "        hist_ratings[r - min_rating] += 1\n",
    "    return hist_ratings\n",
    "\n",
    "def quadratic_weighted_kappa(y, y_pred):\n",
    "    rater_a = y\n",
    "    rater_b = y_pred\n",
    "    min_rating = None\n",
    "    max_rating = None\n",
    "    rater_a = np.array(rater_a, dtype=int)\n",
    "    rater_b = np.array(rater_b, dtype=int)\n",
    "    assert (len(rater_a) == len(rater_b))\n",
    "    if min_rating is None:\n",
    "        min_rating = min(min(rater_a), min(rater_b))\n",
    "    if max_rating is None:\n",
    "        max_rating = max(max(rater_a), max(rater_b))\n",
    "    conf_mat = confusion_matrix(rater_a, rater_b,\n",
    "                                min_rating, max_rating)\n",
    "    num_ratings = len(conf_mat)\n",
    "    num_scored_items = float(len(rater_a))\n",
    "\n",
    "    hist_rater_a = histogram(rater_a, min_rating, max_rating)\n",
    "    hist_rater_b = histogram(rater_b, min_rating, max_rating)\n",
    "\n",
    "    numerator = 0.0\n",
    "    denominator = 0.0\n",
    "\n",
    "    for i in range(num_ratings):\n",
    "        for j in range(num_ratings):\n",
    "            expected_count = (hist_rater_a[i] * hist_rater_b[j]\n",
    "                              / num_scored_items)\n",
    "            d = pow(i - j, 2.0) / pow(num_ratings - 1, 2.0)\n",
    "            numerator += d * conf_mat[i][j] / num_scored_items\n",
    "            denominator += d * expected_count / num_scored_items\n",
    "\n",
    "    return (1.0 - numerator / denominator)"
   ]
  },
  {
   "cell_type": "markdown",
   "id": "fd0d71bd",
   "metadata": {},
   "source": [
    "## Cross validation"
   ]
  },
  {
   "cell_type": "code",
   "execution_count": 8,
   "id": "d40b3f8c",
   "metadata": {},
   "outputs": [],
   "source": [
    "#Split data\n",
    "data_train, data_test, labels_train, labels_test = train_test_split(data, salary, test_size = 0.2, random_state = 0)\n",
    "cv_scores = np.empty(5)\n",
    "cv = StratifiedKFold(n_splits=5, shuffle=True, random_state=1)"
   ]
  },
  {
   "cell_type": "code",
   "execution_count": 9,
   "id": "73c1185f",
   "metadata": {},
   "outputs": [],
   "source": [
    "# Create dictionary to translate labels to ordered ints\n",
    "\n",
    "comp_int_dict = {'below-20000': 1, '20000-40000': 2, '40000-60000': 3, '60000_to_80000': 4, '60000-80000': 4, \n",
    "                 '80000-100000': 5,'100000-120000': 6, '12000-140000': 7, '120000-140000':7,\n",
    "                 '140000-160000': 8, 'above-160000': 9}"
   ]
  },
  {
   "cell_type": "code",
   "execution_count": 10,
   "id": "afb7b040",
   "metadata": {},
   "outputs": [],
   "source": [
    "# Train cross validated models and compare\n",
    "data_train, data_test, labels_train, labels_test = train_test_split(data, salary, test_size = 0.2, random_state = 0)\n",
    "\n",
    "cv_scores = np.empty(5)\n",
    "cv = StratifiedKFold(n_splits=5, shuffle=True, random_state=1)\n",
    "\n",
    "for idx, (train_idx, test_idx) in enumerate(cv.split(data_train, labels_train)):\n",
    "    \n",
    "    \n",
    "    X_train, X_test = data_train[train_idx], data_train[test_idx]\n",
    "    y_train, y_test = labels_train[train_idx], labels_train[test_idx]\n",
    "    \n",
    "    model = LogisticRegression(multi_class='multinomial', solver='lbfgs', max_iter = 1000)\n",
    "    model.fit(X_train, y_train)\n",
    "    pred = model.predict(X_test)\n",
    "    \n",
    "    y_true_arr = np.array([comp_int_dict[x] for x in y_test])\n",
    "    y_pred_arr = np.array([comp_int_dict[x] for x in pred])\n",
    "    \n",
    "    qwk = quadratic_weighted_kappa(y_pred_arr,y_true_arr)\n",
    "    cv_scores[idx] = qwk"
   ]
  },
  {
   "cell_type": "code",
   "execution_count": 11,
   "id": "9b9ce3f2",
   "metadata": {},
   "outputs": [
    {
     "data": {
      "text/plain": [
       "array([0.38467232, 0.37461764, 0.38139957, 0.37672015, 0.3824036 ])"
      ]
     },
     "execution_count": 11,
     "metadata": {},
     "output_type": "execute_result"
    }
   ],
   "source": [
    "cv_scores"
   ]
  },
  {
   "cell_type": "markdown",
   "id": "9c80e01e",
   "metadata": {},
   "source": [
    "##### Results are basically the same - I retrain with just one model"
   ]
  },
  {
   "cell_type": "markdown",
   "id": "d25a5589",
   "metadata": {},
   "source": [
    "## Train multinomial regression model"
   ]
  },
  {
   "cell_type": "code",
   "execution_count": 12,
   "id": "4e63b00c",
   "metadata": {},
   "outputs": [],
   "source": [
    "#Split data into train and test datasets - do again to ensure variables are correctly assigned\n",
    "data_train, data_test, labels_train, labels_test = train_test_split(data, salary, test_size = 0.2, random_state = 0)\n"
   ]
  },
  {
   "cell_type": "code",
   "execution_count": 13,
   "id": "3eb68fe3",
   "metadata": {},
   "outputs": [],
   "source": [
    "# Tried cross validation, but scores where almost identical. I keep just one model as working with output was easier\n",
    "\n",
    "model = LogisticRegression(multi_class='multinomial', solver='lbfgs', max_iter = 1000)\n",
    "model.fit(data_train, labels_train)\n",
    "\n",
    "\n",
    "# Call everything y_pred and y_true and all evaluation cell below should run fine\n",
    "# Might have to change numerical labels to string and keep the correct order in a list\n",
    "y_pred = model.predict(data_test)\n",
    "y_true = labels_test\n",
    "\n",
    "#List of label order\n",
    "labels_order =  ['below-20000', '20000-40000', '40000-60000','60000-80000', \n",
    "                 '80000-100000','100000-120000', '120000-140000',\n",
    "                 '140000-160000', 'above-160000']"
   ]
  },
  {
   "cell_type": "markdown",
   "id": "e47ff21a",
   "metadata": {},
   "source": [
    "### Evalutation metrics for models"
   ]
  },
  {
   "cell_type": "code",
   "execution_count": 14,
   "id": "50c49346",
   "metadata": {},
   "outputs": [
    {
     "name": "stdout",
     "output_type": "stream",
     "text": [
      "Accuracy is: 0.32921183825274986\n"
     ]
    }
   ],
   "source": [
    "# All interesting metrics\n",
    "accuracy = metrics.accuracy_score(y_true, y_pred)\n",
    "print(f\"Accuracy is: {accuracy}\")"
   ]
  },
  {
   "cell_type": "code",
   "execution_count": 15,
   "id": "7332dea8",
   "metadata": {},
   "outputs": [
    {
     "name": "stdout",
     "output_type": "stream",
     "text": [
      "Macro-Averaged Precision score: 0.25029827819730127\n"
     ]
    }
   ],
   "source": [
    "macro_averaged_precision = metrics.precision_score(y_true, y_pred, average = 'macro')\n",
    "print(f\"Macro-Averaged Precision score: {macro_averaged_precision}\")"
   ]
  },
  {
   "cell_type": "code",
   "execution_count": 16,
   "id": "76e447b7",
   "metadata": {},
   "outputs": [
    {
     "name": "stdout",
     "output_type": "stream",
     "text": [
      "Macro-averaged recall score: 0.2192571896182497\n"
     ]
    }
   ],
   "source": [
    "macro_averaged_recall = metrics.recall_score(y_true, y_pred, average = 'macro')\n",
    "print(f\"Macro-averaged recall score: {macro_averaged_recall}\")"
   ]
  },
  {
   "cell_type": "code",
   "execution_count": 17,
   "id": "ffcdec5b",
   "metadata": {},
   "outputs": [
    {
     "name": "stdout",
     "output_type": "stream",
     "text": [
      "Macro-Averaged F1 score: 0.19640064681558642\n"
     ]
    }
   ],
   "source": [
    "macro_averaged_f1 = metrics.f1_score(y_true, y_pred, average = 'macro')\n",
    "print(f\"Macro-Averaged F1 score: {macro_averaged_f1}\")\n"
   ]
  },
  {
   "cell_type": "code",
   "execution_count": 18,
   "id": "187b08e3",
   "metadata": {},
   "outputs": [
    {
     "name": "stdout",
     "output_type": "stream",
     "text": [
      "Kappa is: 0.38192639040240706\n"
     ]
    }
   ],
   "source": [
    "y_true_arr = np.array([comp_int_dict[x] for x in y_true])\n",
    "y_pred_arr = np.array([comp_int_dict[x] for x in y_pred])\n",
    "\n",
    "kappa = quadratic_weighted_kappa(y_pred_arr,y_true_arr)\n",
    "\n",
    "print(f\"Kappa is: {kappa}\")"
   ]
  },
  {
   "cell_type": "code",
   "execution_count": 19,
   "id": "c389ebf9",
   "metadata": {},
   "outputs": [
    {
     "data": {
      "text/plain": [
       "{'80000-100000': 0.5140105319837341,\n",
       " '20000-40000': 0.5253589270522561,\n",
       " 'above-160000': 0.5461398072727034,\n",
       " '60000-80000': 0.5605466313162819,\n",
       " '40000-60000': 0.6266057783115041,\n",
       " '100000-120000': 0.5302730223272557,\n",
       " 'below-20000': 0.7731719241789242,\n",
       " '140000-160000': 0.5075593900017145,\n",
       " '120000-140000': 0.5051273576790173}"
      ]
     },
     "execution_count": 19,
     "metadata": {},
     "output_type": "execute_result"
    }
   ],
   "source": [
    "# Find ROC\n",
    "\n",
    "# Borrowed from Kaggle competition\n",
    "# https://www.kaggle.com/code/nkitgupta/evaluation-metrics-for-multi-class-classification/notebook\n",
    "from sklearn.metrics import roc_auc_score\n",
    "\n",
    "def roc_auc_score_multiclass(actual_class, pred_class, average = \"macro\"):\n",
    "    \n",
    "    #creating a set of all the unique classes using the actual class list\n",
    "    unique_class = set(actual_class)\n",
    "    roc_auc_dict = {}\n",
    "    for per_class in unique_class:\n",
    "        \n",
    "        #creating a list of all the classes except the current class \n",
    "        other_class = [x for x in unique_class if x != per_class]\n",
    "\n",
    "        #marking the current class as 1 and all other classes as 0\n",
    "        new_actual_class = [0 if x in other_class else 1 for x in actual_class]\n",
    "        new_pred_class = [0 if x in other_class else 1 for x in pred_class]\n",
    "\n",
    "        #using the sklearn metrics method to calculate the roc_auc_score\n",
    "        roc_auc = roc_auc_score(new_actual_class, new_pred_class, average = average)\n",
    "        roc_auc_dict[per_class] = roc_auc\n",
    "\n",
    "    return roc_auc_dict\n",
    "\n",
    "roc_auc_dict = roc_auc_score_multiclass(y_true, y_pred)\n",
    "roc_auc_dict\n"
   ]
  },
  {
   "cell_type": "code",
   "execution_count": 20,
   "id": "d168350b",
   "metadata": {},
   "outputs": [
    {
     "data": {
      "image/png": "[encoded data removed]",
      "text/plain": [
       "<Figure size 792x576 with 2 Axes>"
      ]
     },
     "metadata": {
      "needs_background": "light"
     },
     "output_type": "display_data"
    }
   ],
   "source": [
    "# Plot confusion matrix\n",
    "plt.figure(figsize = (11,8))\n",
    "\n",
    "\n",
    "sns.heatmap(metrics.confusion_matrix(y_true, y_pred, labels = labels_order), \n",
    "            annot = True,\n",
    "            linewidths=1,\n",
    "            xticklabels = labels_order, \n",
    "            yticklabels = labels_order, \n",
    "            fmt='g')\n",
    "plt.xlabel('Predicted Labels')\n",
    "plt.ylabel('True Labels')\n",
    "plt.show()"
   ]
  },
  {
   "cell_type": "code",
   "execution_count": null,
   "id": "ac6d59c0",
   "metadata": {},
   "outputs": [],
   "source": []
  }
 ],
 "metadata": {
  "kernelspec": {
   "display_name": "Python 3 (ipykernel)",
   "language": "python",
   "name": "python3"
  },
  "language_info": {
   "codemirror_mode": {
    "name": "ipython",
    "version": 3
   },
   "file_extension": ".py",
   "mimetype": "text/x-python",
   "name": "python",
   "nbconvert_exporter": "python",
   "pygments_lexer": "ipython3",
   "version": "3.9.12"
  }
 },
 "nbformat": 4,
 "nbformat_minor": 5
}
