{
 "cells": [
  {
   "cell_type": "code",
   "execution_count": 1,
   "id": "6ca65eef",
   "metadata": {},
   "outputs": [],
   "source": [
    "import numpy as np\n",
    "import pandas as pd\n",
    "from sklearn.model_selection import train_test_split, RepeatedStratifiedKFold, cross_val_score\n",
    "from sklearn.model_selection import StratifiedKFold\n",
    "from functools import partial\n",
    "import scipy as sp\n",
    "from collections import Counter\n",
    "import matplotlib.pyplot as plt\n",
    "import seaborn as sns\n",
    "from sklearn.preprocessing import StandardScaler\n",
    "from sklearn.linear_model import LogisticRegression\n",
    "from sklearn import metrics\n",
    "import statsmodels.api as sm\n"
   ]
  },
  {
   "cell_type": "markdown",
   "id": "bd93aea6",
   "metadata": {},
   "source": [
    "### Sources\n",
    "\n",
    "https://machinelearningmastery.com/multinomial-logistic-regression-with-python/\n",
    "\n",
    "https://www.kaggle.com/code/nkitgupta/evaluation-metrics-for-multi-class-classification/notebook\n",
    "\n",
    "https://michael-fuchs-python.netlify.app/2019/11/15/multinomial-logistic-regression/\n",
    "\n",
    "Kamils notebook"
   ]
  },
  {
   "cell_type": "code",
   "execution_count": 2,
   "id": "37746355",
   "metadata": {},
   "outputs": [],
   "source": [
    "# Load Data\n",
    "files = [\"../Data/model_data/model-encoded-data-0.csv\", \n",
    "         \"../Data/model_data/model-encoded-data-1.csv\", \n",
    "         \"../Data/model_data/model-encoded-data-2.csv\"]\n",
    "model_dfs = [pd.read_csv(f, sep=\",\", \n",
    "                          encoding='Latin-1', \n",
    "                          low_memory=False ) for f in files]\n",
    "\n",
    "# combine the list of dataframes\n",
    "df = pd.concat(model_dfs, ignore_index=True)"
   ]
  },
  {
   "cell_type": "code",
   "execution_count": 3,
   "id": "e422c440",
   "metadata": {},
   "outputs": [],
   "source": [
    "#For now don't use these columns as they are not processed yet\n",
    "cols_excl =  ['country', 'year'] #['occupation', 'proficient_languages', 'desktop_OS', 'country', 'year', 'IT_experience_in_years']\n",
    "df = df.drop(cols_excl, axis=1)"
   ]
  },
  {
   "cell_type": "code",
   "execution_count": 4,
   "id": "c19bc561",
   "metadata": {
    "scrolled": true
   },
   "outputs": [
    {
     "name": "stdout",
     "output_type": "stream",
     "text": [
      "Dataframe without NaN and 0 in compensation is 100.0% of the original dataframe.\n",
      "There are 252740 data points in it compared to 252740 entries in the original dataframe.\n",
      "\n",
      "Information on missing values in the dataframe df_salary:\n"
     ]
    },
    {
     "data": {
      "text/plain": [
       "is_female                   0.0\n",
       "is_male                     0.0\n",
       "is_gender_non_confirming    0.0\n",
       "is_transgender              0.0\n",
       "is_gender_unknown           0.0\n",
       "                           ... \n",
       "is_IT_expr_above_11         0.0\n",
       "is_IT_expr_below_2          0.0\n",
       "compensation                0.0\n",
       "job_satisfaction            0.0\n",
       "GDP                         0.0\n",
       "Length: 61, dtype: float64"
      ]
     },
     "execution_count": 4,
     "metadata": {},
     "output_type": "execute_result"
    }
   ],
   "source": [
    "#df_salary is a dataframe after dropping data points with NaN in 'compensation'\n",
    "df_salary = df.dropna(subset=['compensation'])[df.dropna(subset=['compensation'])['compensation']!=0]\n",
    "print('Dataframe without NaN and 0 in compensation is {}%'.format(round(len(df_salary)/len(df)*100, 2)), 'of the original dataframe.')\n",
    "print('There are {}'.format(len(df_salary)), 'data points in it compared to {}'.format(len(df)), 'entries in the original dataframe.\\n')\n",
    "print('Information on missing values in the dataframe df_salary:')\n",
    "df_salary.isna().sum()/len(df_salary)*100"
   ]
  },
  {
   "cell_type": "code",
   "execution_count": 5,
   "id": "3cbab4bc",
   "metadata": {},
   "outputs": [],
   "source": [
    "# Not used in this model\n",
    "comp_int_dict = {'below-20000': 1, '20000-40000': 2, '40000-60000': 3, '60000_to_80000': 4, '60000-80000': 4, \n",
    "                 '80000-100000': 5,'100000-120000': 6, '12000-140000': 7, '120000-140000':7,\n",
    "                 '140000-160000': 8, 'above-160000': 9}"
   ]
  },
  {
   "cell_type": "code",
   "execution_count": 6,
   "id": "dd0bcec0",
   "metadata": {},
   "outputs": [
    {
     "data": {
      "text/plain": [
       "below-20000       59338\n",
       "40000-60000       39073\n",
       "20000-40000       37019\n",
       "above-160000      25499\n",
       "80000-100000      23519\n",
       "60000-to-80000    23242\n",
       "100000-120000     16868\n",
       "120000-140000     10701\n",
       "60000-80000        9603\n",
       "140000-160000      7878\n",
       "Name: compensation, dtype: int64"
      ]
     },
     "execution_count": 6,
     "metadata": {},
     "output_type": "execute_result"
    }
   ],
   "source": [
    "# Need string labels for logistic multinomial regression, investigate labels\n",
    "df_salary['compensation'].value_counts()"
   ]
  },
  {
   "cell_type": "code",
   "execution_count": 7,
   "id": "f8edbc1e",
   "metadata": {},
   "outputs": [
    {
     "data": {
      "text/plain": [
       "below-20000      59338\n",
       "40000-60000      39073\n",
       "20000-40000      37019\n",
       "60000-80000      32845\n",
       "above-160000     25499\n",
       "80000-100000     23519\n",
       "100000-120000    16868\n",
       "120000-140000    10701\n",
       "140000-160000     7878\n",
       "Name: compensation, dtype: int64"
      ]
     },
     "execution_count": 7,
     "metadata": {},
     "output_type": "execute_result"
    }
   ],
   "source": [
    "# Replace 60000-to-80000 with 60000-80000\n",
    "comp_str_dict = {'60000-to-80000': '60000-80000'}\n",
    "\n",
    "df_salary.replace({'compensation':comp_str_dict}, inplace=True)\n",
    "\n",
    "df_salary['compensation'].value_counts()"
   ]
  },
  {
   "cell_type": "code",
   "execution_count": 8,
   "id": "5bde7cba",
   "metadata": {},
   "outputs": [],
   "source": [
    "\n",
    "# SKLearn logistic multinomial regression does not work on numerical response\n",
    "#df_salary.replace({'compensation':comp_int_dict}, inplace=True)"
   ]
  },
  {
   "cell_type": "code",
   "execution_count": 9,
   "id": "5e0dd08b",
   "metadata": {},
   "outputs": [
    {
     "data": {
      "text/html": [
       "<div>\n",
       "<style scoped>\n",
       "    .dataframe tbody tr th:only-of-type {\n",
       "        vertical-align: middle;\n",
       "    }\n",
       "\n",
       "    .dataframe tbody tr th {\n",
       "        vertical-align: top;\n",
       "    }\n",
       "\n",
       "    .dataframe thead th {\n",
       "        text-align: right;\n",
       "    }\n",
       "</style>\n",
       "<table border=\"1\" class=\"dataframe\">\n",
       "  <thead>\n",
       "    <tr style=\"text-align: right;\">\n",
       "      <th></th>\n",
       "      <th>is_female</th>\n",
       "      <th>is_male</th>\n",
       "      <th>is_gender_non_confirming</th>\n",
       "      <th>is_transgender</th>\n",
       "      <th>is_gender_unknown</th>\n",
       "      <th>is_age_18_to_24</th>\n",
       "      <th>is_age_25_to34</th>\n",
       "      <th>is_age_35_44</th>\n",
       "      <th>is_age_45_54</th>\n",
       "      <th>is_age_55_to_64</th>\n",
       "      <th>...</th>\n",
       "      <th>is_occupation_other</th>\n",
       "      <th>is_occupation_system_admin</th>\n",
       "      <th>is_occupation_web_developer</th>\n",
       "      <th>is_IT_expr_2_to_5</th>\n",
       "      <th>is_IT_expr_6_to_10</th>\n",
       "      <th>is_IT_expr_above_11</th>\n",
       "      <th>is_IT_expr_below_2</th>\n",
       "      <th>compensation</th>\n",
       "      <th>job_satisfaction</th>\n",
       "      <th>GDP</th>\n",
       "    </tr>\n",
       "  </thead>\n",
       "  <tbody>\n",
       "    <tr>\n",
       "      <th>0</th>\n",
       "      <td>0.0</td>\n",
       "      <td>1.0</td>\n",
       "      <td>0.0</td>\n",
       "      <td>0.0</td>\n",
       "      <td>0.0</td>\n",
       "      <td>0.0</td>\n",
       "      <td>1.0</td>\n",
       "      <td>0.0</td>\n",
       "      <td>0.0</td>\n",
       "      <td>0.0</td>\n",
       "      <td>...</td>\n",
       "      <td>0.0</td>\n",
       "      <td>0.0</td>\n",
       "      <td>0.0</td>\n",
       "      <td>0.0</td>\n",
       "      <td>1.0</td>\n",
       "      <td>0.0</td>\n",
       "      <td>0.0</td>\n",
       "      <td>above-160000</td>\n",
       "      <td>1.33255</td>\n",
       "      <td>1.119652</td>\n",
       "    </tr>\n",
       "    <tr>\n",
       "      <th>1</th>\n",
       "      <td>0.0</td>\n",
       "      <td>1.0</td>\n",
       "      <td>0.0</td>\n",
       "      <td>0.0</td>\n",
       "      <td>0.0</td>\n",
       "      <td>0.0</td>\n",
       "      <td>1.0</td>\n",
       "      <td>0.0</td>\n",
       "      <td>0.0</td>\n",
       "      <td>0.0</td>\n",
       "      <td>...</td>\n",
       "      <td>0.0</td>\n",
       "      <td>0.0</td>\n",
       "      <td>0.0</td>\n",
       "      <td>1.0</td>\n",
       "      <td>0.0</td>\n",
       "      <td>0.0</td>\n",
       "      <td>0.0</td>\n",
       "      <td>above-160000</td>\n",
       "      <td>1.33255</td>\n",
       "      <td>1.119652</td>\n",
       "    </tr>\n",
       "    <tr>\n",
       "      <th>2</th>\n",
       "      <td>0.0</td>\n",
       "      <td>1.0</td>\n",
       "      <td>0.0</td>\n",
       "      <td>0.0</td>\n",
       "      <td>0.0</td>\n",
       "      <td>0.0</td>\n",
       "      <td>1.0</td>\n",
       "      <td>0.0</td>\n",
       "      <td>0.0</td>\n",
       "      <td>0.0</td>\n",
       "      <td>...</td>\n",
       "      <td>0.0</td>\n",
       "      <td>0.0</td>\n",
       "      <td>0.0</td>\n",
       "      <td>0.0</td>\n",
       "      <td>1.0</td>\n",
       "      <td>0.0</td>\n",
       "      <td>0.0</td>\n",
       "      <td>above-160000</td>\n",
       "      <td>1.33255</td>\n",
       "      <td>1.119652</td>\n",
       "    </tr>\n",
       "    <tr>\n",
       "      <th>3</th>\n",
       "      <td>0.0</td>\n",
       "      <td>1.0</td>\n",
       "      <td>0.0</td>\n",
       "      <td>0.0</td>\n",
       "      <td>0.0</td>\n",
       "      <td>0.0</td>\n",
       "      <td>1.0</td>\n",
       "      <td>0.0</td>\n",
       "      <td>0.0</td>\n",
       "      <td>0.0</td>\n",
       "      <td>...</td>\n",
       "      <td>0.0</td>\n",
       "      <td>0.0</td>\n",
       "      <td>0.0</td>\n",
       "      <td>0.0</td>\n",
       "      <td>1.0</td>\n",
       "      <td>0.0</td>\n",
       "      <td>0.0</td>\n",
       "      <td>above-160000</td>\n",
       "      <td>1.33255</td>\n",
       "      <td>1.119652</td>\n",
       "    </tr>\n",
       "    <tr>\n",
       "      <th>4</th>\n",
       "      <td>0.0</td>\n",
       "      <td>1.0</td>\n",
       "      <td>0.0</td>\n",
       "      <td>0.0</td>\n",
       "      <td>0.0</td>\n",
       "      <td>0.0</td>\n",
       "      <td>1.0</td>\n",
       "      <td>0.0</td>\n",
       "      <td>0.0</td>\n",
       "      <td>0.0</td>\n",
       "      <td>...</td>\n",
       "      <td>0.0</td>\n",
       "      <td>0.0</td>\n",
       "      <td>0.0</td>\n",
       "      <td>1.0</td>\n",
       "      <td>0.0</td>\n",
       "      <td>0.0</td>\n",
       "      <td>0.0</td>\n",
       "      <td>above-160000</td>\n",
       "      <td>1.33255</td>\n",
       "      <td>1.119652</td>\n",
       "    </tr>\n",
       "  </tbody>\n",
       "</table>\n",
       "<p>5 rows × 61 columns</p>\n",
       "</div>"
      ],
      "text/plain": [
       "   is_female  is_male  is_gender_non_confirming  is_transgender  \\\n",
       "0        0.0      1.0                       0.0             0.0   \n",
       "1        0.0      1.0                       0.0             0.0   \n",
       "2        0.0      1.0                       0.0             0.0   \n",
       "3        0.0      1.0                       0.0             0.0   \n",
       "4        0.0      1.0                       0.0             0.0   \n",
       "\n",
       "   is_gender_unknown  is_age_18_to_24  is_age_25_to34  is_age_35_44  \\\n",
       "0                0.0              0.0             1.0           0.0   \n",
       "1                0.0              0.0             1.0           0.0   \n",
       "2                0.0              0.0             1.0           0.0   \n",
       "3                0.0              0.0             1.0           0.0   \n",
       "4                0.0              0.0             1.0           0.0   \n",
       "\n",
       "   is_age_45_54  is_age_55_to_64  ...  is_occupation_other  \\\n",
       "0           0.0              0.0  ...                  0.0   \n",
       "1           0.0              0.0  ...                  0.0   \n",
       "2           0.0              0.0  ...                  0.0   \n",
       "3           0.0              0.0  ...                  0.0   \n",
       "4           0.0              0.0  ...                  0.0   \n",
       "\n",
       "   is_occupation_system_admin  is_occupation_web_developer  is_IT_expr_2_to_5  \\\n",
       "0                         0.0                          0.0                0.0   \n",
       "1                         0.0                          0.0                1.0   \n",
       "2                         0.0                          0.0                0.0   \n",
       "3                         0.0                          0.0                0.0   \n",
       "4                         0.0                          0.0                1.0   \n",
       "\n",
       "   is_IT_expr_6_to_10  is_IT_expr_above_11  is_IT_expr_below_2  compensation  \\\n",
       "0                 1.0                  0.0                 0.0  above-160000   \n",
       "1                 0.0                  0.0                 0.0  above-160000   \n",
       "2                 1.0                  0.0                 0.0  above-160000   \n",
       "3                 1.0                  0.0                 0.0  above-160000   \n",
       "4                 0.0                  0.0                 0.0  above-160000   \n",
       "\n",
       "   job_satisfaction       GDP  \n",
       "0           1.33255  1.119652  \n",
       "1           1.33255  1.119652  \n",
       "2           1.33255  1.119652  \n",
       "3           1.33255  1.119652  \n",
       "4           1.33255  1.119652  \n",
       "\n",
       "[5 rows x 61 columns]"
      ]
     },
     "metadata": {},
     "output_type": "display_data"
    },
    {
     "name": "stdout",
     "output_type": "stream",
     "text": [
      "Index(['is_female', 'is_male', 'is_gender_non_confirming', 'is_transgender',\n",
      "       'is_gender_unknown', 'is_age_18_to_24', 'is_age_25_to34',\n",
      "       'is_age_35_44', 'is_age_45_54', 'is_age_55_to_64', 'is_age_above_65',\n",
      "       'is_age_below_18', 'is_company_size_1000_to_4999',\n",
      "       'is_company_size_100_to_499', 'is_company_size_5000_to_9999',\n",
      "       'is_company_size_500_to_999', 'is_company_size_unknown',\n",
      "       'is_company_size_above_10000', 'is_company_size_below_100',\n",
      "       'is_desktop_os_linux', 'is_desktop_os_mac', 'is_desktop_os_unix',\n",
      "       'is_desktop_os_windows', 'is_lang_c#', 'is_lang_c_c++',\n",
      "       'is_lang_hadoop', 'is_lang_html_css', 'is_lang_java',\n",
      "       'is_lang_javascript_nodejs', 'is_lang_lua', 'is_lang_objective_C',\n",
      "       'is_lang_other', 'is_lang_perl', 'is_lang_php', 'is_lang_powershell',\n",
      "       'is_lang_python', 'is_lang_r', 'is_lang_ruby', 'is_lang_scala',\n",
      "       'is_lang_sql', 'is_lang_swift', 'is_lang_visual_basic',\n",
      "       'is_occupation_c_suite', 'is_occupation_data_analyst',\n",
      "       'is_occupation_data_scientist', 'is_occupation_desktop_developer',\n",
      "       'is_occupation_developer', 'is_occupation_engineer',\n",
      "       'is_occupation_manager', 'is_occupation_mobile_developer',\n",
      "       'is_occupation_not_in_tech', 'is_occupation_other',\n",
      "       'is_occupation_system_admin', 'is_occupation_web_developer',\n",
      "       'is_IT_expr_2_to_5', 'is_IT_expr_6_to_10', 'is_IT_expr_above_11',\n",
      "       'is_IT_expr_below_2', 'compensation', 'job_satisfaction', 'GDP'],\n",
      "      dtype='object')\n"
     ]
    }
   ],
   "source": [
    "#Define data (predictors) and response\n",
    "data_df = df_salary.copy()\n",
    "\n",
    "# Some code to scale numerical data\n",
    "cols_to_scale = ['job_satisfaction', 'GDP']\n",
    "train_numerical = data_df[cols_to_scale].copy()\n",
    "sc = StandardScaler()\n",
    "sc.fit(train_numerical)\n",
    "train_scaled = sc.transform(train_numerical)\n",
    "train_scaled = pd.DataFrame(train_scaled, columns = train_numerical.columns)\n",
    "data_df_scaled = pd.concat([data_df.drop(cols_to_scale, axis=1), train_scaled], axis=1)\n",
    "display(data_df_scaled.head()) #scaled job satisfaction and GDP data\n",
    " \n",
    "print(data_df_scaled.columns) #checking that 'compensation' is not there\n",
    "# data = data_df_scaled.to_numpy()\n",
    "\n",
    "# Keep salary as respons without changing it into numeric\n",
    "salary = df_salary['compensation']\n",
    "\n",
    "\n",
    "data = data_df_scaled.drop('compensation', axis=1)\n",
    "data = data.drop('GDP', axis=1).to_numpy()"
   ]
  },
  {
   "cell_type": "code",
   "execution_count": 10,
   "id": "4e63b00c",
   "metadata": {},
   "outputs": [],
   "source": [
    "#Split data into train and test datasets - do again to ensure variables are correctly assigned\n",
    "data_train, data_test, labels_train, labels_test = train_test_split(data, salary, test_size = 0.2, random_state = 0)\n"
   ]
  },
  {
   "cell_type": "code",
   "execution_count": 11,
   "id": "3eb68fe3",
   "metadata": {},
   "outputs": [],
   "source": [
    "# Tried cross validation, but scores where almost identical. I keep just one model as working with output was easier\n",
    "\n",
    "model = LogisticRegression(multi_class='multinomial', solver='lbfgs', max_iter = 1000)\n",
    "model.fit(data_train, labels_train)\n",
    "\n",
    "\n",
    "# Call everything y_pred and y_true and all evaluation cell below should run fine\n",
    "# Might have to change numerical labels to string and keep the correct order in a list\n",
    "y_pred = model.predict(data_test)\n",
    "y_true = labels_test\n",
    "\n",
    "#List of label order\n",
    "labels_order =  ['below-20000', '20000-40000', '40000-60000','60000-80000', \n",
    "                 '80000-100000','100000-120000', '120000-140000',\n",
    "                 '140000-160000', 'above-160000']"
   ]
  },
  {
   "cell_type": "code",
   "execution_count": 12,
   "id": "4fbd6c1f",
   "metadata": {},
   "outputs": [
    {
     "data": {
      "text/plain": [
       "below-20000      11596\n",
       "20000-40000       7719\n",
       "40000-60000       7709\n",
       "60000-80000       6580\n",
       "above-160000      5047\n",
       "80000-100000      4675\n",
       "100000-120000     3402\n",
       "120000-140000     2183\n",
       "140000-160000     1637\n",
       "Name: compensation, dtype: int64"
      ]
     },
     "execution_count": 12,
     "metadata": {},
     "output_type": "execute_result"
    }
   ],
   "source": [
    "labels_test.value_counts()"
   ]
  },
  {
   "cell_type": "code",
   "execution_count": 13,
   "id": "50c49346",
   "metadata": {},
   "outputs": [
    {
     "data": {
      "text/plain": [
       "0.27526311624594446"
      ]
     },
     "execution_count": 13,
     "metadata": {},
     "output_type": "execute_result"
    }
   ],
   "source": [
    "# All interesting metrics\n",
    "\n",
    "metrics.accuracy_score(y_true, y_pred)\n"
   ]
  },
  {
   "cell_type": "code",
   "execution_count": 14,
   "id": "7332dea8",
   "metadata": {},
   "outputs": [
    {
     "name": "stdout",
     "output_type": "stream",
     "text": [
      "Macro-Averaged Precision score: 0.206417395255872\n"
     ]
    }
   ],
   "source": [
    "macro_averaged_precision = metrics.precision_score(y_true, y_pred, average = 'macro')\n",
    "print(f\"Macro-Averaged Precision score: {macro_averaged_precision}\")"
   ]
  },
  {
   "cell_type": "code",
   "execution_count": 15,
   "id": "8c2e2823",
   "metadata": {},
   "outputs": [
    {
     "name": "stdout",
     "output_type": "stream",
     "text": [
      "Micro-Averaged Precision score: 0.27526311624594446\n"
     ]
    }
   ],
   "source": [
    "micro_averaged_precision = metrics.precision_score(y_true, y_pred, average = 'micro')\n",
    "print(f\"Micro-Averaged Precision score: {micro_averaged_precision}\")"
   ]
  },
  {
   "cell_type": "code",
   "execution_count": 16,
   "id": "76e447b7",
   "metadata": {},
   "outputs": [
    {
     "name": "stdout",
     "output_type": "stream",
     "text": [
      "Macro-averaged recall score: 0.18009539364897634\n"
     ]
    }
   ],
   "source": [
    "macro_averaged_recall = metrics.recall_score(y_true, y_pred, average = 'macro')\n",
    "print(f\"Macro-averaged recall score: {macro_averaged_recall}\")"
   ]
  },
  {
   "cell_type": "code",
   "execution_count": 17,
   "id": "7b86321c",
   "metadata": {},
   "outputs": [
    {
     "name": "stdout",
     "output_type": "stream",
     "text": [
      "Micro-Averaged recall score: 0.27526311624594446\n"
     ]
    }
   ],
   "source": [
    "micro_averaged_recall = metrics.recall_score(y_true, y_pred, average = 'micro')\n",
    "print(f\"Micro-Averaged recall score: {micro_averaged_recall}\")\n"
   ]
  },
  {
   "cell_type": "code",
   "execution_count": 18,
   "id": "ffcdec5b",
   "metadata": {},
   "outputs": [
    {
     "name": "stdout",
     "output_type": "stream",
     "text": [
      "Macro-Averaged F1 score: 0.14084632745692585\n"
     ]
    }
   ],
   "source": [
    "macro_averaged_f1 = metrics.f1_score(y_true, y_pred, average = 'macro')\n",
    "print(f\"Macro-Averaged F1 score: {macro_averaged_f1}\")\n"
   ]
  },
  {
   "cell_type": "code",
   "execution_count": 19,
   "id": "020ccb9d",
   "metadata": {},
   "outputs": [
    {
     "name": "stdout",
     "output_type": "stream",
     "text": [
      "Micro-Averaged F1 score: 0.27526311624594446\n"
     ]
    }
   ],
   "source": [
    "micro_averaged_f1 = metrics.f1_score(y_true, y_pred, average = 'micro')\n",
    "print(f\"Micro-Averaged F1 score: {micro_averaged_f1}\")"
   ]
  },
  {
   "cell_type": "code",
   "execution_count": 20,
   "id": "c389ebf9",
   "metadata": {},
   "outputs": [],
   "source": [
    "# Copied from Kaggle competition\n",
    "from sklearn.metrics import roc_auc_score\n",
    "\n",
    "def roc_auc_score_multiclass(actual_class, pred_class, average = \"macro\"):\n",
    "    \n",
    "    #creating a set of all the unique classes using the actual class list\n",
    "    unique_class = set(actual_class)\n",
    "    roc_auc_dict = {}\n",
    "    for per_class in unique_class:\n",
    "        \n",
    "        #creating a list of all the classes except the current class \n",
    "        other_class = [x for x in unique_class if x != per_class]\n",
    "\n",
    "        #marking the current class as 1 and all other classes as 0\n",
    "        new_actual_class = [0 if x in other_class else 1 for x in actual_class]\n",
    "        new_pred_class = [0 if x in other_class else 1 for x in pred_class]\n",
    "\n",
    "        #using the sklearn metrics method to calculate the roc_auc_score\n",
    "        roc_auc = roc_auc_score(new_actual_class, new_pred_class, average = average)\n",
    "        roc_auc_dict[per_class] = roc_auc\n",
    "\n",
    "    return roc_auc_dict"
   ]
  },
  {
   "cell_type": "code",
   "execution_count": 21,
   "id": "2d21a2cb",
   "metadata": {},
   "outputs": [
    {
     "data": {
      "text/plain": [
       "{'40000-60000': 0.5339136569500762,\n",
       " '20000-40000': 0.5037996633551338,\n",
       " '100000-120000': 0.5104520903245433,\n",
       " '60000-80000': 0.5173887723815719,\n",
       " '140000-160000': 0.5043656332790111,\n",
       " 'above-160000': 0.6286674560901117,\n",
       " 'below-20000': 0.6696282370440838,\n",
       " '120000-140000': 0.500606028776351,\n",
       " '80000-100000': 0.5024850566857976}"
      ]
     },
     "execution_count": 21,
     "metadata": {},
     "output_type": "execute_result"
    }
   ],
   "source": [
    "roc_auc_dict = roc_auc_score_multiclass(y_true, y_pred)\n",
    "roc_auc_dict\n"
   ]
  },
  {
   "cell_type": "code",
   "execution_count": 22,
   "id": "9acc0cba",
   "metadata": {},
   "outputs": [
    {
     "data": {
      "text/plain": [
       "array([[ 102,    5,    6,   27,  842,  554,   65,  986,  815],\n",
       "       [  79,    4,    6,   18,  442,  337,   48,  791,  458],\n",
       "       [  56,    3,   16,    3,  269,  243,   32,  685,  330],\n",
       "       [  26,    2,    1,  154, 1623,  451,   32,  731, 4699],\n",
       "       [  53,    2,    6,  153, 1976,  637,   60, 1058, 3764],\n",
       "       [  65,    2,    6,   98, 1697,  764,   72, 1164, 2712],\n",
       "       [  77,    6,    4,   73, 1166,  641,   64, 1126, 1518],\n",
       "       [  55,    9,   21,   16,  660,  380,   61, 2135, 1710],\n",
       "       [  17,    1,    1,  141, 1376,  333,   30,  998, 8699]])"
      ]
     },
     "execution_count": 22,
     "metadata": {},
     "output_type": "execute_result"
    }
   ],
   "source": [
    "# Just to compare\n",
    "metrics.confusion_matrix(y_true, y_pred)"
   ]
  },
  {
   "cell_type": "code",
   "execution_count": 23,
   "id": "4649a58c",
   "metadata": {},
   "outputs": [
    {
     "data": {
      "text/plain": [
       "array([[8699,  141, 1376,  333,   30,   17,    1,    1,  998],\n",
       "       [4699,  154, 1623,  451,   32,   26,    2,    1,  731],\n",
       "       [3764,  153, 1976,  637,   60,   53,    2,    6, 1058],\n",
       "       [2712,   98, 1697,  764,   72,   65,    2,    6, 1164],\n",
       "       [1518,   73, 1166,  641,   64,   77,    6,    4, 1126],\n",
       "       [ 815,   27,  842,  554,   65,  102,    5,    6,  986],\n",
       "       [ 458,   18,  442,  337,   48,   79,    4,    6,  791],\n",
       "       [ 330,    3,  269,  243,   32,   56,    3,   16,  685],\n",
       "       [1710,   16,  660,  380,   61,   55,    9,   21, 2135]])"
      ]
     },
     "execution_count": 23,
     "metadata": {},
     "output_type": "execute_result"
    }
   ],
   "source": [
    "# Compare with unordered\n",
    "metrics.confusion_matrix(y_true, y_pred, labels = labels_order)"
   ]
  },
  {
   "cell_type": "code",
   "execution_count": 24,
   "id": "d168350b",
   "metadata": {},
   "outputs": [
    {
     "data": {
      "image/png": "[encoded data removed]",
      "text/plain": [
       "<Figure size 1296x576 with 2 Axes>"
      ]
     },
     "metadata": {
      "needs_background": "light"
     },
     "output_type": "display_data"
    }
   ],
   "source": [
    "plt.figure(figsize = (18,8))\n",
    "sns.heatmap(metrics.confusion_matrix(y_true, y_pred, labels = labels_order), \n",
    "            annot = True, \n",
    "            xticklabels = labels_order, \n",
    "            yticklabels = labels_order, \n",
    "            cmap = 'summer', \n",
    "            fmt='g')\n",
    "plt.xlabel('Predicted Labels')\n",
    "plt.ylabel('True Labels')\n",
    "plt.show()"
   ]
  },
  {
   "cell_type": "code",
   "execution_count": null,
   "id": "24722bb4",
   "metadata": {},
   "outputs": [],
   "source": []
  },
  {
   "cell_type": "code",
   "execution_count": null,
   "id": "1c0a9f78",
   "metadata": {},
   "outputs": [],
   "source": []
  }
 ],
 "metadata": {
  "kernelspec": {
   "display_name": "Python 3 (ipykernel)",
   "language": "python",
   "name": "python3"
  },
  "language_info": {
   "codemirror_mode": {
    "name": "ipython",
    "version": 3
   },
   "file_extension": ".py",
   "mimetype": "text/x-python",
   "name": "python",
   "nbconvert_exporter": "python",
   "pygments_lexer": "ipython3",
   "version": "3.9.12"
  }
 },
 "nbformat": 4,
 "nbformat_minor": 5
}
