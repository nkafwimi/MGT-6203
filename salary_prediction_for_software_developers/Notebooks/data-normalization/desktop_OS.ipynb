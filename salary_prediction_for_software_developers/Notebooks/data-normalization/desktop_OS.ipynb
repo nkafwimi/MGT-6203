{
 "cells": [
  {
   "cell_type": "code",
   "execution_count": 1,
   "id": "c3c9d6d6",
   "metadata": {},
   "outputs": [],
   "source": [
    "import pandas as pd\n",
    "import numpy as np"
   ]
  },
  {
   "cell_type": "code",
   "execution_count": 26,
   "id": "2c3ee5c8",
   "metadata": {},
   "outputs": [],
   "source": [
    "master_df = pd.read_csv(\"../../Data/filtered/master-data.csv\",sep = \",\", encoding = \"Latin-1\")"
   ]
  },
  {
   "cell_type": "code",
   "execution_count": 27,
   "id": "2d68fbca",
   "metadata": {},
   "outputs": [
    {
     "data": {
      "text/html": [
       "<div>\n",
       "<style scoped>\n",
       "    .dataframe tbody tr th:only-of-type {\n",
       "        vertical-align: middle;\n",
       "    }\n",
       "\n",
       "    .dataframe tbody tr th {\n",
       "        vertical-align: top;\n",
       "    }\n",
       "\n",
       "    .dataframe thead th {\n",
       "        text-align: right;\n",
       "    }\n",
       "</style>\n",
       "<table border=\"1\" class=\"dataframe\">\n",
       "  <thead>\n",
       "    <tr style=\"text-align: right;\">\n",
       "      <th></th>\n",
       "      <th>compensation</th>\n",
       "      <th>year</th>\n",
       "      <th>country</th>\n",
       "      <th>age</th>\n",
       "      <th>gender</th>\n",
       "      <th>IT_experience_in_years</th>\n",
       "      <th>company_size</th>\n",
       "      <th>occupation</th>\n",
       "      <th>proficient_languages</th>\n",
       "      <th>desktop_OS</th>\n",
       "      <th>job_satisfaction</th>\n",
       "      <th>GDP</th>\n",
       "    </tr>\n",
       "  </thead>\n",
       "  <tbody>\n",
       "    <tr>\n",
       "      <th>0</th>\n",
       "      <td>20000-40000</td>\n",
       "      <td>2011</td>\n",
       "      <td>United States</td>\n",
       "      <td>18_to_24</td>\n",
       "      <td>male</td>\n",
       "      <td>2_to_5</td>\n",
       "      <td>below_100</td>\n",
       "      <td>Executive (VP of Eng, CTO, CIO, etc.)</td>\n",
       "      <td>['JavaScript', 'CSS', 'PHP', 'Python', 'SQL', ...</td>\n",
       "      <td>Windows</td>\n",
       "      <td>5.0</td>\n",
       "      <td>50065.966504</td>\n",
       "    </tr>\n",
       "    <tr>\n",
       "      <th>1</th>\n",
       "      <td>80000-100000</td>\n",
       "      <td>2011</td>\n",
       "      <td>United States</td>\n",
       "      <td>18_to_24</td>\n",
       "      <td>male</td>\n",
       "      <td>6_to_10</td>\n",
       "      <td>1000_to_4999</td>\n",
       "      <td>Web Application Developer</td>\n",
       "      <td>['JavaScript', 'CSS', 'PHP', 'SQL']</td>\n",
       "      <td>Linux</td>\n",
       "      <td>6.0</td>\n",
       "      <td>50065.966504</td>\n",
       "    </tr>\n",
       "    <tr>\n",
       "      <th>2</th>\n",
       "      <td>80000-100000</td>\n",
       "      <td>2011</td>\n",
       "      <td>Germany</td>\n",
       "      <td>35_to_44</td>\n",
       "      <td>male</td>\n",
       "      <td>above_11</td>\n",
       "      <td>500_to_999</td>\n",
       "      <td>Desktop Application Developer</td>\n",
       "      <td>['C#']</td>\n",
       "      <td>Windows</td>\n",
       "      <td>6.0</td>\n",
       "      <td>46705.895796</td>\n",
       "    </tr>\n",
       "    <tr>\n",
       "      <th>3</th>\n",
       "      <td>60000-80000</td>\n",
       "      <td>2011</td>\n",
       "      <td>United Kingdom</td>\n",
       "      <td>35_to_44</td>\n",
       "      <td>male</td>\n",
       "      <td>above_11</td>\n",
       "      <td>500_to_999</td>\n",
       "      <td>IT Staff / System Administrator</td>\n",
       "      <td>['SQL', 'C#', 'C++', 'C']</td>\n",
       "      <td>Windows</td>\n",
       "      <td>6.0</td>\n",
       "      <td>42284.884490</td>\n",
       "    </tr>\n",
       "    <tr>\n",
       "      <th>4</th>\n",
       "      <td>40000-60000</td>\n",
       "      <td>2011</td>\n",
       "      <td>United Kingdom</td>\n",
       "      <td>25_to_34</td>\n",
       "      <td>female</td>\n",
       "      <td>above_11</td>\n",
       "      <td>below_100</td>\n",
       "      <td>Web Application Developer</td>\n",
       "      <td>['JavaScript', 'Python', 'SQL', 'C++', 'C', 'P...</td>\n",
       "      <td>Linux</td>\n",
       "      <td>5.0</td>\n",
       "      <td>42284.884490</td>\n",
       "    </tr>\n",
       "  </tbody>\n",
       "</table>\n",
       "</div>"
      ],
      "text/plain": [
       "   compensation  year         country       age  gender  \\\n",
       "0   20000-40000  2011   United States  18_to_24    male   \n",
       "1  80000-100000  2011   United States  18_to_24    male   \n",
       "2  80000-100000  2011         Germany  35_to_44    male   \n",
       "3   60000-80000  2011  United Kingdom  35_to_44    male   \n",
       "4   40000-60000  2011  United Kingdom  25_to_34  female   \n",
       "\n",
       "  IT_experience_in_years  company_size                             occupation  \\\n",
       "0                 2_to_5     below_100  Executive (VP of Eng, CTO, CIO, etc.)   \n",
       "1                6_to_10  1000_to_4999              Web Application Developer   \n",
       "2               above_11    500_to_999          Desktop Application Developer   \n",
       "3               above_11    500_to_999        IT Staff / System Administrator   \n",
       "4               above_11     below_100              Web Application Developer   \n",
       "\n",
       "                                proficient_languages desktop_OS  \\\n",
       "0  ['JavaScript', 'CSS', 'PHP', 'Python', 'SQL', ...    Windows   \n",
       "1                ['JavaScript', 'CSS', 'PHP', 'SQL']      Linux   \n",
       "2                                             ['C#']    Windows   \n",
       "3                          ['SQL', 'C#', 'C++', 'C']    Windows   \n",
       "4  ['JavaScript', 'Python', 'SQL', 'C++', 'C', 'P...      Linux   \n",
       "\n",
       "   job_satisfaction           GDP  \n",
       "0               5.0  50065.966504  \n",
       "1               6.0  50065.966504  \n",
       "2               6.0  46705.895796  \n",
       "3               6.0  42284.884490  \n",
       "4               5.0  42284.884490  "
      ]
     },
     "execution_count": 27,
     "metadata": {},
     "output_type": "execute_result"
    }
   ],
   "source": [
    "master_df.head()"
   ]
  },
  {
   "cell_type": "markdown",
   "id": "98a4887f",
   "metadata": {},
   "source": [
    "<!-- normalize  -->"
   ]
  },
  {
   "cell_type": "code",
   "execution_count": 28,
   "id": "54b32f86",
   "metadata": {},
   "outputs": [
    {
     "data": {
      "text/plain": [
       "array(['Windows', 'Linux', 'Mac', nan, 'Other', 'Ubuntu', 'Fedora',\n",
       "       'Mint', 'Debian', 'Unix'], dtype=object)"
      ]
     },
     "execution_count": 28,
     "metadata": {},
     "output_type": "execute_result"
    }
   ],
   "source": [
    "master_df.desktop_OS.unique()"
   ]
  },
  {
   "cell_type": "code",
   "execution_count": 29,
   "id": "1fc860af",
   "metadata": {},
   "outputs": [
    {
     "name": "stderr",
     "output_type": "stream",
     "text": [
      "/var/folders/pp/wgkcdhjs2zl2gjb6v80sf2p80000gn/T/ipykernel_61942/2096150723.py:5: FutureWarning: The pandas.np module is deprecated and will be removed from pandas in a future version. Import numpy directly instead.\n",
      "  master_df[\"desktop_OS\"] = pd.np.where(pc.str.contains(\"Windows\"),\"Windows\",\n",
      "/var/folders/pp/wgkcdhjs2zl2gjb6v80sf2p80000gn/T/ipykernel_61942/2096150723.py:6: FutureWarning: The pandas.np module is deprecated and will be removed from pandas in a future version. Import numpy directly instead.\n",
      "  pd.np.where(pc.str.contains(\"Linux | Fedora | Mint | Debian | Other Linux | Linux-based | Windows Subsystem for Linux (WSL)\"),\"Linux\",\n",
      "/var/folders/pp/wgkcdhjs2zl2gjb6v80sf2p80000gn/T/ipykernel_61942/2096150723.py:6: UserWarning: This pattern is interpreted as a regular expression, and has match groups. To actually get the groups, use str.extract.\n",
      "  pd.np.where(pc.str.contains(\"Linux | Fedora | Mint | Debian | Other Linux | Linux-based | Windows Subsystem for Linux (WSL)\"),\"Linux\",\n",
      "/var/folders/pp/wgkcdhjs2zl2gjb6v80sf2p80000gn/T/ipykernel_61942/2096150723.py:7: FutureWarning: The pandas.np module is deprecated and will be removed from pandas in a future version. Import numpy directly instead.\n",
      "  pd.np.where(pc.str.contains(\"Mac\"),\"Mac\",\n",
      "/var/folders/pp/wgkcdhjs2zl2gjb6v80sf2p80000gn/T/ipykernel_61942/2096150723.py:8: FutureWarning: The pandas.np module is deprecated and will be removed from pandas in a future version. Import numpy directly instead.\n",
      "  pd.np.where(pc.str.contains(\"BSD\"),\"Unix\",\n",
      "/var/folders/pp/wgkcdhjs2zl2gjb6v80sf2p80000gn/T/ipykernel_61942/2096150723.py:9: FutureWarning: The pandas.np module is deprecated and will be removed from pandas in a future version. Import numpy directly instead.\n",
      "  pd.np.where(pc.str.contains(\"Ubuntu\"),\"Ubuntu\",\n",
      "/var/folders/pp/wgkcdhjs2zl2gjb6v80sf2p80000gn/T/ipykernel_61942/2096150723.py:10: FutureWarning: The pandas.np module is deprecated and will be removed from pandas in a future version. Import numpy directly instead.\n",
      "  pd.np.where(pc.str.contains(\"Other\"),\"Other\",pd.np.where(pc.str.contains(\"nan\"),\"OS_unknwon\",master_df[\"desktop_OS\"])))))))\n"
     ]
    }
   ],
   "source": [
    "# normalize desktop OS\n",
    "\n",
    "pc = master_df.desktop_OS.fillna(\"OS_unkwown\")\n",
    "\n",
    "master_df[\"desktop_OS\"] = pd.np.where(pc.str.contains(\"Windows\"),\"Windows\",\n",
    "                       pd.np.where(pc.str.contains(\"Linux | Fedora | Mint | Debian | Other Linux | Linux-based | Windows Subsystem for Linux (WSL)\"),\"Linux\",\n",
    "                       pd.np.where(pc.str.contains(\"Mac\"),\"Mac\",\n",
    "                       pd.np.where(pc.str.contains(\"BSD\"),\"Unix\",\n",
    "                       pd.np.where(pc.str.contains(\"Ubuntu\"),\"Ubuntu\",\n",
    "                       pd.np.where(pc.str.contains(\"Other\"),\"Other\",pd.np.where(pc.str.contains(\"nan\"),\"OS_unknwon\",master_df[\"desktop_OS\"])))))))"
   ]
  },
  {
   "cell_type": "code",
   "execution_count": 30,
   "id": "467e5c62",
   "metadata": {},
   "outputs": [
    {
     "data": {
      "text/plain": [
       "array(['Windows', 'Linux', 'Mac', nan, 'Other', 'Ubuntu', 'Fedora',\n",
       "       'Mint', 'Debian', 'Unix'], dtype=object)"
      ]
     },
     "execution_count": 30,
     "metadata": {},
     "output_type": "execute_result"
    }
   ],
   "source": [
    "master_df.desktop_OS.unique()"
   ]
  },
  {
   "cell_type": "code",
   "execution_count": 31,
   "id": "42e0b956",
   "metadata": {},
   "outputs": [],
   "source": [
    "master_df[\"desktop_OS\"] = master_df[\"desktop_OS\"].fillna(\"OS_unknown\")"
   ]
  },
  {
   "cell_type": "code",
   "execution_count": 32,
   "id": "1e381084",
   "metadata": {},
   "outputs": [],
   "source": [
    "def normalise_desktopos(row):\n",
    "    desktop_os = row\n",
    "    if row in [\"Linux\", \"Ubuntu\", \"Fedora\", \"Mint\", \"Debian\"]:\n",
    "        desktop_os=\"linux\"\n",
    "    elif row in [\"Other\"]:\n",
    "        desktop_os=\"OS_unknown\"\n",
    "    return desktop_os.lower()"
   ]
  },
  {
   "cell_type": "code",
   "execution_count": 33,
   "id": "3c6fd8b9",
   "metadata": {},
   "outputs": [],
   "source": [
    "master_df[\"desktop_OS\"]=master_df[\"desktop_OS\"].apply(normalise_desktopos)"
   ]
  },
  {
   "cell_type": "code",
   "execution_count": 34,
   "id": "a73b6395",
   "metadata": {},
   "outputs": [
    {
     "data": {
      "text/plain": [
       "array(['windows', 'linux', 'mac', 'os_unknown', 'unix'], dtype=object)"
      ]
     },
     "execution_count": 34,
     "metadata": {},
     "output_type": "execute_result"
    }
   ],
   "source": [
    "master_df.desktop_OS.unique()"
   ]
  },
  {
   "cell_type": "code",
   "execution_count": 35,
   "id": "2b6f567a",
   "metadata": {},
   "outputs": [
    {
     "data": {
      "text/plain": [
       "desktop_OS\n",
       "linux          58752\n",
       "mac            72822\n",
       "os_unknown      4520\n",
       "unix             175\n",
       "windows       120991\n",
       "Name: desktop_OS, dtype: int64"
      ]
     },
     "execution_count": 35,
     "metadata": {},
     "output_type": "execute_result"
    }
   ],
   "source": [
    "master_df.groupby(\"desktop_OS\")[\"desktop_OS\"].count()"
   ]
  },
  {
   "cell_type": "code",
   "execution_count": 36,
   "id": "443842fd",
   "metadata": {},
   "outputs": [],
   "source": [
    "master_df = master_df[master_df.desktop_OS != \"os_unknown\"]"
   ]
  },
  {
   "cell_type": "code",
   "execution_count": 37,
   "id": "2b3d378b",
   "metadata": {},
   "outputs": [
    {
     "data": {
      "text/plain": [
       "desktop_OS\n",
       "linux       58752\n",
       "mac         72822\n",
       "unix          175\n",
       "windows    120991\n",
       "Name: desktop_OS, dtype: int64"
      ]
     },
     "execution_count": 37,
     "metadata": {},
     "output_type": "execute_result"
    }
   ],
   "source": [
    "master_df.groupby(\"desktop_OS\")[\"desktop_OS\"].count()"
   ]
  },
  {
   "cell_type": "code",
   "execution_count": 38,
   "id": "b51fabcd",
   "metadata": {},
   "outputs": [],
   "source": [
    "master_df.to_csv(\"../../Data/filtered/master-data.csv\",index=False)"
   ]
  },
  {
   "cell_type": "code",
   "execution_count": null,
   "id": "ea2f3920",
   "metadata": {},
   "outputs": [],
   "source": []
  }
 ],
 "metadata": {
  "kernelspec": {
   "display_name": "Python 3 (ipykernel)",
   "language": "python",
   "name": "python3"
  },
  "language_info": {
   "codemirror_mode": {
    "name": "ipython",
    "version": 3
   },
   "file_extension": ".py",
   "mimetype": "text/x-python",
   "name": "python",
   "nbconvert_exporter": "python",
   "pygments_lexer": "ipython3",
   "version": "3.9.12"
  }
 },
 "nbformat": 4,
 "nbformat_minor": 5
}
