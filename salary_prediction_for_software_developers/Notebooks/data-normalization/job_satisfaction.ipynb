{
 "cells": [
  {
   "cell_type": "code",
   "execution_count": 1,
   "id": "49525fd4",
   "metadata": {},
   "outputs": [],
   "source": [
    "import pandas as pd\n",
    "import numpy as np\n",
    "import math\n",
    "import random\n"
   ]
  },
  {
   "cell_type": "code",
   "execution_count": 2,
   "id": "59a6f7f2",
   "metadata": {},
   "outputs": [],
   "source": [
    "master_data = pd.read_csv(\"../../Data/filtered/master-data.csv\", sep=\",\", encoding='Latin-1', low_memory=False)"
   ]
  },
  {
   "cell_type": "code",
   "execution_count": 3,
   "id": "a40176aa",
   "metadata": {},
   "outputs": [
    {
     "data": {
      "text/html": [
       "<div>\n",
       "<style scoped>\n",
       "    .dataframe tbody tr th:only-of-type {\n",
       "        vertical-align: middle;\n",
       "    }\n",
       "\n",
       "    .dataframe tbody tr th {\n",
       "        vertical-align: top;\n",
       "    }\n",
       "\n",
       "    .dataframe thead th {\n",
       "        text-align: right;\n",
       "    }\n",
       "</style>\n",
       "<table border=\"1\" class=\"dataframe\">\n",
       "  <thead>\n",
       "    <tr style=\"text-align: right;\">\n",
       "      <th></th>\n",
       "      <th>compensation</th>\n",
       "      <th>year</th>\n",
       "      <th>country</th>\n",
       "      <th>age</th>\n",
       "      <th>gender</th>\n",
       "      <th>IT_experience_in_years</th>\n",
       "      <th>company_size</th>\n",
       "      <th>occupation</th>\n",
       "      <th>proficient_languages</th>\n",
       "      <th>desktop_OS</th>\n",
       "      <th>job_satisfaction</th>\n",
       "    </tr>\n",
       "  </thead>\n",
       "  <tbody>\n",
       "    <tr>\n",
       "      <th>0</th>\n",
       "      <td>Student / Unemployed</td>\n",
       "      <td>2011</td>\n",
       "      <td>Africa</td>\n",
       "      <td>&lt; 20</td>\n",
       "      <td>Female</td>\n",
       "      <td>&lt;2</td>\n",
       "      <td>Start Up (1-25)</td>\n",
       "      <td>Web Application Developer</td>\n",
       "      <td>['JavaScript']</td>\n",
       "      <td>Linux</td>\n",
       "      <td>FML</td>\n",
       "    </tr>\n",
       "    <tr>\n",
       "      <th>1</th>\n",
       "      <td>NaN</td>\n",
       "      <td>2011</td>\n",
       "      <td>Other Europe</td>\n",
       "      <td>25-29</td>\n",
       "      <td>Male</td>\n",
       "      <td>41310</td>\n",
       "      <td>Mature Small Business (25-100)</td>\n",
       "      <td>Server Programmer</td>\n",
       "      <td>['SQL', 'C']</td>\n",
       "      <td>Windows 7</td>\n",
       "      <td>So happy it hurts</td>\n",
       "    </tr>\n",
       "    <tr>\n",
       "      <th>2</th>\n",
       "      <td>NaN</td>\n",
       "      <td>2011</td>\n",
       "      <td>India</td>\n",
       "      <td>25-29</td>\n",
       "      <td>Female</td>\n",
       "      <td>41435</td>\n",
       "      <td>Mid Sized (100-999)</td>\n",
       "      <td>Server Programmer</td>\n",
       "      <td>['JavaScript', 'SQL']</td>\n",
       "      <td>Linux</td>\n",
       "      <td>NaN</td>\n",
       "    </tr>\n",
       "    <tr>\n",
       "      <th>3</th>\n",
       "      <td>Student / Unemployed</td>\n",
       "      <td>2011</td>\n",
       "      <td>Germany</td>\n",
       "      <td>&lt; 20</td>\n",
       "      <td>Female</td>\n",
       "      <td>41310</td>\n",
       "      <td>Student</td>\n",
       "      <td>Student</td>\n",
       "      <td>['Haskell']</td>\n",
       "      <td>Linux</td>\n",
       "      <td>I enjoy going to work</td>\n",
       "    </tr>\n",
       "    <tr>\n",
       "      <th>4</th>\n",
       "      <td>$80,000 - $100,000</td>\n",
       "      <td>2011</td>\n",
       "      <td>Other Asia</td>\n",
       "      <td>35-39</td>\n",
       "      <td>Male</td>\n",
       "      <td>11</td>\n",
       "      <td>Start Up (1-25)</td>\n",
       "      <td>Executive (VP of Eng, CTO, CIO, etc.)</td>\n",
       "      <td>['JavaScript', 'CSS', 'PHP', 'SQL', 'C++', 'C'...</td>\n",
       "      <td>Linux</td>\n",
       "      <td>It pays the bills</td>\n",
       "    </tr>\n",
       "  </tbody>\n",
       "</table>\n",
       "</div>"
      ],
      "text/plain": [
       "           compensation  year       country    age  gender  \\\n",
       "0  Student / Unemployed  2011        Africa   < 20  Female   \n",
       "1                   NaN  2011  Other Europe  25-29    Male   \n",
       "2                   NaN  2011         India  25-29  Female   \n",
       "3  Student / Unemployed  2011       Germany   < 20  Female   \n",
       "4    $80,000 - $100,000  2011    Other Asia  35-39    Male   \n",
       "\n",
       "  IT_experience_in_years                    company_size  \\\n",
       "0                     <2                 Start Up (1-25)   \n",
       "1                  41310  Mature Small Business (25-100)   \n",
       "2                  41435             Mid Sized (100-999)   \n",
       "3                  41310                         Student   \n",
       "4                     11                 Start Up (1-25)   \n",
       "\n",
       "                              occupation  \\\n",
       "0              Web Application Developer   \n",
       "1                      Server Programmer   \n",
       "2                      Server Programmer   \n",
       "3                                Student   \n",
       "4  Executive (VP of Eng, CTO, CIO, etc.)   \n",
       "\n",
       "                                proficient_languages desktop_OS  \\\n",
       "0                                     ['JavaScript']      Linux   \n",
       "1                                       ['SQL', 'C']  Windows 7   \n",
       "2                              ['JavaScript', 'SQL']      Linux   \n",
       "3                                        ['Haskell']      Linux   \n",
       "4  ['JavaScript', 'CSS', 'PHP', 'SQL', 'C++', 'C'...      Linux   \n",
       "\n",
       "        job_satisfaction  \n",
       "0                    FML  \n",
       "1      So happy it hurts  \n",
       "2                    NaN  \n",
       "3  I enjoy going to work  \n",
       "4      It pays the bills  "
      ]
     },
     "execution_count": 3,
     "metadata": {},
     "output_type": "execute_result"
    }
   ],
   "source": [
    "master_data.head()\n"
   ]
  },
  {
   "cell_type": "code",
   "execution_count": 4,
   "id": "53988d22",
   "metadata": {},
   "outputs": [
    {
     "data": {
      "text/plain": [
       "['FML',\n",
       " 'So happy it hurts',\n",
       " nan,\n",
       " 'I enjoy going to work',\n",
       " 'It pays the bills',\n",
       " \"I'm not happy in my job\",\n",
       " 'Love my job',\n",
       " 'I wish I had a job!',\n",
       " 'Its a paycheck',\n",
       " 'Hate my job',\n",
       " \"It's a paycheck\",\n",
       " 'unknown',\n",
       " '9.0',\n",
       " '3.0',\n",
       " '8.0',\n",
       " '6.0',\n",
       " '7.0',\n",
       " '5.0',\n",
       " '4.0',\n",
       " '10.0',\n",
       " '2.0',\n",
       " '0.0',\n",
       " '1.0',\n",
       " 'Extremely satisfied',\n",
       " 'Moderately dissatisfied',\n",
       " 'Moderately satisfied',\n",
       " 'Neither satisfied nor dissatisfied',\n",
       " 'Slightly satisfied',\n",
       " 'Slightly dissatisfied',\n",
       " 'Extremely dissatisfied',\n",
       " 'Very satisfied',\n",
       " 'Very dissatisfied']"
      ]
     },
     "execution_count": 4,
     "metadata": {},
     "output_type": "execute_result"
    }
   ],
   "source": [
    "list(master_data[\"job_satisfaction\"].unique())"
   ]
  },
  {
   "cell_type": "code",
   "execution_count": 8,
   "id": "f65c97a8",
   "metadata": {},
   "outputs": [],
   "source": [
    "#replace values, chose to replace text values with numeric scale where 1 is least satisfied and 10 is most satisfied.\n",
    "# 0 is denoted for NAN, unknown\n",
    "\n",
    "master_data['job_satisfaction'] = master_data['job_satisfaction'].replace(['FML',\n",
    " 'So happy it hurts',\n",
    " 'nan',\n",
    " 'I enjoy going to work',\n",
    " 'It pays the bills',\n",
    " \"I'm not happy in my job\",\n",
    " 'Love my job',\n",
    " 'I wish I had a job!',\n",
    " 'Its a paycheck',\n",
    " 'Hate my job',\n",
    " \"It's a paycheck\",\n",
    " 'unknown',\n",
    " '9.0',\n",
    " '3.0',\n",
    " '8.0',\n",
    " '6.0',\n",
    " '7.0',\n",
    " '5.0',\n",
    " '4.0',\n",
    " '10.0',\n",
    " '2.0',\n",
    " '0.0',\n",
    " '1.0',\n",
    " 'Extremely satisfied',\n",
    " 'Moderately dissatisfied',\n",
    " 'Moderately satisfied',\n",
    " 'Neither satisfied nor dissatisfied',\n",
    " 'Slightly satisfied',\n",
    " 'Slightly dissatisfied',\n",
    " 'Extremely dissatisfied',\n",
    " 'Very satisfied',\n",
    " 'Very dissatisfied'], [1,\n",
    "8,\n",
    "0,\n",
    "6,\n",
    "5,\n",
    "3,\n",
    "7,\n",
    "0,\n",
    "4,\n",
    "2,\n",
    "4,\n",
    "0,\n",
    "9,\n",
    "3,\n",
    "8,\n",
    "6,\n",
    "7,\n",
    "5,\n",
    "4,\n",
    "10,\n",
    "2,\n",
    "0,\n",
    "1,\n",
    "9,\n",
    "3,\n",
    "7,\n",
    "5,\n",
    "6,\n",
    "4,\n",
    "1,\n",
    "8,\n",
    "2])"
   ]
  },
  {
   "cell_type": "code",
   "execution_count": 9,
   "id": "f20445dc",
   "metadata": {},
   "outputs": [
    {
     "data": {
      "text/plain": [
       "[1.0, 8.0, nan, 6.0, 5.0, 3.0, 7.0, 0.0, 4.0, 2.0, 9.0, 10.0]"
      ]
     },
     "execution_count": 9,
     "metadata": {},
     "output_type": "execute_result"
    }
   ],
   "source": [
    "#check to see if changes have been applied to job_satisfaction\n",
    "list(master_data[\"job_satisfaction\"].unique())\n"
   ]
  },
  {
   "cell_type": "code",
   "execution_count": 14,
   "id": "4c439248",
   "metadata": {},
   "outputs": [
    {
     "data": {
      "text/plain": [
       "[1.0, 8.0, 0.0, 6.0, 5.0, 3.0, 7.0, 4.0, 2.0, 9.0, 10.0]"
      ]
     },
     "execution_count": 14,
     "metadata": {},
     "output_type": "execute_result"
    }
   ],
   "source": [
    "master_data['job_satisfaction'] = master_data['job_satisfaction'].fillna(0)\n",
    "list(master_data[\"job_satisfaction\"].unique())"
   ]
  },
  {
   "cell_type": "code",
   "execution_count": null,
   "id": "56245123",
   "metadata": {},
   "outputs": [],
   "source": []
  }
 ],
 "metadata": {
  "kernelspec": {
   "display_name": "Python 3 (ipykernel)",
   "language": "python",
   "name": "python3"
  },
  "language_info": {
   "codemirror_mode": {
    "name": "ipython",
    "version": 3
   },
   "file_extension": ".py",
   "mimetype": "text/x-python",
   "name": "python",
   "nbconvert_exporter": "python",
   "pygments_lexer": "ipython3",
   "version": "3.9.12"
  }
 },
 "nbformat": 4,
 "nbformat_minor": 5
}
