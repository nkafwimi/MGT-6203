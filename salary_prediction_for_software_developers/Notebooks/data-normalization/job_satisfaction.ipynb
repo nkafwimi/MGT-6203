{
 "cells": [
  {
   "cell_type": "code",
   "execution_count": 1,
   "id": "49525fd4",
   "metadata": {},
   "outputs": [],
   "source": [
    "import pandas as pd\n",
    "import numpy as np\n",
    "import math\n",
    "import random\n"
   ]
  },
  {
   "cell_type": "code",
   "execution_count": 2,
   "id": "59a6f7f2",
   "metadata": {},
   "outputs": [],
   "source": [
    "master_data = pd.read_csv(\"../../Data/filtered/master-data.csv\", sep=\",\", encoding='Latin-1', low_memory=False)"
   ]
  },
  {
   "cell_type": "code",
   "execution_count": 3,
   "id": "a40176aa",
   "metadata": {},
   "outputs": [
    {
     "data": {
      "text/html": [
       "<div>\n",
       "<style scoped>\n",
       "    .dataframe tbody tr th:only-of-type {\n",
       "        vertical-align: middle;\n",
       "    }\n",
       "\n",
       "    .dataframe tbody tr th {\n",
       "        vertical-align: top;\n",
       "    }\n",
       "\n",
       "    .dataframe thead th {\n",
       "        text-align: right;\n",
       "    }\n",
       "</style>\n",
       "<table border=\"1\" class=\"dataframe\">\n",
       "  <thead>\n",
       "    <tr style=\"text-align: right;\">\n",
       "      <th></th>\n",
       "      <th>compensation</th>\n",
       "      <th>year</th>\n",
       "      <th>country</th>\n",
       "      <th>age</th>\n",
       "      <th>gender</th>\n",
       "      <th>IT_experience_in_years</th>\n",
       "      <th>company_size</th>\n",
       "      <th>occupation</th>\n",
       "      <th>proficient_languages</th>\n",
       "      <th>desktop_OS</th>\n",
       "      <th>job_satisfaction</th>\n",
       "      <th>GDP</th>\n",
       "    </tr>\n",
       "  </thead>\n",
       "  <tbody>\n",
       "    <tr>\n",
       "      <th>0</th>\n",
       "      <td>20000-40000</td>\n",
       "      <td>2011</td>\n",
       "      <td>United States</td>\n",
       "      <td>18_to_24</td>\n",
       "      <td>male</td>\n",
       "      <td>41310</td>\n",
       "      <td>below_100</td>\n",
       "      <td>Executive (VP of Eng, CTO, CIO, etc.)</td>\n",
       "      <td>['JavaScript', 'CSS', 'PHP', 'Python', 'SQL', ...</td>\n",
       "      <td>Windows 7</td>\n",
       "      <td>It pays the bills</td>\n",
       "      <td>1.559973e+13</td>\n",
       "    </tr>\n",
       "    <tr>\n",
       "      <th>1</th>\n",
       "      <td>80000-100000</td>\n",
       "      <td>2011</td>\n",
       "      <td>United States</td>\n",
       "      <td>18_to_24</td>\n",
       "      <td>male</td>\n",
       "      <td>41435</td>\n",
       "      <td>1000_to_4999</td>\n",
       "      <td>Web Application Developer</td>\n",
       "      <td>['JavaScript', 'CSS', 'PHP', 'SQL']</td>\n",
       "      <td>Linux</td>\n",
       "      <td>I enjoy going to work</td>\n",
       "      <td>1.559973e+13</td>\n",
       "    </tr>\n",
       "    <tr>\n",
       "      <th>2</th>\n",
       "      <td>80000-100000</td>\n",
       "      <td>2011</td>\n",
       "      <td>Germany</td>\n",
       "      <td>35_to_44</td>\n",
       "      <td>male</td>\n",
       "      <td>11</td>\n",
       "      <td>500_to_999</td>\n",
       "      <td>Desktop Application Developer</td>\n",
       "      <td>['C#']</td>\n",
       "      <td>Windows 7</td>\n",
       "      <td>I enjoy going to work</td>\n",
       "      <td>3.749315e+12</td>\n",
       "    </tr>\n",
       "    <tr>\n",
       "      <th>3</th>\n",
       "      <td>60000-80000</td>\n",
       "      <td>2011</td>\n",
       "      <td>United Kingdom</td>\n",
       "      <td>35_to_44</td>\n",
       "      <td>male</td>\n",
       "      <td>11</td>\n",
       "      <td>500_to_999</td>\n",
       "      <td>IT Staff / System Administrator</td>\n",
       "      <td>['SQL', 'C#', 'C++', 'C']</td>\n",
       "      <td>Windows 7</td>\n",
       "      <td>I enjoy going to work</td>\n",
       "      <td>2.674891e+12</td>\n",
       "    </tr>\n",
       "    <tr>\n",
       "      <th>4</th>\n",
       "      <td>40000-60000</td>\n",
       "      <td>2011</td>\n",
       "      <td>United Kingdom</td>\n",
       "      <td>25_to_34</td>\n",
       "      <td>female</td>\n",
       "      <td>11</td>\n",
       "      <td>below_100</td>\n",
       "      <td>Web Application Developer</td>\n",
       "      <td>['JavaScript', 'Python', 'SQL', 'C++', 'C', 'P...</td>\n",
       "      <td>Linux</td>\n",
       "      <td>It pays the bills</td>\n",
       "      <td>2.674891e+12</td>\n",
       "    </tr>\n",
       "  </tbody>\n",
       "</table>\n",
       "</div>"
      ],
      "text/plain": [
       "   compensation  year         country       age  gender  \\\n",
       "0   20000-40000  2011   United States  18_to_24    male   \n",
       "1  80000-100000  2011   United States  18_to_24    male   \n",
       "2  80000-100000  2011         Germany  35_to_44    male   \n",
       "3   60000-80000  2011  United Kingdom  35_to_44    male   \n",
       "4   40000-60000  2011  United Kingdom  25_to_34  female   \n",
       "\n",
       "  IT_experience_in_years  company_size                             occupation  \\\n",
       "0                  41310     below_100  Executive (VP of Eng, CTO, CIO, etc.)   \n",
       "1                  41435  1000_to_4999              Web Application Developer   \n",
       "2                     11    500_to_999          Desktop Application Developer   \n",
       "3                     11    500_to_999        IT Staff / System Administrator   \n",
       "4                     11     below_100              Web Application Developer   \n",
       "\n",
       "                                proficient_languages desktop_OS  \\\n",
       "0  ['JavaScript', 'CSS', 'PHP', 'Python', 'SQL', ...  Windows 7   \n",
       "1                ['JavaScript', 'CSS', 'PHP', 'SQL']      Linux   \n",
       "2                                             ['C#']  Windows 7   \n",
       "3                          ['SQL', 'C#', 'C++', 'C']  Windows 7   \n",
       "4  ['JavaScript', 'Python', 'SQL', 'C++', 'C', 'P...      Linux   \n",
       "\n",
       "        job_satisfaction           GDP  \n",
       "0      It pays the bills  1.559973e+13  \n",
       "1  I enjoy going to work  1.559973e+13  \n",
       "2  I enjoy going to work  3.749315e+12  \n",
       "3  I enjoy going to work  2.674891e+12  \n",
       "4      It pays the bills  2.674891e+12  "
      ]
     },
     "execution_count": 3,
     "metadata": {},
     "output_type": "execute_result"
    }
   ],
   "source": [
    "master_data.head()\n"
   ]
  },
  {
   "cell_type": "code",
   "execution_count": 4,
   "id": "53988d22",
   "metadata": {},
   "outputs": [
    {
     "data": {
      "text/plain": [
       "['It pays the bills',\n",
       " 'I enjoy going to work',\n",
       " \"I'm not happy in my job\",\n",
       " 'So happy it hurts',\n",
       " 'FML',\n",
       " 'Love my job',\n",
       " 'Its a paycheck',\n",
       " 'I wish I had a job!',\n",
       " 'Hate my job',\n",
       " \"It's a paycheck\",\n",
       " 'unknown',\n",
       " '9.0',\n",
       " '8.0',\n",
       " '3.0',\n",
       " '7.0',\n",
       " nan,\n",
       " '5.0',\n",
       " '6.0',\n",
       " '2.0',\n",
       " '10.0',\n",
       " '4.0',\n",
       " '1.0',\n",
       " '0.0',\n",
       " 'Moderately dissatisfied',\n",
       " 'Slightly satisfied',\n",
       " 'Moderately satisfied',\n",
       " 'Neither satisfied nor dissatisfied',\n",
       " 'Slightly dissatisfied',\n",
       " 'Extremely dissatisfied',\n",
       " 'Extremely satisfied',\n",
       " 'Very satisfied',\n",
       " 'Very dissatisfied']"
      ]
     },
     "execution_count": 4,
     "metadata": {},
     "output_type": "execute_result"
    }
   ],
   "source": [
    "list(master_data[\"job_satisfaction\"].unique())"
   ]
  },
  {
   "cell_type": "code",
   "execution_count": 5,
   "id": "f65c97a8",
   "metadata": {},
   "outputs": [],
   "source": [
    "#replace values, chose to replace text values with numeric scale where 1 is least satisfied and 10 is most satisfied.\n",
    "# 0 is denoted for NAN, unknown\n",
    "\n",
    "master_data['job_satisfaction'] = master_data['job_satisfaction'].replace(['FML',\n",
    " 'So happy it hurts',\n",
    " 'nan',\n",
    " 'I enjoy going to work',\n",
    " 'It pays the bills',\n",
    " \"I'm not happy in my job\",\n",
    " 'Love my job',\n",
    " 'I wish I had a job!',\n",
    " 'Its a paycheck',\n",
    " 'Hate my job',\n",
    " \"It's a paycheck\",\n",
    " 'unknown',\n",
    " '9.0',\n",
    " '3.0',\n",
    " '8.0',\n",
    " '6.0',\n",
    " '7.0',\n",
    " '5.0',\n",
    " '4.0',\n",
    " '10.0',\n",
    " '2.0',\n",
    " '0.0',\n",
    " '1.0',\n",
    " 'Extremely satisfied',\n",
    " 'Moderately dissatisfied',\n",
    " 'Moderately satisfied',\n",
    " 'Neither satisfied nor dissatisfied',\n",
    " 'Slightly satisfied',\n",
    " 'Slightly dissatisfied',\n",
    " 'Extremely dissatisfied',\n",
    " 'Very satisfied',\n",
    " 'Very dissatisfied'], [1,\n",
    "8,\n",
    "0,\n",
    "6,\n",
    "5,\n",
    "3,\n",
    "7,\n",
    "0,\n",
    "4,\n",
    "2,\n",
    "4,\n",
    "0,\n",
    "9,\n",
    "3,\n",
    "8,\n",
    "6,\n",
    "7,\n",
    "5,\n",
    "4,\n",
    "10,\n",
    "2,\n",
    "0,\n",
    "1,\n",
    "9,\n",
    "3,\n",
    "7,\n",
    "5,\n",
    "6,\n",
    "4,\n",
    "1,\n",
    "8,\n",
    "2])"
   ]
  },
  {
   "cell_type": "code",
   "execution_count": 6,
   "id": "f20445dc",
   "metadata": {},
   "outputs": [
    {
     "data": {
      "text/plain": [
       "[5.0, 6.0, 3.0, 8.0, 1.0, 7.0, 4.0, 0.0, 2.0, 9.0, nan, 10.0]"
      ]
     },
     "execution_count": 6,
     "metadata": {},
     "output_type": "execute_result"
    }
   ],
   "source": [
    "#check to see if changes have been applied to job_satisfaction\n",
    "list(master_data[\"job_satisfaction\"].unique())\n"
   ]
  },
  {
   "cell_type": "code",
   "execution_count": 7,
   "id": "4c439248",
   "metadata": {},
   "outputs": [
    {
     "data": {
      "text/plain": [
       "[5.0, 6.0, 3.0, 8.0, 1.0, 7.0, 4.0, 0.0, 2.0, 9.0, 10.0]"
      ]
     },
     "execution_count": 7,
     "metadata": {},
     "output_type": "execute_result"
    }
   ],
   "source": [
    "master_data['job_satisfaction'] = master_data['job_satisfaction'].fillna(0)\n",
    "list(master_data[\"job_satisfaction\"].unique())"
   ]
  },
  {
   "cell_type": "code",
   "execution_count": 8,
   "id": "56245123",
   "metadata": {},
   "outputs": [
    {
     "data": {
      "text/plain": [
       "job_satisfaction\n",
       "0.0     109142\n",
       "1.0       1563\n",
       "2.0       6462\n",
       "3.0       5315\n",
       "4.0      19701\n",
       "5.0      13412\n",
       "6.0      40577\n",
       "7.0      21061\n",
       "8.0      30477\n",
       "9.0       9842\n",
       "10.0      1112\n",
       "Name: job_satisfaction, dtype: int64"
      ]
     },
     "execution_count": 8,
     "metadata": {},
     "output_type": "execute_result"
    }
   ],
   "source": [
    "master_data.groupby(\"job_satisfaction\")[\"job_satisfaction\"].count()\n"
   ]
  },
  {
   "cell_type": "code",
   "execution_count": 9,
   "id": "6bce588c",
   "metadata": {},
   "outputs": [],
   "source": [
    "#write to master data\n",
    "(\n",
    "    master_data.to_csv(\"../../Data/filtered/master-data.csv\", index=False)\n",
    ")\n"
   ]
  },
  {
   "cell_type": "code",
   "execution_count": null,
   "id": "5ffad7f3",
   "metadata": {},
   "outputs": [],
   "source": []
  }
 ],
 "metadata": {
  "kernelspec": {
   "display_name": "Python 3 (ipykernel)",
   "language": "python",
   "name": "python3"
  },
  "language_info": {
   "codemirror_mode": {
    "name": "ipython",
    "version": 3
   },
   "file_extension": ".py",
   "mimetype": "text/x-python",
   "name": "python",
   "nbconvert_exporter": "python",
   "pygments_lexer": "ipython3",
   "version": "3.9.12"
  }
 },
 "nbformat": 4,
 "nbformat_minor": 5
}
