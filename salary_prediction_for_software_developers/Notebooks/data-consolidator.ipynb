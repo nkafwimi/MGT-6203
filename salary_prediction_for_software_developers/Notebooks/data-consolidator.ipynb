{
 "cells": [
  {
   "cell_type": "code",
   "execution_count": 144,
   "id": "ddd117c9",
   "metadata": {},
   "outputs": [],
   "source": [
    "import pandas as pd\n",
    "import numpy as np\n",
    "import math\n",
    "import random"
   ]
  },
  {
   "cell_type": "code",
   "execution_count": 2,
   "id": "9e6bca05",
   "metadata": {},
   "outputs": [],
   "source": [
    "df_11 = pd.read_csv(\"../Data/filtered/2011.csv\", sep=\",\", encoding='Latin-1', low_memory=False)\n",
    "df_12 = pd.read_csv(\"../Data/filtered/2012.csv\", sep=\",\", encoding='Latin-1', low_memory=False)\n",
    "df_13 = pd.read_csv(\"../Data/filtered/2013.csv\", sep=\",\", encoding='Latin-1', low_memory=False)\n",
    "df_14 = pd.read_csv(\"../Data/filtered/2014.csv\", sep=\",\", encoding='Latin-1', low_memory=False)\n",
    "df_15 = pd.read_csv(\"../Data/filtered/2015.csv\", sep=\",\", encoding='Latin-1', low_memory=False)\n",
    "df_16 = pd.read_csv(\"../Data/filtered/2016.csv\", sep=\",\", encoding='Latin-1', low_memory=False)\n",
    "df_17 = pd.read_csv(\"../Data/filtered/2017.csv\", sep=\",\", encoding='Latin-1', low_memory=False)\n",
    "df_18 = pd.read_csv(\"../Data/filtered/2018.csv\", sep=\",\", encoding='Latin-1', low_memory=False)\n",
    "df_19 = pd.read_csv(\"../Data/filtered/2019.csv\", sep=\",\", encoding='Latin-1', low_memory=False)\n",
    "df_20 = pd.read_csv(\"../Data/filtered/2020.csv\", sep=\",\", encoding='Latin-1', low_memory=False)\n",
    "df_21 = pd.read_csv(\"../Data/filtered/2021.csv\", sep=\",\", encoding='Latin-1', low_memory=False)"
   ]
  },
  {
   "cell_type": "code",
   "execution_count": 166,
   "id": "436512ac",
   "metadata": {},
   "outputs": [
    {
     "name": "stdout",
     "output_type": "stream",
     "text": [
      "2011 : ['compensation', 'country', 'age', 'gender', 'IT_experience_in_years', 'company_size', 'occupation', 'proficient_languages', 'desktop_OS', 'job_satisfaction', 'year']\n",
      "------------------------------------------------------------------------------------------------\n",
      "  \n",
      "2012 : ['compensation', 'country', 'age', 'gender', 'IT_experience_in_years', 'company_size', 'occupation', 'proficient_languages', 'desktop_OS', 'job_satisfaction', 'year']\n",
      "------------------------------------------------------------------------------------------------\n",
      "  \n",
      "2013 : ['compensation', 'country', 'age', 'gender', 'IT_experience_in_years', 'company_size', 'occupation', 'proficient_languages', 'desktop_OS', 'job_satisfaction', 'year']\n",
      "------------------------------------------------------------------------------------------------\n",
      "  \n",
      "2014 : ['compensation', 'country', 'age', 'gender', 'IT_experience_in_years', 'company_size', 'occupation', 'proficient_languages', 'desktop_OS', 'job_satisfaction', 'year']\n",
      "------------------------------------------------------------------------------------------------\n",
      "  \n",
      "2015 : ['compensation', 'country', 'age', 'gender', 'IT_experience_in_years', 'company_size', 'occupation', 'proficient_languages', 'desktop_OS', 'job_satisfaction', 'year']\n",
      "------------------------------------------------------------------------------------------------\n",
      "  \n",
      "2016 : ['compensation', 'country', 'age', 'gender', 'IT_experience_in_years', 'company_size', 'occupation', 'proficient_languages', 'desktop_OS', 'job_satisfaction', 'year']\n",
      "------------------------------------------------------------------------------------------------\n",
      "  \n",
      "2017 : ['compensation', 'country', 'age', 'gender', 'IT_experience_in_years', 'company_size', 'occupation', 'proficient_languages', 'desktop_OS', 'job_satisfaction', 'year']\n",
      "------------------------------------------------------------------------------------------------\n",
      "  \n",
      "2018 : ['compensation', 'country', 'age', 'gender', 'IT_experience_in_years', 'company_size', 'occupation', 'proficient_languages', 'desktop_OS', 'job_satisfaction', 'year']\n",
      "------------------------------------------------------------------------------------------------\n",
      "  \n",
      "2019 : ['compensation', 'country', 'age', 'gender', 'IT_experience_in_years', 'company_size', 'occupation', 'proficient_languages', 'desktop_OS', 'job_satisfaction', 'year']\n",
      "------------------------------------------------------------------------------------------------\n",
      "  \n",
      "2020 : ['compensation', 'country', 'age', 'gender', 'IT_experience_in_years', 'company_size', 'occupation', 'proficient_languages', 'desktop_OS', 'job_satisfaction', 'year']\n",
      "------------------------------------------------------------------------------------------------\n",
      "  \n",
      "2021 : ['compensation', 'country', 'age', 'gender', 'IT_experience_in_years', 'company_size', 'occupation', 'proficient_languages', 'desktop_OS', 'job_satisfaction', 'year']\n",
      "------------------------------------------------------------------------------------------------\n",
      "  \n"
     ]
    }
   ],
   "source": [
    "all_data = {2011: df_11, \n",
    "            2012: df_12, \n",
    "            2013: df_13, \n",
    "            2014: df_14, \n",
    "            2015: df_15, \n",
    "            2016: df_16, \n",
    "            2017: df_17, \n",
    "            2018: df_18, \n",
    "            2019: df_19, \n",
    "            2020: df_20, \n",
    "            2021: df_21}\n",
    "\n",
    "for key, val in all_data.items():\n",
    "    print(f\"{key} : {list(val.columns)}\")\n",
    "    print(\"------------------------------------------------------------------------------------------------\")\n",
    "    print(\"  \")"
   ]
  },
  {
   "cell_type": "markdown",
   "id": "d7250c2c",
   "metadata": {},
   "source": [
    "### Attributes Verification\n",
    "\n",
    "**1.Country**\n",
    "\n",
    "All the years has country information will be used as is \n",
    "\n",
    "**2.Age** \n",
    "\n",
    "2016 has both age rage and specific age value, since most of the years has rage retaining the range as teh values\n",
    "\n",
    "2017 has no age column will be imputed as number of years of experience+22 as 22 is the minimum age once attains after degree"
   ]
  },
  {
   "cell_type": "code",
   "execution_count": 141,
   "id": "50b81d6d",
   "metadata": {},
   "outputs": [],
   "source": [
    "df_16['age'] = df_16['age_range']"
   ]
  },
  {
   "cell_type": "code",
   "execution_count": 142,
   "id": "e3406c23",
   "metadata": {},
   "outputs": [],
   "source": [
    "age_map_17 = dict()\n",
    "base_age = 22\n",
    "for val in list(df_17['IT_experience_in_years'].unique()):\n",
    "    if str(val) != 'nan': \n",
    "        least_exp = val.split(\" \")[0]\n",
    "        age_map_17[val] = int(least_exp)+base_age if least_exp.isnumeric() else 1+base_age \n",
    "age_map_17['nan'] = None\n",
    "df_17['age'] = df_17['IT_experience_in_years']\n",
    "df_17['age']= df_17['age'].map(age_map_17)"
   ]
  },
  {
   "cell_type": "markdown",
   "id": "e1fa8d79",
   "metadata": {},
   "source": [
    "**3.IT_experience_in_years**\n",
    "\n",
    "2016 : Range will be considered "
   ]
  },
  {
   "cell_type": "code",
   "execution_count": 143,
   "id": "2bb255af",
   "metadata": {},
   "outputs": [],
   "source": [
    "df_16[\"IT_experience_in_years\"] = df_16[\"IT_experience_in_years_range\"]"
   ]
  },
  {
   "cell_type": "markdown",
   "id": "9fc54f5a",
   "metadata": {},
   "source": [
    "**Industry**\n",
    "\n",
    "Is available only for 2011, 2012, 2013, 2014, 2015, 2016 (6 years) and missing in 5 years which would be hard to impute hence dropping this column"
   ]
  },
  {
   "cell_type": "markdown",
   "id": "2dd5de26",
   "metadata": {},
   "source": [
    "**4.Company_size**\n",
    "\n",
    "2015: Data needs to be imputed for now all the values will be marked as unknown\n",
    "\n",
    "All the years has company size information will be used as is "
   ]
  },
  {
   "cell_type": "code",
   "execution_count": 162,
   "id": "a4381d2a",
   "metadata": {},
   "outputs": [],
   "source": [
    "df_15['company_size'] = 'unknown'"
   ]
  },
  {
   "cell_type": "markdown",
   "id": "2c6593cd",
   "metadata": {},
   "source": [
    "**5.Occupation**\n",
    "\n",
    "All the years has company size information will be used as is \n",
    "\n",
    "**Current_development_project**\n",
    "\n",
    "This information is available only in 2011 and 2012 and their values are not significant for our analysis hence dropping the column\n",
    "\n",
    "**6.Proficient_languages** \n",
    "\n",
    "This columns has list of langugages for all the years hence will be used as is\n",
    "\n",
    "**7.Desktop_OS**\n",
    "\n",
    "2017 desktoop information is captured as part of platform worked will be imputed using that information"
   ]
  },
  {
   "cell_type": "code",
   "execution_count": 130,
   "id": "89b72990",
   "metadata": {},
   "outputs": [],
   "source": [
    "desktop_possible_values = ['Linux-based', 'MacOS', 'Windows']"
   ]
  },
  {
   "cell_type": "code",
   "execution_count": 131,
   "id": "003c49e1",
   "metadata": {},
   "outputs": [],
   "source": [
    "df_17[\"desktop_OS\"] = df_17[\"platform_worked_on\"]"
   ]
  },
  {
   "cell_type": "code",
   "execution_count": 132,
   "id": "881f673c",
   "metadata": {},
   "outputs": [],
   "source": [
    "stupid = []\n",
    "def get_desktop_os(platform_list):  \n",
    "    try:\n",
    "        if len(platform_list) == 0:        \n",
    "            return np.nan    \n",
    "        else:\n",
    "            if platform_list in desktop_possible_values:\n",
    "                return platform_list\n",
    "            else:\n",
    "                return np.nan\n",
    "    except:\n",
    "        return np.nan"
   ]
  },
  {
   "cell_type": "code",
   "execution_count": 133,
   "id": "82f562fa",
   "metadata": {},
   "outputs": [],
   "source": [
    "df_17['desktop_OS'] = df['desktop_OS'].map(get_desktop_os)"
   ]
  },
  {
   "cell_type": "markdown",
   "id": "89c1ff8b",
   "metadata": {},
   "source": [
    "**8.Job_satisfaction**\n",
    "\n",
    "This attribute is available only for 7 years For the years where this attribute is not available will be marked as unknown"
   ]
  },
  {
   "cell_type": "code",
   "execution_count": 140,
   "id": "8c333979",
   "metadata": {},
   "outputs": [],
   "source": [
    "df_14[\"job_satisfaction\"] = 'unknown'\n",
    "df_15[\"job_satisfaction\"] = 'unknown'\n",
    "df_16[\"job_satisfaction\"] = 'unknown'\n",
    "df_21[\"job_satisfaction\"] = 'unknown'"
   ]
  },
  {
   "cell_type": "markdown",
   "id": "a18f8331",
   "metadata": {},
   "source": [
    "**9.Gender** \n",
    "\n",
    "This attribute is missed for 2011, 2012, 2013. Imputing the missing values based on industry standards "
   ]
  },
  {
   "cell_type": "code",
   "execution_count": 148,
   "id": "77eac612",
   "metadata": {},
   "outputs": [],
   "source": [
    "numberList = ['Female','Male', 'Other']\n",
    "\n",
    "df_11[\"gender\"] = random.choices(numberList, weights=(28,70, 2), k=df_11.shape[0])\n",
    "df_12[\"gender\"] = random.choices(numberList, weights=(28,70, 2), k=df_12.shape[0])\n",
    "df_13[\"gender\"] = random.choices(numberList, weights=(28,70, 2), k=df_13.shape[0])"
   ]
  },
  {
   "cell_type": "markdown",
   "id": "09bbcffd",
   "metadata": {},
   "source": [
    "**10.Compensation**\n",
    "\n",
    "2016 There is range and mid value for salary would be considering range as compensation"
   ]
  },
  {
   "cell_type": "code",
   "execution_count": 151,
   "id": "6ac1d180",
   "metadata": {},
   "outputs": [],
   "source": [
    "df_16[\"compensation\"] = df_16[\"salary_range\"]"
   ]
  },
  {
   "cell_type": "markdown",
   "id": "f13f8058",
   "metadata": {},
   "source": [
    "## Merge all the years"
   ]
  },
  {
   "cell_type": "code",
   "execution_count": 153,
   "id": "9f93c9e4",
   "metadata": {},
   "outputs": [],
   "source": [
    "df_11[\"year\"] = 2011\n",
    "df_12[\"year\"] = 2012\n",
    "df_13[\"year\"] = 2013\n",
    "df_14[\"year\"] = 2014\n",
    "df_15[\"year\"] = 2015\n",
    "df_16[\"year\"] = 2016\n",
    "df_17[\"year\"] = 2017\n",
    "df_18[\"year\"] = 2018\n",
    "df_19[\"year\"] = 2019\n",
    "df_20[\"year\"] = 2020\n",
    "df_21[\"year\"] = 2021"
   ]
  },
  {
   "cell_type": "code",
   "execution_count": 171,
   "id": "2a5e3fa0",
   "metadata": {},
   "outputs": [],
   "source": [
    "columns_list = ['compensation', 'year', 'country', 'age', 'gender', 'IT_experience_in_years', \n",
    "                'company_size',  'occupation', 'proficient_languages', 'desktop_OS', \n",
    "                'job_satisfaction']\n",
    "\n",
    "# Filter the dataframe by listed columns \n",
    "df_11 = df_11[columns_list]\n",
    "df_12 = df_12[columns_list]\n",
    "df_13 = df_13[columns_list]\n",
    "df_14 = df_14[columns_list]\n",
    "df_15 = df_15[columns_list]\n",
    "df_16 = df_16[columns_list]\n",
    "df_17 = df_17[columns_list]\n",
    "df_18 = df_18[columns_list]\n",
    "df_19 = df_19[columns_list]\n",
    "df_20 = df_20[columns_list]\n",
    "df_21 = df_21[columns_list]"
   ]
  },
  {
   "cell_type": "code",
   "execution_count": 172,
   "id": "f98f98d2",
   "metadata": {},
   "outputs": [
    {
     "name": "stdout",
     "output_type": "stream",
     "text": [
      "2011 : ['compensation', 'year', 'country', 'age', 'gender', 'IT_experience_in_years', 'company_size', 'occupation', 'proficient_languages', 'desktop_OS', 'job_satisfaction']\n",
      "------------------------------------------------------------------------------------------------\n",
      "  \n",
      "2012 : ['compensation', 'year', 'country', 'age', 'gender', 'IT_experience_in_years', 'company_size', 'occupation', 'proficient_languages', 'desktop_OS', 'job_satisfaction']\n",
      "------------------------------------------------------------------------------------------------\n",
      "  \n",
      "2013 : ['compensation', 'year', 'country', 'age', 'gender', 'IT_experience_in_years', 'company_size', 'occupation', 'proficient_languages', 'desktop_OS', 'job_satisfaction']\n",
      "------------------------------------------------------------------------------------------------\n",
      "  \n",
      "2014 : ['compensation', 'year', 'country', 'age', 'gender', 'IT_experience_in_years', 'company_size', 'occupation', 'proficient_languages', 'desktop_OS', 'job_satisfaction']\n",
      "------------------------------------------------------------------------------------------------\n",
      "  \n",
      "2015 : ['compensation', 'year', 'country', 'age', 'gender', 'IT_experience_in_years', 'company_size', 'occupation', 'proficient_languages', 'desktop_OS', 'job_satisfaction']\n",
      "------------------------------------------------------------------------------------------------\n",
      "  \n",
      "2016 : ['compensation', 'year', 'country', 'age', 'gender', 'IT_experience_in_years', 'company_size', 'occupation', 'proficient_languages', 'desktop_OS', 'job_satisfaction']\n",
      "------------------------------------------------------------------------------------------------\n",
      "  \n",
      "2017 : ['compensation', 'year', 'country', 'age', 'gender', 'IT_experience_in_years', 'company_size', 'occupation', 'proficient_languages', 'desktop_OS', 'job_satisfaction']\n",
      "------------------------------------------------------------------------------------------------\n",
      "  \n",
      "2018 : ['compensation', 'year', 'country', 'age', 'gender', 'IT_experience_in_years', 'company_size', 'occupation', 'proficient_languages', 'desktop_OS', 'job_satisfaction']\n",
      "------------------------------------------------------------------------------------------------\n",
      "  \n",
      "2019 : ['compensation', 'year', 'country', 'age', 'gender', 'IT_experience_in_years', 'company_size', 'occupation', 'proficient_languages', 'desktop_OS', 'job_satisfaction']\n",
      "------------------------------------------------------------------------------------------------\n",
      "  \n",
      "2020 : ['compensation', 'year', 'country', 'age', 'gender', 'IT_experience_in_years', 'company_size', 'occupation', 'proficient_languages', 'desktop_OS', 'job_satisfaction']\n",
      "------------------------------------------------------------------------------------------------\n",
      "  \n",
      "2021 : ['compensation', 'year', 'country', 'age', 'gender', 'IT_experience_in_years', 'company_size', 'occupation', 'proficient_languages', 'desktop_OS', 'job_satisfaction']\n",
      "------------------------------------------------------------------------------------------------\n",
      "  \n"
     ]
    }
   ],
   "source": [
    "all_data = {2011: df_11, \n",
    "            2012: df_12, \n",
    "            2013: df_13, \n",
    "            2014: df_14, \n",
    "            2015: df_15, \n",
    "            2016: df_16, \n",
    "            2017: df_17, \n",
    "            2018: df_18, \n",
    "            2019: df_19, \n",
    "            2020: df_20, \n",
    "            2021: df_21}\n",
    "\n",
    "for key, val in all_data.items():\n",
    "    print(f\"{key} : {list(val.columns)}\")\n",
    "    print(\"------------------------------------------------------------------------------------------------\")\n",
    "    print(\"  \")"
   ]
  },
  {
   "cell_type": "code",
   "execution_count": 174,
   "id": "939553c7",
   "metadata": {},
   "outputs": [],
   "source": [
    "master_df = pd.concat(list(all_data.values()), ignore_index=True)"
   ]
  },
  {
   "cell_type": "code",
   "execution_count": 176,
   "id": "68cf1d10",
   "metadata": {},
   "outputs": [],
   "source": [
    "master_df.to_csv(\"../Data/filtered/master-data.csv\", index=False)"
   ]
  },
  {
   "cell_type": "code",
   "execution_count": 177,
   "id": "135db3aa",
   "metadata": {},
   "outputs": [
    {
     "name": "stdout",
     "output_type": "stream",
     "text": [
      "(495587, 11)\n"
     ]
    }
   ],
   "source": [
    "print(master_df.shape)"
   ]
  },
  {
   "cell_type": "code",
   "execution_count": null,
   "id": "39970257",
   "metadata": {},
   "outputs": [],
   "source": []
  }
 ],
 "metadata": {
  "kernelspec": {
   "display_name": "Python 3 (ipykernel)",
   "language": "python",
   "name": "python3"
  },
  "language_info": {
   "codemirror_mode": {
    "name": "ipython",
    "version": 3
   },
   "file_extension": ".py",
   "mimetype": "text/x-python",
   "name": "python",
   "nbconvert_exporter": "python",
   "pygments_lexer": "ipython3",
   "version": "3.9.12"
  }
 },
 "nbformat": 4,
 "nbformat_minor": 5
}
